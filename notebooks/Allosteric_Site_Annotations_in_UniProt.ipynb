{
 "cells": [
  {
   "cell_type": "code",
   "execution_count": 1,
   "id": "4beda53f-0174-463b-8541-900d4730d9cc",
   "metadata": {},
   "outputs": [],
   "source": [
    "import SPARQLWrapper\n",
    "import tqdm\n",
    "import itertools\n",
    "import pandas as pd"
   ]
  },
  {
   "cell_type": "code",
   "execution_count": 2,
   "id": "85574ba3-35c9-4ff5-a8b5-f852d523463c",
   "metadata": {},
   "outputs": [
    {
     "name": "stdout",
     "output_type": "stream",
     "text": [
      "CPU times: total: 3.42 s\n",
      "Wall time: 6min 10s\n"
     ]
    }
   ],
   "source": [
    "%%time\n",
    "\n",
    "# Set the SPARQL endpoint (UniProt)\n",
    "sparql = SPARQLWrapper.SPARQLWrapper(\"https://sparql.uniprot.org/sparql\")\n",
    "\n",
    "# Define the query\n",
    "query_string = f\"\"\"\n",
    "PREFIX rdfs: <http://www.w3.org/2000/01/rdf-schema#>\n",
    "PREFIX rdf: <http://www.w3.org/1999/02/22-rdf-syntax-ns#>\n",
    "PREFIX faldo: <http://biohackathon.org/resource/faldo#>\n",
    "PREFIX uniprotkb: <http://purl.uniprot.org/uniprot/>\n",
    "PREFIX up: <http://purl.uniprot.org/core/>\n",
    "SELECT DISTINCT ?uniprot_id ?begin ?end ?comment\n",
    "WHERE\n",
    "{{\n",
    "  ?protein up:annotation ?annotation .\n",
    "  BIND(substr(str(?protein), strlen(str(uniprotkb:))+1) AS ?uniprot_id)\n",
    "  \n",
    "  ?annotation a up:Binding_Site_Annotation .\n",
    "  ?annotation rdf:type ?type .\n",
    "  BIND(substr(str(?type), strlen(str(up:))+1) AS ?site)\n",
    "  ?annotation up:range ?range .\n",
    "  ?range faldo:begin/faldo:position ?begin .\n",
    "  ?range faldo:end/faldo:position ?end .\n",
    "  \n",
    "  ?annotation up:ligand ?ligand .\n",
    "  ?ligand rdfs:comment ?comment .\n",
    "  FILTER(REGEX(?comment, \"allosteric\", \"i\"))\n",
    "}}\n",
    "\"\"\"\n",
    "sparql.setQuery(query_string)\n",
    "\n",
    "# Set the output format as JSON\n",
    "sparql.setReturnFormat(SPARQLWrapper.JSON)\n",
    "    \n",
    "# Run the SPARQL query and convert to the defined format\n",
    "data = sparql.query().convert()"
   ]
  },
  {
   "cell_type": "code",
   "execution_count": 21,
   "id": "563be992-444c-4e9d-9cb6-83abf50a35ef",
   "metadata": {},
   "outputs": [],
   "source": [
    "# Store the query result\n",
    "allosteric_site_annotations = []\n",
    "for result in data[\"results\"][\"bindings\"]:\n",
    "    allosteric_site_annotations.append({key: value['value'] for key, value in result.items()})\n",
    "\n",
    "df_allosteric_sites = pd.DataFrame(allosteric_site_annotations, columns=['uniprot_id', 'begin', 'end', 'comment'])"
   ]
  },
  {
   "cell_type": "code",
   "execution_count": 22,
   "id": "d709a43e-f30c-46c2-8fbb-e9ad011efa44",
   "metadata": {},
   "outputs": [
    {
     "data": {
      "text/plain": [
       "65855"
      ]
     },
     "execution_count": 22,
     "metadata": {},
     "output_type": "execute_result"
    }
   ],
   "source": [
    "df_allosteric_sites['uniprot_id'].nunique()"
   ]
  },
  {
   "cell_type": "code",
   "execution_count": 23,
   "id": "97058aef-fc0f-4e1b-8f67-5ca8049dfcb1",
   "metadata": {},
   "outputs": [],
   "source": [
    "df_allosteric_sites.to_csv('Allosteric_Site_Annotations_UniProt.csv', index=False)"
   ]
  },
  {
   "cell_type": "code",
   "execution_count": 24,
   "id": "0292af79-c3f6-46aa-becd-c812a2a75063",
   "metadata": {},
   "outputs": [
    {
     "data": {
      "text/html": [
       "<div>\n",
       "<style scoped>\n",
       "    .dataframe tbody tr th:only-of-type {\n",
       "        vertical-align: middle;\n",
       "    }\n",
       "\n",
       "    .dataframe tbody tr th {\n",
       "        vertical-align: top;\n",
       "    }\n",
       "\n",
       "    .dataframe thead th {\n",
       "        text-align: right;\n",
       "    }\n",
       "</style>\n",
       "<table border=\"1\" class=\"dataframe\">\n",
       "  <thead>\n",
       "    <tr style=\"text-align: right;\">\n",
       "      <th></th>\n",
       "      <th>uniprot_id</th>\n",
       "      <th>begin</th>\n",
       "      <th>end</th>\n",
       "      <th>comment</th>\n",
       "    </tr>\n",
       "  </thead>\n",
       "  <tbody>\n",
       "    <tr>\n",
       "      <th>0</th>\n",
       "      <td>C1F1E7</td>\n",
       "      <td>187</td>\n",
       "      <td>192</td>\n",
       "      <td>allosteric inhibitor</td>\n",
       "    </tr>\n",
       "    <tr>\n",
       "      <th>1</th>\n",
       "      <td>C1F1E7</td>\n",
       "      <td>147</td>\n",
       "      <td>149</td>\n",
       "      <td>allosteric inhibitor</td>\n",
       "    </tr>\n",
       "    <tr>\n",
       "      <th>2</th>\n",
       "      <td>C1F1E7</td>\n",
       "      <td>14</td>\n",
       "      <td>14</td>\n",
       "      <td>allosteric inhibitor</td>\n",
       "    </tr>\n",
       "    <tr>\n",
       "      <th>3</th>\n",
       "      <td>C1F1E7</td>\n",
       "      <td>223</td>\n",
       "      <td>223</td>\n",
       "      <td>allosteric inhibitor</td>\n",
       "    </tr>\n",
       "    <tr>\n",
       "      <th>4</th>\n",
       "      <td>Q1IKC9</td>\n",
       "      <td>187</td>\n",
       "      <td>192</td>\n",
       "      <td>allosteric inhibitor</td>\n",
       "    </tr>\n",
       "    <tr>\n",
       "      <th>...</th>\n",
       "      <td>...</td>\n",
       "      <td>...</td>\n",
       "      <td>...</td>\n",
       "      <td>...</td>\n",
       "    </tr>\n",
       "    <tr>\n",
       "      <th>271838</th>\n",
       "      <td>A0A5N6KQS5</td>\n",
       "      <td>545</td>\n",
       "      <td>549</td>\n",
       "      <td>allosteric activator; ligand shared between di...</td>\n",
       "    </tr>\n",
       "    <tr>\n",
       "      <th>271839</th>\n",
       "      <td>A0A5N6KQS5</td>\n",
       "      <td>676</td>\n",
       "      <td>676</td>\n",
       "      <td>allosteric activator; ligand shared between di...</td>\n",
       "    </tr>\n",
       "    <tr>\n",
       "      <th>271840</th>\n",
       "      <td>A0A5N6KQS5</td>\n",
       "      <td>754</td>\n",
       "      <td>754</td>\n",
       "      <td>allosteric activator; ligand shared between di...</td>\n",
       "    </tr>\n",
       "    <tr>\n",
       "      <th>271841</th>\n",
       "      <td>A0A5N6KQS5</td>\n",
       "      <td>590</td>\n",
       "      <td>592</td>\n",
       "      <td>allosteric activator; ligand shared between di...</td>\n",
       "    </tr>\n",
       "    <tr>\n",
       "      <th>271842</th>\n",
       "      <td>A0A5N6KQS5</td>\n",
       "      <td>682</td>\n",
       "      <td>685</td>\n",
       "      <td>allosteric activator; ligand shared between di...</td>\n",
       "    </tr>\n",
       "  </tbody>\n",
       "</table>\n",
       "<p>271843 rows × 4 columns</p>\n",
       "</div>"
      ],
      "text/plain": [
       "        uniprot_id begin  end  \\\n",
       "0           C1F1E7   187  192   \n",
       "1           C1F1E7   147  149   \n",
       "2           C1F1E7    14   14   \n",
       "3           C1F1E7   223  223   \n",
       "4           Q1IKC9   187  192   \n",
       "...            ...   ...  ...   \n",
       "271838  A0A5N6KQS5   545  549   \n",
       "271839  A0A5N6KQS5   676  676   \n",
       "271840  A0A5N6KQS5   754  754   \n",
       "271841  A0A5N6KQS5   590  592   \n",
       "271842  A0A5N6KQS5   682  685   \n",
       "\n",
       "                                                  comment  \n",
       "0                                    allosteric inhibitor  \n",
       "1                                    allosteric inhibitor  \n",
       "2                                    allosteric inhibitor  \n",
       "3                                    allosteric inhibitor  \n",
       "4                                    allosteric inhibitor  \n",
       "...                                                   ...  \n",
       "271838  allosteric activator; ligand shared between di...  \n",
       "271839  allosteric activator; ligand shared between di...  \n",
       "271840  allosteric activator; ligand shared between di...  \n",
       "271841  allosteric activator; ligand shared between di...  \n",
       "271842  allosteric activator; ligand shared between di...  \n",
       "\n",
       "[271843 rows x 4 columns]"
      ]
     },
     "execution_count": 24,
     "metadata": {},
     "output_type": "execute_result"
    }
   ],
   "source": [
    "df_allosteric_sites"
   ]
  },
  {
   "cell_type": "code",
   "execution_count": 26,
   "id": "dfbb09b7-ca97-42fe-9aa2-25582ffae728",
   "metadata": {},
   "outputs": [
    {
     "data": {
      "text/plain": [
       "comment\n",
       "allosteric inhibitor                                                                  151102\n",
       "allosteric activator; ligand shared between dimeric partners                          105141\n",
       "allosteric activator                                                                   15137\n",
       "allosteric activator; ligand shared between two neighboring subunits                     115\n",
       "allosteric effector that controls substrate specificity                                  110\n",
       "allosteric activator; ligand shared between 3 neighboring subunits of the tetramer        97\n",
       "allosteric activator; ligand shared with subunit beta                                     40\n",
       "allosteric effector                                                                       37\n",
       "allosteric activator; ligand shared with subunit alpha                                    36\n",
       "allosteric inhibitor; ligand shared between dimeric partners                              23\n",
       "allosteric inhibitor; ligand shared between homodimeric partners                           5\n",
       "Name: count, dtype: int64"
      ]
     },
     "execution_count": 26,
     "metadata": {},
     "output_type": "execute_result"
    }
   ],
   "source": [
    "df_allosteric_sites.value_counts('comment')"
   ]
  },
  {
   "cell_type": "code",
   "execution_count": null,
   "id": "3dbd4311-03b9-4eb6-b594-b43cb883d3a4",
   "metadata": {},
   "outputs": [],
   "source": []
  }
 ],
 "metadata": {
  "kernelspec": {
   "display_name": "Python 3 (ipykernel)",
   "language": "python",
   "name": "python3"
  },
  "language_info": {
   "codemirror_mode": {
    "name": "ipython",
    "version": 3
   },
   "file_extension": ".py",
   "mimetype": "text/x-python",
   "name": "python",
   "nbconvert_exporter": "python",
   "pygments_lexer": "ipython3",
   "version": "3.12.7"
  }
 },
 "nbformat": 4,
 "nbformat_minor": 5
}
