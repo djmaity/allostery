{
 "cells": [
  {
   "cell_type": "markdown",
   "id": "7496f71e-4a49-4212-9240-7a857c90d202",
   "metadata": {},
   "source": [
    "# Test Set Creation"
   ]
  },
  {
   "cell_type": "code",
   "execution_count": 1,
   "id": "c723b9fc-9714-4bc2-b6ec-1aa225581a31",
   "metadata": {
    "jupyter": {
     "source_hidden": true
    }
   },
   "outputs": [],
   "source": [
    "import gzip\n",
    "import json\n",
    "import os\n",
    "import warnings\n",
    "import requests\n",
    "import urllib.request\n",
    "from glob import glob\n",
    "\n",
    "# import get_pdb_data\n",
    "import pandas as pd\n",
    "from Bio.PDB import PDBParser\n",
    "from tqdm import tqdm\n",
    "from SPARQLWrapper import SPARQLWrapper, JSON\n",
    "import itertools\n",
    "\n",
    "\n",
    "def uniref50_clusters(uniprot_ids):\n",
    "    # Set the SPARQL endpoint (UniProt)\n",
    "    sparql = SPARQLWrapper(\"https://sparql.uniprot.org/sparql\")\n",
    "\n",
    "    output = []\n",
    "    for uniprot_subset in tqdm(itertools.batched(uniprot_ids, 200)):\n",
    "        uniprot_string = ' '.join([f'uniprotkb:{id}' for id in uniprot_subset])\n",
    "                 \n",
    "        # Define the query\n",
    "        query_string = f\"\"\"\n",
    "PREFIX up: <http://purl.uniprot.org/core/>\n",
    "PREFIX uniprotkb: <http://purl.uniprot.org/uniprot/>\n",
    "PREFIX uniref: <http://purl.uniprot.org/uniref/>\n",
    "\n",
    "SELECT ?primaryAccession ?cluster_id\n",
    "FROM <http://sparql.uniprot.org/uniref>\n",
    "FROM <http://sparql.uniprot.org/uniprot>\n",
    "WHERE\n",
    "{{\n",
    "    VALUES ?protein {{ {uniprot_string} }}\n",
    "    ?cluster up:member/up:sequenceFor ?protein;\n",
    "             up:identity 0.5 .\n",
    "    BIND(substr(str(?protein), strlen(str(uniprotkb:))+1) AS ?primaryAccession)\n",
    "    BIND(substr(str(?cluster), strlen(str(uniref:))+1) AS ?cluster_id)\n",
    "}}\"\"\"\n",
    "        sparql.setQuery(query_string)\n",
    "    \n",
    "        # Set the output format as JSON\n",
    "        sparql.setReturnFormat(JSON)\n",
    "        \n",
    "        # Run the SPARQL query and convert to the defined format\n",
    "        results = sparql.query().convert()\n",
    "\n",
    "        # Print the query result\n",
    "        for result in results[\"results\"][\"bindings\"]:\n",
    "            output.append([result[\"primaryAccession\"][\"value\"],\n",
    "                           result[\"cluster_id\"][\"value\"]])\n",
    "    return pd.DataFrame(output, columns=['uniprot_id', 'uniref50_cluster'])\n",
    "\n",
    "\n",
    "protein_letters_1to3 = {\"A\": \"ALA\", \"C\": \"CYS\", \"D\": \"ASP\", \"E\": \"GLU\",\n",
    "                        \"F\": \"PHE\", \"G\": \"GLY\", \"H\": \"HIS\", \"I\": \"ILE\",\n",
    "                        \"K\": \"LYS\", \"L\": \"LEU\", \"M\": \"MET\", \"N\": \"ASN\",\n",
    "                        \"P\": \"PRO\", \"Q\": \"GLN\", \"R\": \"ARG\", \"S\": \"SER\",\n",
    "                        \"T\": \"THR\", \"V\": \"VAL\", \"W\": \"TRP\", \"Y\": \"TYR\"}"
   ]
  },
  {
   "cell_type": "markdown",
   "id": "a485e3d7-edb8-402f-bfac-0d0649beec25",
   "metadata": {},
   "source": [
    "Combined of list of PDBs used to train AlloPred, AlloSite, PASSER, and other ML based allosteric site prediction packages"
   ]
  },
  {
   "cell_type": "code",
   "execution_count": 2,
   "id": "e85b274b-c70c-4afe-acd1-4bcdd9202a5e",
   "metadata": {},
   "outputs": [],
   "source": [
    "df_training = pd.read_csv('../output/Proteins_in_Training_Sets.csv')"
   ]
  },
  {
   "cell_type": "code",
   "execution_count": 3,
   "id": "b2799164-4e5c-4dc9-a7ba-0a0d7df893bc",
   "metadata": {},
   "outputs": [
    {
     "name": "stdout",
     "output_type": "stream",
     "text": [
      "Number of Rows:              363\n",
      "Number of Unique PDB IDs:    360\n",
      "Number of Unique UniProt AC: 266\n"
     ]
    }
   ],
   "source": [
    "print('Number of Rows:             ', df_training.shape[0])\n",
    "print('Number of Unique PDB IDs:   ', df_training['pdb_id'].nunique())\n",
    "print('Number of Unique UniProt AC:', df_training['uniprot_id'].nunique())"
   ]
  },
  {
   "cell_type": "code",
   "execution_count": 4,
   "id": "0cddd950-2e8e-4286-9ea6-4a72bf0c2e88",
   "metadata": {},
   "outputs": [],
   "source": [
    "df_asd_with_active_site = pd.read_csv('../output/ASD_with_Potential_Binding_Site.csv')"
   ]
  },
  {
   "cell_type": "code",
   "execution_count": 5,
   "id": "9f9b7494-2f78-4950-823d-f3f611f73c48",
   "metadata": {},
   "outputs": [
    {
     "data": {
      "text/plain": [
       "Index(['target_id', 'target_gene', 'organism', 'allosteric_pdb',\n",
       "       'modulator_serial', 'modulator_alias', 'modulator_chain',\n",
       "       'modulator_class', 'modulator_feature', 'modulator_name',\n",
       "       'modulator_resi', 'function', 'position', 'pubmed_id', 'ref_title',\n",
       "       'site_overlap', 'allosteric_site_residues', 'pdb_uniprot', 'sequence',\n",
       "       'active_site_residues', 'catalytic_site', 'catalytic_site_resids',\n",
       "       'Number_of_Binding_Site_Residues',\n",
       "       'Number_of_Allosteric_Site_Residues'],\n",
       "      dtype='object')"
      ]
     },
     "execution_count": 5,
     "metadata": {},
     "output_type": "execute_result"
    }
   ],
   "source": [
    "df_asd_with_active_site.columns"
   ]
  },
  {
   "cell_type": "code",
   "execution_count": 6,
   "id": "cbe7ee7f-4c29-44f1-b80b-dd5f24a9c480",
   "metadata": {
    "scrolled": true
   },
   "outputs": [
    {
     "data": {
      "text/html": [
       "<div>\n",
       "<style scoped>\n",
       "    .dataframe tbody tr th:only-of-type {\n",
       "        vertical-align: middle;\n",
       "    }\n",
       "\n",
       "    .dataframe tbody tr th {\n",
       "        vertical-align: top;\n",
       "    }\n",
       "\n",
       "    .dataframe thead th {\n",
       "        text-align: right;\n",
       "    }\n",
       "</style>\n",
       "<table border=\"1\" class=\"dataframe\">\n",
       "  <thead>\n",
       "    <tr style=\"text-align: right;\">\n",
       "      <th></th>\n",
       "      <th>pdb_uniprot</th>\n",
       "      <th>allosteric_pdb</th>\n",
       "      <th>allosteric_site_residues</th>\n",
       "      <th>modulator_chain</th>\n",
       "      <th>allosteric_site_chains</th>\n",
       "    </tr>\n",
       "  </thead>\n",
       "  <tbody>\n",
       "    <tr>\n",
       "      <th>0</th>\n",
       "      <td>Q9K169</td>\n",
       "      <td>4UC5</td>\n",
       "      <td>['B-THR-7', 'B-ILE-12', 'B-ILE-10', 'B-ASP-8',...</td>\n",
       "      <td>A</td>\n",
       "      <td>{B}</td>\n",
       "    </tr>\n",
       "    <tr>\n",
       "      <th>1</th>\n",
       "      <td>O15530</td>\n",
       "      <td>5MRD</td>\n",
       "      <td>['A-PHE-157', 'A-TYR-156', 'A-LEU-155', 'A-ARG...</td>\n",
       "      <td>A</td>\n",
       "      <td>{A}</td>\n",
       "    </tr>\n",
       "    <tr>\n",
       "      <th>2</th>\n",
       "      <td>O15530</td>\n",
       "      <td>4XX9</td>\n",
       "      <td>['A-TYR-156', 'A-ILE-118', 'A-ILE-119', 'A-ARG...</td>\n",
       "      <td>A</td>\n",
       "      <td>{A}</td>\n",
       "    </tr>\n",
       "    <tr>\n",
       "      <th>3</th>\n",
       "      <td>O15530</td>\n",
       "      <td>4AW0</td>\n",
       "      <td>['A-LYS-76', 'A-LYS-115', 'A-ILE-118', 'A-ILE-...</td>\n",
       "      <td>A</td>\n",
       "      <td>{A}</td>\n",
       "    </tr>\n",
       "    <tr>\n",
       "      <th>4</th>\n",
       "      <td>O15530</td>\n",
       "      <td>4RQK</td>\n",
       "      <td>['A-TYR-156', 'A-ILE-118', 'A-ILE-119', 'A-ARG...</td>\n",
       "      <td>A</td>\n",
       "      <td>{A}</td>\n",
       "    </tr>\n",
       "    <tr>\n",
       "      <th>...</th>\n",
       "      <td>...</td>\n",
       "      <td>...</td>\n",
       "      <td>...</td>\n",
       "      <td>...</td>\n",
       "      <td>...</td>\n",
       "    </tr>\n",
       "    <tr>\n",
       "      <th>2240</th>\n",
       "      <td>V5TDZ4</td>\n",
       "      <td>5Z46</td>\n",
       "      <td>['A-GLU-63', 'A-ASP-40', 'A-GLU-64', 'A-ASP-65...</td>\n",
       "      <td>A</td>\n",
       "      <td>{A}</td>\n",
       "    </tr>\n",
       "    <tr>\n",
       "      <th>2241</th>\n",
       "      <td>P09874</td>\n",
       "      <td>6BHV</td>\n",
       "      <td>['A-SER-864', 'A-GLY-876', 'A-PHE-869', 'A-SER...</td>\n",
       "      <td>A</td>\n",
       "      <td>{A}</td>\n",
       "    </tr>\n",
       "    <tr>\n",
       "      <th>2242</th>\n",
       "      <td>B0SN40</td>\n",
       "      <td>4OV4</td>\n",
       "      <td>['A-LEU-75', 'A-THR-178', 'A-HIS-99', 'A-GLU-2...</td>\n",
       "      <td>A</td>\n",
       "      <td>{A}</td>\n",
       "    </tr>\n",
       "    <tr>\n",
       "      <th>2243</th>\n",
       "      <td>B0SN40</td>\n",
       "      <td>4OV9</td>\n",
       "      <td>['A-LEU-75', 'A-THR-178', 'A-HIS-99', 'A-ASN-1...</td>\n",
       "      <td>A</td>\n",
       "      <td>{A}</td>\n",
       "    </tr>\n",
       "    <tr>\n",
       "      <th>2244</th>\n",
       "      <td>Q9HVB9</td>\n",
       "      <td>5BQ1</td>\n",
       "      <td>['A-GLY-103', 'A-VAL-104', 'A-ASN-65', 'A-ALA-...</td>\n",
       "      <td>A</td>\n",
       "      <td>{A}</td>\n",
       "    </tr>\n",
       "  </tbody>\n",
       "</table>\n",
       "<p>2245 rows × 5 columns</p>\n",
       "</div>"
      ],
      "text/plain": [
       "     pdb_uniprot allosteric_pdb  \\\n",
       "0         Q9K169           4UC5   \n",
       "1         O15530           5MRD   \n",
       "2         O15530           4XX9   \n",
       "3         O15530           4AW0   \n",
       "4         O15530           4RQK   \n",
       "...          ...            ...   \n",
       "2240      V5TDZ4           5Z46   \n",
       "2241      P09874           6BHV   \n",
       "2242      B0SN40           4OV4   \n",
       "2243      B0SN40           4OV9   \n",
       "2244      Q9HVB9           5BQ1   \n",
       "\n",
       "                               allosteric_site_residues modulator_chain  \\\n",
       "0     ['B-THR-7', 'B-ILE-12', 'B-ILE-10', 'B-ASP-8',...               A   \n",
       "1     ['A-PHE-157', 'A-TYR-156', 'A-LEU-155', 'A-ARG...               A   \n",
       "2     ['A-TYR-156', 'A-ILE-118', 'A-ILE-119', 'A-ARG...               A   \n",
       "3     ['A-LYS-76', 'A-LYS-115', 'A-ILE-118', 'A-ILE-...               A   \n",
       "4     ['A-TYR-156', 'A-ILE-118', 'A-ILE-119', 'A-ARG...               A   \n",
       "...                                                 ...             ...   \n",
       "2240  ['A-GLU-63', 'A-ASP-40', 'A-GLU-64', 'A-ASP-65...               A   \n",
       "2241  ['A-SER-864', 'A-GLY-876', 'A-PHE-869', 'A-SER...               A   \n",
       "2242  ['A-LEU-75', 'A-THR-178', 'A-HIS-99', 'A-GLU-2...               A   \n",
       "2243  ['A-LEU-75', 'A-THR-178', 'A-HIS-99', 'A-ASN-1...               A   \n",
       "2244  ['A-GLY-103', 'A-VAL-104', 'A-ASN-65', 'A-ALA-...               A   \n",
       "\n",
       "     allosteric_site_chains  \n",
       "0                       {B}  \n",
       "1                       {A}  \n",
       "2                       {A}  \n",
       "3                       {A}  \n",
       "4                       {A}  \n",
       "...                     ...  \n",
       "2240                    {A}  \n",
       "2241                    {A}  \n",
       "2242                    {A}  \n",
       "2243                    {A}  \n",
       "2244                    {A}  \n",
       "\n",
       "[2245 rows x 5 columns]"
      ]
     },
     "execution_count": 6,
     "metadata": {},
     "output_type": "execute_result"
    }
   ],
   "source": [
    "def get_chain(residues):\n",
    "    return {res.split('-')[0] for res in residues}\n",
    "\n",
    "df_asd_with_active_site['allosteric_site_chains'] = df_asd_with_active_site['allosteric_site_residues'].apply(eval).apply(get_chain)\n",
    "\n",
    "df_asd_with_active_site[['pdb_uniprot', 'allosteric_pdb', 'allosteric_site_residues', 'modulator_chain', 'allosteric_site_chains']]"
   ]
  },
  {
   "cell_type": "code",
   "execution_count": 7,
   "id": "68f14110-fc23-4b51-83ac-28ba01418b9d",
   "metadata": {},
   "outputs": [
    {
     "name": "stdout",
     "output_type": "stream",
     "text": [
      "Number of Rows:              2245\n",
      "Number of Unique PDB IDs:    2104\n",
      "Number of Unique UniProt AC: 432\n"
     ]
    }
   ],
   "source": [
    "print('Number of Rows:             ', df_asd_with_active_site.shape[0])\n",
    "print('Number of Unique PDB IDs:   ', df_asd_with_active_site['allosteric_pdb'].nunique())\n",
    "print('Number of Unique UniProt AC:', df_asd_with_active_site['pdb_uniprot'].nunique())"
   ]
  },
  {
   "cell_type": "markdown",
   "id": "bb7de00e-6221-4799-9476-15479287e14d",
   "metadata": {},
   "source": [
    "## Get UniRef Clusters"
   ]
  },
  {
   "cell_type": "code",
   "execution_count": 8,
   "id": "cd642dad-3cfd-4694-9020-74554c8f5aef",
   "metadata": {},
   "outputs": [
    {
     "name": "stderr",
     "output_type": "stream",
     "text": [
      "2it [00:11,  5.72s/it]\n"
     ]
    }
   ],
   "source": [
    "df_training_clusters = uniref50_clusters(df_training['uniprot_id'].drop_duplicates())"
   ]
  },
  {
   "cell_type": "code",
   "execution_count": 9,
   "id": "8026e5f3-a48b-4f7f-885b-c3d9d561f836",
   "metadata": {},
   "outputs": [
    {
     "data": {
      "text/html": [
       "<div>\n",
       "<style scoped>\n",
       "    .dataframe tbody tr th:only-of-type {\n",
       "        vertical-align: middle;\n",
       "    }\n",
       "\n",
       "    .dataframe tbody tr th {\n",
       "        vertical-align: top;\n",
       "    }\n",
       "\n",
       "    .dataframe thead th {\n",
       "        text-align: right;\n",
       "    }\n",
       "</style>\n",
       "<table border=\"1\" class=\"dataframe\">\n",
       "  <thead>\n",
       "    <tr style=\"text-align: right;\">\n",
       "      <th></th>\n",
       "      <th>pdb_id</th>\n",
       "      <th>uniprot_id</th>\n",
       "      <th>asd90</th>\n",
       "      <th>allosite</th>\n",
       "      <th>passer_ensemble</th>\n",
       "      <th>allositepro</th>\n",
       "      <th>allopred</th>\n",
       "      <th>uniprot_id_from_pdb</th>\n",
       "      <th>num_uniprot</th>\n",
       "      <th>present</th>\n",
       "      <th>passer_automl</th>\n",
       "      <th>passer_rank</th>\n",
       "      <th>uniref50_cluster</th>\n",
       "    </tr>\n",
       "  </thead>\n",
       "  <tbody>\n",
       "    <tr>\n",
       "      <th>0</th>\n",
       "      <td>11BG</td>\n",
       "      <td>P00669</td>\n",
       "      <td>NaN</td>\n",
       "      <td>NaN</td>\n",
       "      <td>NaN</td>\n",
       "      <td>True</td>\n",
       "      <td>True</td>\n",
       "      <td>NaN</td>\n",
       "      <td>NaN</td>\n",
       "      <td>NaN</td>\n",
       "      <td>True</td>\n",
       "      <td>True</td>\n",
       "      <td>UniRef50_P07998</td>\n",
       "    </tr>\n",
       "    <tr>\n",
       "      <th>1</th>\n",
       "      <td>1AO0</td>\n",
       "      <td>P00497</td>\n",
       "      <td>True</td>\n",
       "      <td>True</td>\n",
       "      <td>True</td>\n",
       "      <td>NaN</td>\n",
       "      <td>NaN</td>\n",
       "      <td>NaN</td>\n",
       "      <td>NaN</td>\n",
       "      <td>NaN</td>\n",
       "      <td>NaN</td>\n",
       "      <td>NaN</td>\n",
       "      <td>UniRef50_P00497</td>\n",
       "    </tr>\n",
       "    <tr>\n",
       "      <th>2</th>\n",
       "      <td>1B86</td>\n",
       "      <td>P68871</td>\n",
       "      <td>NaN</td>\n",
       "      <td>NaN</td>\n",
       "      <td>NaN</td>\n",
       "      <td>True</td>\n",
       "      <td>True</td>\n",
       "      <td>NaN</td>\n",
       "      <td>NaN</td>\n",
       "      <td>NaN</td>\n",
       "      <td>NaN</td>\n",
       "      <td>NaN</td>\n",
       "      <td>UniRef50_P68871</td>\n",
       "    </tr>\n",
       "    <tr>\n",
       "      <th>3</th>\n",
       "      <td>1BJ4</td>\n",
       "      <td>P34896</td>\n",
       "      <td>NaN</td>\n",
       "      <td>NaN</td>\n",
       "      <td>NaN</td>\n",
       "      <td>NaN</td>\n",
       "      <td>NaN</td>\n",
       "      <td>NaN</td>\n",
       "      <td>NaN</td>\n",
       "      <td>NaN</td>\n",
       "      <td>True</td>\n",
       "      <td>True</td>\n",
       "      <td>UniRef50_P34896</td>\n",
       "    </tr>\n",
       "    <tr>\n",
       "      <th>4</th>\n",
       "      <td>1CE8</td>\n",
       "      <td>P00968</td>\n",
       "      <td>True</td>\n",
       "      <td>True</td>\n",
       "      <td>True</td>\n",
       "      <td>True</td>\n",
       "      <td>True</td>\n",
       "      <td>NaN</td>\n",
       "      <td>NaN</td>\n",
       "      <td>NaN</td>\n",
       "      <td>True</td>\n",
       "      <td>True</td>\n",
       "      <td>UniRef50_P00968</td>\n",
       "    </tr>\n",
       "    <tr>\n",
       "      <th>...</th>\n",
       "      <td>...</td>\n",
       "      <td>...</td>\n",
       "      <td>...</td>\n",
       "      <td>...</td>\n",
       "      <td>...</td>\n",
       "      <td>...</td>\n",
       "      <td>...</td>\n",
       "      <td>...</td>\n",
       "      <td>...</td>\n",
       "      <td>...</td>\n",
       "      <td>...</td>\n",
       "      <td>...</td>\n",
       "      <td>...</td>\n",
       "    </tr>\n",
       "    <tr>\n",
       "      <th>358</th>\n",
       "      <td>4TPT</td>\n",
       "      <td>P53671</td>\n",
       "      <td>NaN</td>\n",
       "      <td>NaN</td>\n",
       "      <td>NaN</td>\n",
       "      <td>NaN</td>\n",
       "      <td>NaN</td>\n",
       "      <td>NaN</td>\n",
       "      <td>NaN</td>\n",
       "      <td>NaN</td>\n",
       "      <td>True</td>\n",
       "      <td>True</td>\n",
       "      <td>UniRef50_P53671</td>\n",
       "    </tr>\n",
       "    <tr>\n",
       "      <th>359</th>\n",
       "      <td>4TQC</td>\n",
       "      <td>P06730</td>\n",
       "      <td>NaN</td>\n",
       "      <td>NaN</td>\n",
       "      <td>NaN</td>\n",
       "      <td>NaN</td>\n",
       "      <td>NaN</td>\n",
       "      <td>NaN</td>\n",
       "      <td>NaN</td>\n",
       "      <td>NaN</td>\n",
       "      <td>True</td>\n",
       "      <td>True</td>\n",
       "      <td>UniRef50_P06730</td>\n",
       "    </tr>\n",
       "    <tr>\n",
       "      <th>360</th>\n",
       "      <td>4TVG</td>\n",
       "      <td>Q90EA1</td>\n",
       "      <td>NaN</td>\n",
       "      <td>NaN</td>\n",
       "      <td>NaN</td>\n",
       "      <td>NaN</td>\n",
       "      <td>NaN</td>\n",
       "      <td>NaN</td>\n",
       "      <td>NaN</td>\n",
       "      <td>NaN</td>\n",
       "      <td>True</td>\n",
       "      <td>True</td>\n",
       "      <td>UniRef50_P04585</td>\n",
       "    </tr>\n",
       "    <tr>\n",
       "      <th>361</th>\n",
       "      <td>4UUU</td>\n",
       "      <td>P35520</td>\n",
       "      <td>NaN</td>\n",
       "      <td>NaN</td>\n",
       "      <td>NaN</td>\n",
       "      <td>NaN</td>\n",
       "      <td>NaN</td>\n",
       "      <td>NaN</td>\n",
       "      <td>NaN</td>\n",
       "      <td>NaN</td>\n",
       "      <td>True</td>\n",
       "      <td>True</td>\n",
       "      <td>UniRef50_P35520</td>\n",
       "    </tr>\n",
       "    <tr>\n",
       "      <th>362</th>\n",
       "      <td>6DHM</td>\n",
       "      <td>P00366</td>\n",
       "      <td>NaN</td>\n",
       "      <td>NaN</td>\n",
       "      <td>NaN</td>\n",
       "      <td>True</td>\n",
       "      <td>NaN</td>\n",
       "      <td>NaN</td>\n",
       "      <td>NaN</td>\n",
       "      <td>NaN</td>\n",
       "      <td>NaN</td>\n",
       "      <td>NaN</td>\n",
       "      <td>UniRef50_P00367</td>\n",
       "    </tr>\n",
       "  </tbody>\n",
       "</table>\n",
       "<p>363 rows × 13 columns</p>\n",
       "</div>"
      ],
      "text/plain": [
       "    pdb_id uniprot_id asd90 allosite passer_ensemble allositepro allopred  \\\n",
       "0     11BG     P00669   NaN      NaN             NaN        True     True   \n",
       "1     1AO0     P00497  True     True            True         NaN      NaN   \n",
       "2     1B86     P68871   NaN      NaN             NaN        True     True   \n",
       "3     1BJ4     P34896   NaN      NaN             NaN         NaN      NaN   \n",
       "4     1CE8     P00968  True     True            True        True     True   \n",
       "..     ...        ...   ...      ...             ...         ...      ...   \n",
       "358   4TPT     P53671   NaN      NaN             NaN         NaN      NaN   \n",
       "359   4TQC     P06730   NaN      NaN             NaN         NaN      NaN   \n",
       "360   4TVG     Q90EA1   NaN      NaN             NaN         NaN      NaN   \n",
       "361   4UUU     P35520   NaN      NaN             NaN         NaN      NaN   \n",
       "362   6DHM     P00366   NaN      NaN             NaN        True      NaN   \n",
       "\n",
       "     uniprot_id_from_pdb  num_uniprot  present passer_automl passer_rank  \\\n",
       "0                    NaN          NaN      NaN          True        True   \n",
       "1                    NaN          NaN      NaN           NaN         NaN   \n",
       "2                    NaN          NaN      NaN           NaN         NaN   \n",
       "3                    NaN          NaN      NaN          True        True   \n",
       "4                    NaN          NaN      NaN          True        True   \n",
       "..                   ...          ...      ...           ...         ...   \n",
       "358                  NaN          NaN      NaN          True        True   \n",
       "359                  NaN          NaN      NaN          True        True   \n",
       "360                  NaN          NaN      NaN          True        True   \n",
       "361                  NaN          NaN      NaN          True        True   \n",
       "362                  NaN          NaN      NaN           NaN         NaN   \n",
       "\n",
       "    uniref50_cluster  \n",
       "0    UniRef50_P07998  \n",
       "1    UniRef50_P00497  \n",
       "2    UniRef50_P68871  \n",
       "3    UniRef50_P34896  \n",
       "4    UniRef50_P00968  \n",
       "..               ...  \n",
       "358  UniRef50_P53671  \n",
       "359  UniRef50_P06730  \n",
       "360  UniRef50_P04585  \n",
       "361  UniRef50_P35520  \n",
       "362  UniRef50_P00367  \n",
       "\n",
       "[363 rows x 13 columns]"
      ]
     },
     "execution_count": 9,
     "metadata": {},
     "output_type": "execute_result"
    }
   ],
   "source": [
    "df_traning_merged = df_training.merge(df_training_clusters, how='left')\n",
    "df_traning_merged"
   ]
  },
  {
   "cell_type": "code",
   "execution_count": 10,
   "id": "780eb916-aa25-4bbc-b461-81ea5b65e98b",
   "metadata": {},
   "outputs": [
    {
     "name": "stderr",
     "output_type": "stream",
     "text": [
      "3it [00:07,  2.36s/it]\n"
     ]
    }
   ],
   "source": [
    "df_asd_clusters = uniref50_clusters(df_asd_with_active_site['pdb_uniprot'].drop_duplicates())\n",
    "df_asd_merged = df_asd_with_active_site.merge(df_asd_clusters, how='left', left_on='pdb_uniprot', right_on='uniprot_id')"
   ]
  },
  {
   "cell_type": "code",
   "execution_count": 11,
   "id": "0f666682-916a-4443-aa51-b5d337cc209c",
   "metadata": {},
   "outputs": [
    {
     "data": {
      "text/html": [
       "<div>\n",
       "<style scoped>\n",
       "    .dataframe tbody tr th:only-of-type {\n",
       "        vertical-align: middle;\n",
       "    }\n",
       "\n",
       "    .dataframe tbody tr th {\n",
       "        vertical-align: top;\n",
       "    }\n",
       "\n",
       "    .dataframe thead th {\n",
       "        text-align: right;\n",
       "    }\n",
       "</style>\n",
       "<table border=\"1\" class=\"dataframe\">\n",
       "  <thead>\n",
       "    <tr style=\"text-align: right;\">\n",
       "      <th></th>\n",
       "      <th>target_id</th>\n",
       "      <th>target_gene</th>\n",
       "      <th>organism</th>\n",
       "      <th>allosteric_pdb</th>\n",
       "      <th>modulator_serial</th>\n",
       "      <th>modulator_alias</th>\n",
       "      <th>modulator_chain</th>\n",
       "      <th>modulator_class</th>\n",
       "      <th>modulator_feature</th>\n",
       "      <th>modulator_name</th>\n",
       "      <th>...</th>\n",
       "      <th>pdb_uniprot</th>\n",
       "      <th>sequence</th>\n",
       "      <th>active_site_residues</th>\n",
       "      <th>catalytic_site</th>\n",
       "      <th>catalytic_site_resids</th>\n",
       "      <th>Number_of_Binding_Site_Residues</th>\n",
       "      <th>Number_of_Allosteric_Site_Residues</th>\n",
       "      <th>allosteric_site_chains</th>\n",
       "      <th>uniprot_id</th>\n",
       "      <th>uniref50_cluster</th>\n",
       "    </tr>\n",
       "  </thead>\n",
       "  <tbody>\n",
       "  </tbody>\n",
       "</table>\n",
       "<p>0 rows × 27 columns</p>\n",
       "</div>"
      ],
      "text/plain": [
       "Empty DataFrame\n",
       "Columns: [target_id, target_gene, organism, allosteric_pdb, modulator_serial, modulator_alias, modulator_chain, modulator_class, modulator_feature, modulator_name, modulator_resi, function, position, pubmed_id, ref_title, site_overlap, allosteric_site_residues, pdb_uniprot, sequence, active_site_residues, catalytic_site, catalytic_site_resids, Number_of_Binding_Site_Residues, Number_of_Allosteric_Site_Residues, allosteric_site_chains, uniprot_id, uniref50_cluster]\n",
       "Index: []\n",
       "\n",
       "[0 rows x 27 columns]"
      ]
     },
     "execution_count": 11,
     "metadata": {},
     "output_type": "execute_result"
    }
   ],
   "source": [
    "df_asd_merged[df_asd_merged['uniref50_cluster'].isna()]"
   ]
  },
  {
   "cell_type": "code",
   "execution_count": 12,
   "id": "ae82afd7-14f9-46a5-a75f-92bd955390bf",
   "metadata": {},
   "outputs": [
    {
     "name": "stdout",
     "output_type": "stream",
     "text": [
      "Number of Rows:              1825\n",
      "Number of Unique PDB IDs:    1718\n",
      "Number of Unique UniProt AC: 246\n"
     ]
    }
   ],
   "source": [
    "df_unselected = df_asd_merged[df_asd_merged['uniref50_cluster'].isin(df_traning_merged['uniref50_cluster'])]\n",
    "\n",
    "print('Number of Rows:             ', df_unselected.shape[0])\n",
    "print('Number of Unique PDB IDs:   ', df_unselected['allosteric_pdb'].nunique())\n",
    "print('Number of Unique UniProt AC:', df_unselected['pdb_uniprot'].nunique())"
   ]
  },
  {
   "cell_type": "code",
   "execution_count": 13,
   "id": "f9d9cb32-6ef3-4df9-946f-774152c0c1d1",
   "metadata": {},
   "outputs": [
    {
     "name": "stdout",
     "output_type": "stream",
     "text": [
      "Number of Rows:              420\n",
      "Number of Unique PDB IDs:    388\n",
      "Number of Unique UniProt AC: 186\n"
     ]
    }
   ],
   "source": [
    "df_selected = df_asd_merged[~df_asd_merged['uniref50_cluster'].isin(df_traning_merged['uniref50_cluster'])]\n",
    "\n",
    "print('Number of Rows:             ', df_selected.shape[0])\n",
    "print('Number of Unique PDB IDs:   ', df_selected['allosteric_pdb'].nunique())\n",
    "print('Number of Unique UniProt AC:', df_selected['pdb_uniprot'].nunique())"
   ]
  },
  {
   "cell_type": "markdown",
   "id": "d9da7880-d0b2-4771-a9c0-a75293600305",
   "metadata": {},
   "source": [
    "## Download PDB files"
   ]
  },
  {
   "cell_type": "code",
   "execution_count": 14,
   "id": "61b48c20-8fe4-4441-b073-50fd262d2fc9",
   "metadata": {},
   "outputs": [
    {
     "name": "stderr",
     "output_type": "stream",
     "text": [
      "100%|██████████| 388/388 [00:00<00:00, 55455.26it/s]\n"
     ]
    }
   ],
   "source": [
    "if not os.path.exists('../data/pdb_downloaded/'):\n",
    "    os.makedirs('../data/pdb_downloaded/')\n",
    "\n",
    "for pdb_id in tqdm(list(set(df_selected['allosteric_pdb']))):\n",
    "    if not os.path.exists(f'../data/pdb_downloaded/{pdb_id}.pdb'):\n",
    "        try:\n",
    "            urllib.request.urlretrieve(f'https://files.rcsb.org/download/{pdb_id.lower()}.pdb1', f'../data/pdb_downloaded/{pdb_id}.pdb')\n",
    "        except:\n",
    "            print(pdb_id)"
   ]
  },
  {
   "cell_type": "markdown",
   "id": "7fdf7273-d7bf-4d8b-a7c8-a758a626c8a6",
   "metadata": {},
   "source": [
    "PDB ID 4V9C does not have a .pdb format file available."
   ]
  },
  {
   "cell_type": "code",
   "execution_count": 15,
   "id": "fbd534a3-6918-4e37-be0a-c1aabdfbccd1",
   "metadata": {},
   "outputs": [
    {
     "name": "stderr",
     "output_type": "stream",
     "text": [
      "100%|██████████| 391/391 [00:29<00:00, 13.36it/s]\n"
     ]
    }
   ],
   "source": [
    "residues = []\n",
    "for pdb_file in tqdm(glob('../data/pdb_downloaded/*.pdb')):\n",
    "    pdb_id = os.path.splitext(os.path.basename(pdb_file))[0]\n",
    "    \n",
    "    parser = PDBParser()\n",
    "    with warnings.catch_warnings(action=\"ignore\"):\n",
    "        structure = parser.get_structure(pdb_id, pdb_file)\n",
    "\n",
    "    for residue in structure.get_residues():\n",
    "        structure, model, chain, (hetfield, res_id, _) = residue.get_full_id()\n",
    "        res_name = residue.get_resname()\n",
    "        if hetfield == ' ':\n",
    "            residues.append([structure, model, chain, res_id, res_name])\n",
    "    \n",
    "df_residues = pd.DataFrame(residues, columns=['structure', 'model', 'chain', 'res_id', 'res_name'])"
   ]
  },
  {
   "cell_type": "code",
   "execution_count": 16,
   "id": "c5846830-75fa-43b0-b852-cf368d068683",
   "metadata": {},
   "outputs": [],
   "source": [
    "df_sub = df_selected[['allosteric_pdb', 'sequence', 'active_site_residues']].drop_duplicates()\n",
    "\n",
    "df_sub = df_sub.drop(df_selected[(df_selected['allosteric_pdb'] == '4V9C')].index)\n",
    "\n",
    "df_sub['active_site_residues'] = df_sub['active_site_residues'].apply(eval)\n",
    "df_sub = df_sub.explode('active_site_residues')\n",
    "\n",
    "df_sub['res_name'] = df_sub.apply(lambda x: protein_letters_1to3[x['sequence'][x['active_site_residues'] - 1]], axis=1)\n",
    "\n",
    "df_sub['res_id'] = df_sub['active_site_residues'].astype(\"Int64\")\n",
    "df_sub.drop(columns=['sequence', 'active_site_residues'], inplace=True)\n",
    "df_sub.rename(columns={'allosteric_pdb': 'structure'}, inplace=True)"
   ]
  },
  {
   "cell_type": "code",
   "execution_count": 17,
   "id": "60d3366f-97d3-4fdf-8acc-38a51253f8e5",
   "metadata": {},
   "outputs": [
    {
     "data": {
      "text/plain": [
       "191"
      ]
     },
     "execution_count": 17,
     "metadata": {},
     "output_type": "execute_result"
    }
   ],
   "source": [
    "df_merge = df_sub.merge(df_residues, how='left', on=['structure', 'res_id', 'res_name'], indicator=True).drop_duplicates()\n",
    "mismatch_structures = df_merge.loc[df_merge['_merge'] == 'left_only', 'structure'].unique()\n",
    "len(mismatch_structures)"
   ]
  },
  {
   "cell_type": "code",
   "execution_count": 18,
   "id": "2eda5f39-9533-4985-827b-3e887a389d62",
   "metadata": {},
   "outputs": [],
   "source": [
    "df_merge_match = df_merge[~df_merge['structure'].isin(mismatch_structures)].copy()\n",
    "\n",
    "df_merge_match['active_site'] = df_merge_match['chain'] + '-' + df_merge_match['res_id'].astype(str) + '-' + df_merge_match['res_name']\n",
    "df_grouped = df_merge_match[['structure', 'active_site']].groupby(['structure']).agg(set).reset_index()"
   ]
  },
  {
   "cell_type": "code",
   "execution_count": 19,
   "id": "ecb9053d-bf39-4eb0-894c-de85462c3f15",
   "metadata": {},
   "outputs": [],
   "source": [
    "df_selected_no_mismatch = df_selected.merge(df_grouped, left_on='allosteric_pdb', right_on='structure')"
   ]
  },
  {
   "cell_type": "code",
   "execution_count": 20,
   "id": "105da59e-cccc-42bc-a809-afa9d12b51df",
   "metadata": {},
   "outputs": [
    {
     "name": "stdout",
     "output_type": "stream",
     "text": [
      "Number of Rows:              212\n",
      "Number of Unique PDB IDs:    197\n",
      "Number of Unique UniProt AC: 104\n"
     ]
    }
   ],
   "source": [
    "print('Number of Rows:             ', df_selected_no_mismatch.shape[0])\n",
    "print('Number of Unique PDB IDs:   ', df_selected_no_mismatch['allosteric_pdb'].nunique())\n",
    "print('Number of Unique UniProt AC:', df_selected_no_mismatch['pdb_uniprot'].nunique())"
   ]
  },
  {
   "cell_type": "code",
   "execution_count": 21,
   "id": "44d4a224-8319-4727-aabc-ed1549dc971d",
   "metadata": {},
   "outputs": [],
   "source": [
    "df_selected_no_mismatch[[\n",
    "    'target_id', 'target_gene', 'organism', 'pdb_uniprot', 'allosteric_pdb',\n",
    "    'modulator_serial', 'modulator_alias', 'modulator_chain',\n",
    "    'modulator_class', 'modulator_feature', 'modulator_name',\n",
    "    'modulator_resi', 'function', 'position', 'pubmed_id', 'ref_title',\n",
    "    'site_overlap', 'allosteric_site_residues', 'active_site']].to_csv('../output/Test_Set.csv', index=False)"
   ]
  },
  {
   "cell_type": "code",
   "execution_count": null,
   "id": "a4f9f5eb-0f20-499e-ab4a-cbf33faa72a9",
   "metadata": {},
   "outputs": [],
   "source": []
  }
 ],
 "metadata": {
  "kernelspec": {
   "display_name": "Python 3 (ipykernel)",
   "language": "python",
   "name": "python3"
  },
  "language_info": {
   "codemirror_mode": {
    "name": "ipython",
    "version": 3
   },
   "file_extension": ".py",
   "mimetype": "text/x-python",
   "name": "python",
   "nbconvert_exporter": "python",
   "pygments_lexer": "ipython3",
   "version": "3.12.3"
  }
 },
 "nbformat": 4,
 "nbformat_minor": 5
}
