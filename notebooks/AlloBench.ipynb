{
 "cells": [
  {
   "cell_type": "markdown",
   "id": "ebc19951-a31c-4292-aa65-8eb6f63a765f",
   "metadata": {
    "tags": []
   },
   "source": [
    "# AlloBench Dataset Creation Pipeline"
   ]
  },
  {
   "cell_type": "markdown",
   "id": "0fe6858e-8d0c-4716-8f45-6a0b7afd75f6",
   "metadata": {},
   "source": [
    "TODO: Fix Active Site annotation with respect to PDB and not Uniprot\n",
    "\n",
    "Merge on PDB ID and Uniprot ID to fix obsolete UniProt IDs\n",
    "\n",
    "Add Protein Name Organism from PDB and UniProt\n",
    "\n",
    "Check PDB files not available as .pdb and download mmCIF and convert to PDB if missing residues model and save structure"
   ]
  },
  {
   "cell_type": "code",
   "execution_count": 1,
   "id": "ed7e740a-e041-4e94-9295-c550ac480406",
   "metadata": {},
   "outputs": [],
   "source": [
    "import os, sys\n",
    "\n",
    "# Add ../scripts directory to python path\n",
    "module_path = os.path.abspath('../scripts')\n",
    "if module_path not in sys.path:\n",
    "    sys.path.append(module_path)\n",
    "\n",
    "# Import local modules from ../scripts directory\n",
    "import pdb_utils\n",
    "import parse_asd_xml"
   ]
  },
  {
   "cell_type": "markdown",
   "id": "9523290c-85b4-4dd0-af3b-ac8e4301a691",
   "metadata": {
    "tags": []
   },
   "source": [
    "## Get AlloSteric Database (ASD) Data\n",
    "\n",
    "ASD provides the allosteric site information in a tab delimited file (ASD_Release_202309_AS.txt) or as XML files (ASD_Release_202306_XF.tar.gz). However, 1620 entries of 3102 in ASD_Release_202309_AS.txt are missing the allosteric site residues. Refer the `Issues with ASD Tab Delimited File.ipynb` for details. Hence, the data is parsed from the XML files instead.\n",
    "\n",
    "Download the ASD_Release_202306_XF.tar.gz from https://mdl.shsmu.edu.cn/ASD/module/download/download.jsp?tabIndex=1 and extract it to the ../data directory or provide the path to the extracted directory to parse_asd_xml()"
   ]
  },
  {
   "cell_type": "code",
   "execution_count": 2,
   "id": "83e3055a-f540-4b7a-a89a-102ee6748b56",
   "metadata": {},
   "outputs": [
    {
     "name": "stderr",
     "output_type": "stream",
     "text": [
      "100%|██████████| 2419/2419 [00:04<00:00, 593.55it/s]"
     ]
    },
    {
     "name": "stdout",
     "output_type": "stream",
     "text": [
      "Number of Rows:              3172\n",
      "Number of Unique PDB IDs:    2993\n",
      "Number of Unique UniProt AC: 701\n"
     ]
    },
    {
     "name": "stderr",
     "output_type": "stream",
     "text": [
      "\n"
     ]
    }
   ],
   "source": [
    "df_asd = parse_asd_xml.parse_asd_xml('../data/ASD_Release_202306_XF/')\n",
    "\n",
    "# Make the UniProt and PDB IDs uppercase to facilitate merging on these later\n",
    "df_asd['allosteric_pdb'] = df_asd['allosteric_pdb'].str.upper()\n",
    "df_asd['pdb_uniprot'] = df_asd['pdb_uniprot'].str.upper()\n",
    "\n",
    "print('Number of Rows:             ', df_asd.shape[0])\n",
    "print('Number of Unique PDB IDs:   ', df_asd['allosteric_pdb'].nunique())\n",
    "print('Number of Unique UniProt AC:', df_asd['pdb_uniprot'].nunique())"
   ]
  },
  {
   "cell_type": "markdown",
   "id": "f3dc35a2-f36f-43e5-89fe-7d5d47bc02e4",
   "metadata": {},
   "source": [
    "## Fix Obsolete PDB Entries\n",
    "\n",
    "Some PDB IDs in the allosteric_pdb column are obsolete. The list of obsolete PDB IDs is downloaded from the Protein Data Bank. The obsolete PDB IDs are replaced by the superseded PDB IDs and structures without any superseded PDB IDs are removed."
   ]
  },
  {
   "cell_type": "code",
   "execution_count": 3,
   "id": "bc1b70b3-a462-48c3-97b1-a9381d78c8a2",
   "metadata": {},
   "outputs": [],
   "source": [
    "import requests\n",
    "import json\n",
    "import gzip\n",
    "\n",
    "response = requests.get('https://files.wwpdb.org/pub/pdb/holdings/all_removed_entries.json.gz')\n",
    "\n",
    "obsolete_pdb = {}\n",
    "for pdb_id, value in json.loads(gzip.decompress(response.content)).items():\n",
    "    if 'superseded_by' in value:\n",
    "        # Select the last element in the list of superseded PDB IDs\n",
    "        obsolete_pdb[pdb_id] = value['superseded_by'] # [-1] \n",
    "    else:\n",
    "        obsolete_pdb[pdb_id] = []"
   ]
  },
  {
   "cell_type": "code",
   "execution_count": 4,
   "id": "64845d72-5118-4020-858f-59e476deacab",
   "metadata": {},
   "outputs": [
    {
     "data": {
      "text/html": [
       "<div>\n",
       "<style scoped>\n",
       "    .dataframe tbody tr th:only-of-type {\n",
       "        vertical-align: middle;\n",
       "    }\n",
       "\n",
       "    .dataframe tbody tr th {\n",
       "        vertical-align: top;\n",
       "    }\n",
       "\n",
       "    .dataframe thead th {\n",
       "        text-align: right;\n",
       "    }\n",
       "</style>\n",
       "<table border=\"1\" class=\"dataframe\">\n",
       "  <thead>\n",
       "    <tr style=\"text-align: right;\">\n",
       "      <th></th>\n",
       "      <th>0</th>\n",
       "      <th>1</th>\n",
       "      <th>2</th>\n",
       "    </tr>\n",
       "    <tr>\n",
       "      <th>Obsolete PDB ID</th>\n",
       "      <th></th>\n",
       "      <th></th>\n",
       "      <th></th>\n",
       "    </tr>\n",
       "  </thead>\n",
       "  <tbody>\n",
       "    <tr>\n",
       "      <th>1HWZ</th>\n",
       "      <td>6DHD</td>\n",
       "      <td>None</td>\n",
       "      <td>None</td>\n",
       "    </tr>\n",
       "    <tr>\n",
       "      <th>3MVQ</th>\n",
       "      <td>6DHL</td>\n",
       "      <td>None</td>\n",
       "      <td>None</td>\n",
       "    </tr>\n",
       "    <tr>\n",
       "      <th>3MW9</th>\n",
       "      <td>6DHM</td>\n",
       "      <td>None</td>\n",
       "      <td>None</td>\n",
       "    </tr>\n",
       "    <tr>\n",
       "      <th>3QMU</th>\n",
       "      <td>6DHQ</td>\n",
       "      <td>None</td>\n",
       "      <td>None</td>\n",
       "    </tr>\n",
       "    <tr>\n",
       "      <th>4GAR</th>\n",
       "      <td>4V9C</td>\n",
       "      <td>None</td>\n",
       "      <td>None</td>\n",
       "    </tr>\n",
       "    <tr>\n",
       "      <th>4GAU</th>\n",
       "      <td>4V9C</td>\n",
       "      <td>None</td>\n",
       "      <td>None</td>\n",
       "    </tr>\n",
       "    <tr>\n",
       "      <th>4LEG</th>\n",
       "      <td>5J94</td>\n",
       "      <td>None</td>\n",
       "      <td>None</td>\n",
       "    </tr>\n",
       "  </tbody>\n",
       "</table>\n",
       "</div>"
      ],
      "text/plain": [
       "                    0     1     2\n",
       "Obsolete PDB ID                  \n",
       "1HWZ             6DHD  None  None\n",
       "3MVQ             6DHL  None  None\n",
       "3MW9             6DHM  None  None\n",
       "3QMU             6DHQ  None  None\n",
       "4GAR             4V9C  None  None\n",
       "4GAU             4V9C  None  None\n",
       "4LEG             5J94  None  None"
      ]
     },
     "execution_count": 4,
     "metadata": {},
     "output_type": "execute_result"
    }
   ],
   "source": [
    "import pandas as pd\n",
    "\n",
    "df_obsolete_pdb = pd.DataFrame.from_dict(obsolete_pdb, orient='index')\n",
    "df_obsolete_pdb.index.name = 'Obsolete PDB ID'\n",
    "\n",
    "# Obsolete PDB IDs in ASD\n",
    "df_obsolete_pdb_asd = df_obsolete_pdb[df_obsolete_pdb.index.isin(df_asd['allosteric_pdb'])]\n",
    "\n",
    "# Replace the obsolete PDB IDs\n",
    "df_asd['allosteric_pdb'] = df_asd['allosteric_pdb'].replace(df_obsolete_pdb_asd.to_dict()[0])\n",
    "\n",
    "# Check if any of the obsolete PDB IDs had more than one updated PDB IDs\n",
    "df_obsolete_pdb_asd"
   ]
  },
  {
   "cell_type": "markdown",
   "id": "a079acea-5f02-40aa-9733-c25884563a14",
   "metadata": {},
   "source": [
    "While most obsolete PDB IDs are superseded by only one PDB ID, there exists obsolete PDB IDs superseded by multiple PDB IDs. However, the ASD does not contain such structures."
   ]
  },
  {
   "cell_type": "code",
   "execution_count": 5,
   "id": "3855d8e7-57ac-42ce-9ce0-e0b3078fbe4b",
   "metadata": {},
   "outputs": [
    {
     "name": "stdout",
     "output_type": "stream",
     "text": [
      "Number of Rows:              3172\n",
      "Number of Unique PDB IDs:    2991\n",
      "Number of Unique UniProt AC: 701\n"
     ]
    }
   ],
   "source": [
    "print('Number of Rows:             ', df_asd.shape[0])\n",
    "print('Number of Unique PDB IDs:   ', df_asd['allosteric_pdb'].nunique())\n",
    "print('Number of Unique UniProt AC:', df_asd['pdb_uniprot'].nunique())"
   ]
  },
  {
   "cell_type": "markdown",
   "id": "00c17fcf-6e50-4b89-89cb-2b934f9aecd4",
   "metadata": {},
   "source": [
    "## Fix Obsolete UniProt Entries\n",
    "\n",
    "The active site information will be obtained from the UniProt database hence it is critical to have the correct UniProt ID for the ASD protein structures. The code to fix the obsolete UniProt IDs is in the fix_uniprot_id.py\n",
    "\n",
    "1. Get the list of UniProt IDs in the structure corresponding to each PDB ID in the ASD from the PDB using GraphQL  \n",
    "2. If the UniProt ID from ASD is present in the UniProt IDs fetched from the PDB then the UniProt ID from ASD is correct and does not need any modification.  \n",
    "3. If the UniProt ID from ASD is absent in the UniProt IDs fetched from the PDB then,  \n",
    "    a. If only 1 UniProt ID was obtained then that ID may be assgined without ambiguity  \n",
    "    b. If 0 or multiple UniProt IDs were obtained then these must be reviewed and any suitable UniProt IDs are included in the  "
   ]
  },
  {
   "cell_type": "code",
   "execution_count": 6,
   "id": "54968893-6036-4f7c-82cf-bf7418b21e03",
   "metadata": {},
   "outputs": [
    {
     "name": "stdout",
     "output_type": "stream",
     "text": [
      "PDB IDs Absent from ASD with Zero or Multiple UniProt ID fetched from the PDB\n"
     ]
    },
    {
     "data": {
      "text/html": [
       "<div>\n",
       "<style scoped>\n",
       "    .dataframe tbody tr th:only-of-type {\n",
       "        vertical-align: middle;\n",
       "    }\n",
       "\n",
       "    .dataframe tbody tr th {\n",
       "        vertical-align: top;\n",
       "    }\n",
       "\n",
       "    .dataframe thead th {\n",
       "        text-align: right;\n",
       "    }\n",
       "</style>\n",
       "<table border=\"1\" class=\"dataframe\">\n",
       "  <thead>\n",
       "    <tr style=\"text-align: right;\">\n",
       "      <th></th>\n",
       "      <th>pdb_id</th>\n",
       "      <th>uniprot_id</th>\n",
       "      <th>uniprot_id_from_pdb</th>\n",
       "    </tr>\n",
       "  </thead>\n",
       "  <tbody>\n",
       "    <tr>\n",
       "      <th>846</th>\n",
       "      <td>1CKK</td>\n",
       "      <td>P62158</td>\n",
       "      <td>{P0DP33, P97756}</td>\n",
       "    </tr>\n",
       "    <tr>\n",
       "      <th>844</th>\n",
       "      <td>1IQ5</td>\n",
       "      <td>P62158</td>\n",
       "      <td>{Q3Y416, P0DP33}</td>\n",
       "    </tr>\n",
       "    <tr>\n",
       "      <th>843</th>\n",
       "      <td>1NWD</td>\n",
       "      <td>P62158</td>\n",
       "      <td>{P0DP33, Q07346}</td>\n",
       "    </tr>\n",
       "    <tr>\n",
       "      <th>845</th>\n",
       "      <td>3J41</td>\n",
       "      <td>P62158</td>\n",
       "      <td>{P0DP23, Q6J8I9}</td>\n",
       "    </tr>\n",
       "    <tr>\n",
       "      <th>2736</th>\n",
       "      <td>3OBK</td>\n",
       "      <td>S8F7E9</td>\n",
       "      <td>{}</td>\n",
       "    </tr>\n",
       "    <tr>\n",
       "      <th>2473</th>\n",
       "      <td>3OWI</td>\n",
       "      <td></td>\n",
       "      <td>{}</td>\n",
       "    </tr>\n",
       "    <tr>\n",
       "      <th>2479</th>\n",
       "      <td>3OWW</td>\n",
       "      <td></td>\n",
       "      <td>{}</td>\n",
       "    </tr>\n",
       "    <tr>\n",
       "      <th>2470</th>\n",
       "      <td>3OWZ</td>\n",
       "      <td></td>\n",
       "      <td>{}</td>\n",
       "    </tr>\n",
       "    <tr>\n",
       "      <th>2482</th>\n",
       "      <td>3OXE</td>\n",
       "      <td></td>\n",
       "      <td>{}</td>\n",
       "    </tr>\n",
       "    <tr>\n",
       "      <th>2478</th>\n",
       "      <td>3OXJ</td>\n",
       "      <td></td>\n",
       "      <td>{}</td>\n",
       "    </tr>\n",
       "    <tr>\n",
       "      <th>2471</th>\n",
       "      <td>3OXM</td>\n",
       "      <td></td>\n",
       "      <td>{}</td>\n",
       "    </tr>\n",
       "    <tr>\n",
       "      <th>2475</th>\n",
       "      <td>3Q3Z</td>\n",
       "      <td></td>\n",
       "      <td>{}</td>\n",
       "    </tr>\n",
       "    <tr>\n",
       "      <th>2186</th>\n",
       "      <td>3RHW</td>\n",
       "      <td>O17793</td>\n",
       "      <td>{}</td>\n",
       "    </tr>\n",
       "    <tr>\n",
       "      <th>2185</th>\n",
       "      <td>3RI5</td>\n",
       "      <td>O17793</td>\n",
       "      <td>{}</td>\n",
       "    </tr>\n",
       "    <tr>\n",
       "      <th>2187</th>\n",
       "      <td>3RIA</td>\n",
       "      <td>O17793</td>\n",
       "      <td>{}</td>\n",
       "    </tr>\n",
       "    <tr>\n",
       "      <th>2184</th>\n",
       "      <td>3RIF</td>\n",
       "      <td>O17793</td>\n",
       "      <td>{}</td>\n",
       "    </tr>\n",
       "    <tr>\n",
       "      <th>598</th>\n",
       "      <td>4A2U</td>\n",
       "      <td>I6Y496</td>\n",
       "      <td>{}</td>\n",
       "    </tr>\n",
       "    <tr>\n",
       "      <th>256</th>\n",
       "      <td>4FHA</td>\n",
       "      <td>Q9I4W3</td>\n",
       "      <td>{}</td>\n",
       "    </tr>\n",
       "    <tr>\n",
       "      <th>257</th>\n",
       "      <td>4I7W</td>\n",
       "      <td>Q9I4W3</td>\n",
       "      <td>{}</td>\n",
       "    </tr>\n",
       "    <tr>\n",
       "      <th>2889</th>\n",
       "      <td>4KGV</td>\n",
       "      <td>E8Y329</td>\n",
       "      <td>{}</td>\n",
       "    </tr>\n",
       "    <tr>\n",
       "      <th>2888</th>\n",
       "      <td>4KGX</td>\n",
       "      <td>E8Y329</td>\n",
       "      <td>{}</td>\n",
       "    </tr>\n",
       "    <tr>\n",
       "      <th>2886</th>\n",
       "      <td>4KH0</td>\n",
       "      <td>E8Y329</td>\n",
       "      <td>{}</td>\n",
       "    </tr>\n",
       "    <tr>\n",
       "      <th>2887</th>\n",
       "      <td>4KH1</td>\n",
       "      <td>E8Y329</td>\n",
       "      <td>{}</td>\n",
       "    </tr>\n",
       "    <tr>\n",
       "      <th>251</th>\n",
       "      <td>4P86</td>\n",
       "      <td>P39765</td>\n",
       "      <td>{}</td>\n",
       "    </tr>\n",
       "    <tr>\n",
       "      <th>2618</th>\n",
       "      <td>4QSH</td>\n",
       "      <td>L8DYY9</td>\n",
       "      <td>{}</td>\n",
       "    </tr>\n",
       "    <tr>\n",
       "      <th>2617</th>\n",
       "      <td>4QSK</td>\n",
       "      <td>L8DYY9</td>\n",
       "      <td>{}</td>\n",
       "    </tr>\n",
       "    <tr>\n",
       "      <th>962</th>\n",
       "      <td>4RQO</td>\n",
       "      <td>A0A130G9H0</td>\n",
       "      <td>{}</td>\n",
       "    </tr>\n",
       "    <tr>\n",
       "      <th>1158</th>\n",
       "      <td>4V9C</td>\n",
       "      <td>Q7MAW7</td>\n",
       "      <td>{P0A7K6, P02358, P0AG55, P0A7L3, P0AG59, P0A7S...</td>\n",
       "    </tr>\n",
       "    <tr>\n",
       "      <th>29</th>\n",
       "      <td>4V9C</td>\n",
       "      <td>P08179</td>\n",
       "      <td>{P0A7K6, P02358, P0AG55, P0A7L3, P0AG59, P0A7S...</td>\n",
       "    </tr>\n",
       "    <tr>\n",
       "      <th>1159</th>\n",
       "      <td>4V9C</td>\n",
       "      <td>Q7MAW7</td>\n",
       "      <td>{P0A7K6, P02358, P0AG55, P0A7L3, P0AG59, P0A7S...</td>\n",
       "    </tr>\n",
       "    <tr>\n",
       "      <th>28</th>\n",
       "      <td>4V9C</td>\n",
       "      <td>P08179</td>\n",
       "      <td>{P0A7K6, P02358, P0AG55, P0A7L3, P0AG59, P0A7S...</td>\n",
       "    </tr>\n",
       "    <tr>\n",
       "      <th>2702</th>\n",
       "      <td>6FMU</td>\n",
       "      <td>G4V8J4</td>\n",
       "      <td>{}</td>\n",
       "    </tr>\n",
       "    <tr>\n",
       "      <th>2701</th>\n",
       "      <td>6FMZ</td>\n",
       "      <td>G4V8J4</td>\n",
       "      <td>{}</td>\n",
       "    </tr>\n",
       "    <tr>\n",
       "      <th>2704</th>\n",
       "      <td>6FP4</td>\n",
       "      <td>G4V8J4</td>\n",
       "      <td>{}</td>\n",
       "    </tr>\n",
       "    <tr>\n",
       "      <th>2703</th>\n",
       "      <td>6FTC</td>\n",
       "      <td>G4V8J4</td>\n",
       "      <td>{}</td>\n",
       "    </tr>\n",
       "    <tr>\n",
       "      <th>266</th>\n",
       "      <td>6I2P</td>\n",
       "      <td>A0R2B1</td>\n",
       "      <td>{P9WI81, P9WJA9}</td>\n",
       "    </tr>\n",
       "    <tr>\n",
       "      <th>1730</th>\n",
       "      <td>6KDY</td>\n",
       "      <td>Q43837</td>\n",
       "      <td>{O43837, P50213}</td>\n",
       "    </tr>\n",
       "    <tr>\n",
       "      <th>1403</th>\n",
       "      <td>6UI4</td>\n",
       "      <td>A0A098D3M4</td>\n",
       "      <td>{I1RE19, I1RCT2}</td>\n",
       "    </tr>\n",
       "    <tr>\n",
       "      <th>5</th>\n",
       "      <td>6VFN</td>\n",
       "      <td>A0A0G3E2X5</td>\n",
       "      <td>{}</td>\n",
       "    </tr>\n",
       "    <tr>\n",
       "      <th>961</th>\n",
       "      <td>7LD3</td>\n",
       "      <td>P30542</td>\n",
       "      <td>{P04899, P62873, P08173, P59768}</td>\n",
       "    </tr>\n",
       "    <tr>\n",
       "      <th>2060</th>\n",
       "      <td>7O83</td>\n",
       "      <td>P01116</td>\n",
       "      <td>{}</td>\n",
       "    </tr>\n",
       "  </tbody>\n",
       "</table>\n",
       "</div>"
      ],
      "text/plain": [
       "     pdb_id  uniprot_id                                uniprot_id_from_pdb\n",
       "846    1CKK      P62158                                   {P0DP33, P97756}\n",
       "844    1IQ5      P62158                                   {Q3Y416, P0DP33}\n",
       "843    1NWD      P62158                                   {P0DP33, Q07346}\n",
       "845    3J41      P62158                                   {P0DP23, Q6J8I9}\n",
       "2736   3OBK      S8F7E9                                                 {}\n",
       "2473   3OWI                                                             {}\n",
       "2479   3OWW                                                             {}\n",
       "2470   3OWZ                                                             {}\n",
       "2482   3OXE                                                             {}\n",
       "2478   3OXJ                                                             {}\n",
       "2471   3OXM                                                             {}\n",
       "2475   3Q3Z                                                             {}\n",
       "2186   3RHW      O17793                                                 {}\n",
       "2185   3RI5      O17793                                                 {}\n",
       "2187   3RIA      O17793                                                 {}\n",
       "2184   3RIF      O17793                                                 {}\n",
       "598    4A2U      I6Y496                                                 {}\n",
       "256    4FHA      Q9I4W3                                                 {}\n",
       "257    4I7W      Q9I4W3                                                 {}\n",
       "2889   4KGV      E8Y329                                                 {}\n",
       "2888   4KGX      E8Y329                                                 {}\n",
       "2886   4KH0      E8Y329                                                 {}\n",
       "2887   4KH1      E8Y329                                                 {}\n",
       "251    4P86      P39765                                                 {}\n",
       "2618   4QSH      L8DYY9                                                 {}\n",
       "2617   4QSK      L8DYY9                                                 {}\n",
       "962    4RQO  A0A130G9H0                                                 {}\n",
       "1158   4V9C      Q7MAW7  {P0A7K6, P02358, P0AG55, P0A7L3, P0AG59, P0A7S...\n",
       "29     4V9C      P08179  {P0A7K6, P02358, P0AG55, P0A7L3, P0AG59, P0A7S...\n",
       "1159   4V9C      Q7MAW7  {P0A7K6, P02358, P0AG55, P0A7L3, P0AG59, P0A7S...\n",
       "28     4V9C      P08179  {P0A7K6, P02358, P0AG55, P0A7L3, P0AG59, P0A7S...\n",
       "2702   6FMU      G4V8J4                                                 {}\n",
       "2701   6FMZ      G4V8J4                                                 {}\n",
       "2704   6FP4      G4V8J4                                                 {}\n",
       "2703   6FTC      G4V8J4                                                 {}\n",
       "266    6I2P      A0R2B1                                   {P9WI81, P9WJA9}\n",
       "1730   6KDY      Q43837                                   {O43837, P50213}\n",
       "1403   6UI4  A0A098D3M4                                   {I1RE19, I1RCT2}\n",
       "5      6VFN  A0A0G3E2X5                                                 {}\n",
       "961    7LD3      P30542                   {P04899, P62873, P08173, P59768}\n",
       "2060   7O83      P01116                                                 {}"
      ]
     },
     "metadata": {},
     "output_type": "display_data"
    }
   ],
   "source": [
    "import pdb_utils\n",
    "\n",
    "# Rename the columns to pdb_id and uniprot_id before passing the dataframe to uniprot_pdb_fix() function.\n",
    "df_asd_pdb_uniprot = df_asd[['allosteric_pdb', 'pdb_uniprot']].rename(\n",
    "    columns={'allosteric_pdb': 'pdb_id', 'pdb_uniprot': 'uniprot_id'}\n",
    ").drop_duplicates()\n",
    "\n",
    "df_asd_pdb_uniprot = pdb_utils.uniprot_pdb_fix(df_asd_pdb_uniprot)"
   ]
  },
  {
   "cell_type": "markdown",
   "id": "1594ef17-8cff-4ee7-98d4-bb424f90f0da",
   "metadata": {
    "tags": []
   },
   "source": [
    "The following PDB IDs from ASD were dropped: 3OWZ, 3OXM, 3OWI, 3Q3Z, 3OXJ, 3OWW, 3OXE because these are structures of glycine riboswitch, an RNA element and do not have an associated UniProt IDs."
   ]
  },
  {
   "cell_type": "code",
   "execution_count": 7,
   "id": "4c35be42-4fce-4f9c-8005-f5e4531381b9",
   "metadata": {},
   "outputs": [
    {
     "name": "stdout",
     "output_type": "stream",
     "text": [
      "Number of Rows:              3184\n",
      "Number of Unique PDB IDs:    2991\n",
      "Number of Unique UniProt AC: 691\n"
     ]
    }
   ],
   "source": [
    "# Reinsert PDB ID and UniProt AC combination from the manual curation of the table above\n",
    "df_manual_curation = pd.DataFrame([\n",
    "    ['1CKK', 'P0DP33'], ['1IQ5', 'P0DP33'], ['1NWD', 'P0DP33'],\n",
    "    ['3J41', 'P0DP23'], ['3OBK', 'S8F7E9'], ['3RHW', 'G5EBR3'],\n",
    "    ['3RI5', 'G5EBR3'], ['3RIA', 'G5EBR3'], ['3RIF', 'G5EBR3'],\n",
    "    ['4A2U', 'P9WP65'], ['4P86', 'P39765'], ['6KDY', 'O43837'],\n",
    "    ['6UI4', 'I1RCT2'], ['7LD3', 'P30542'], ['7O83', 'P01116']],\n",
    "    columns=['pdb_id', 'uniprot_id'])\n",
    "\n",
    "df_asd_pdb_uniprot = pd.concat([df_asd_pdb_uniprot, df_manual_curation])\n",
    "\n",
    "df_asd_updated =  df_asd.drop(columns='pdb_uniprot').merge(\n",
    "    df_asd_pdb_uniprot.drop_duplicates().rename(\n",
    "        columns={'pdb_id': 'allosteric_pdb', 'uniprot_id': 'pdb_uniprot'}),\n",
    "    how='left',\n",
    "    on='allosteric_pdb'\n",
    ")\n",
    "\n",
    "asd_csv_output = \"../output/ASD_Updated.csv\"\n",
    "\n",
    "df_asd_updated[['target_id', 'target_gene', 'organism', 'pdb_uniprot', 'allosteric_pdb',\n",
    "       'modulator_serial', 'modulator_alias', 'modulator_chain',\n",
    "       'modulator_class', 'modulator_feature', 'modulator_name',\n",
    "       'modulator_resi', 'function', 'position', 'pubmed_id', 'ref_title',\n",
    "       'site_overlap', 'allosteric_site_residue'\n",
    "               ]].to_csv(asd_csv_output, index=False)\n",
    "\n",
    "print('Number of Rows:             ', df_asd_updated.shape[0])\n",
    "print('Number of Unique PDB IDs:   ', df_asd_updated['allosteric_pdb'].nunique())\n",
    "print('Number of Unique UniProt AC:', df_asd_updated['pdb_uniprot'].nunique())"
   ]
  },
  {
   "cell_type": "markdown",
   "id": "30f9018d-1881-4758-87e0-ace7b6429b94",
   "metadata": {},
   "source": [
    "## Merge with Additional Information from the PDB\n",
    "\n",
    "Obtain the data from PDB using its GraphQL API. Mapping between PDB chain ids and UniProt IDs. The oligomeric state, and stoichiometry of the proteins."
   ]
  },
  {
   "cell_type": "code",
   "execution_count": 8,
   "id": "09eaa8e9-4c6d-446a-9807-1ebfdd8e52d9",
   "metadata": {},
   "outputs": [
    {
     "name": "stdout",
     "output_type": "stream",
     "text": [
      "Number of Rows:              3184\n",
      "Number of Unique PDB IDs:    2991\n",
      "Number of Unique UniProt AC: 691\n"
     ]
    }
   ],
   "source": [
    "def get_chain_uniprot(array):\n",
    "    output = set()\n",
    "    if isinstance(array, str):\n",
    "        array = eval(array)\n",
    "    for chain in array:\n",
    "        for uniprot_id in chain[1]:\n",
    "            output.add(uniprot_id)\n",
    "    return sorted(output)\n",
    "\n",
    "\n",
    "df_pdb = pdb_utils.get_pdb_data(df_asd_updated['allosteric_pdb'].unique())\n",
    "\n",
    "df_pdb['uniprot_in_pdb'] = df_pdb['chain_uniprot_mapping'].apply(get_chain_uniprot)\n",
    "\n",
    "df_pdb.rename(columns={'pdb_id': 'allosteric_pdb'}, inplace=True)\n",
    "df_asd_pdb_merged = df_asd_updated.merge(df_pdb)\n",
    "\n",
    "print('Number of Rows:             ', df_asd_pdb_merged.shape[0])\n",
    "print('Number of Unique PDB IDs:   ', df_asd_pdb_merged['allosteric_pdb'].nunique())\n",
    "print('Number of Unique UniProt AC:', df_asd_pdb_merged['pdb_uniprot'].nunique())"
   ]
  },
  {
   "cell_type": "markdown",
   "id": "888658af-7f7e-4644-9511-5ae1372e216f",
   "metadata": {},
   "source": [
    "## Download PDB files\n",
    "\n",
    "The large structures with PDB IDs 4V9C, 3BCR, 8DD3, 7AIA, 6VVH, 7APH, 7OFU are not available in .pdb format.\n",
    "\n",
    "However, these are available in PDBx/mmCIF format"
   ]
  },
  {
   "cell_type": "code",
   "execution_count": 9,
   "id": "b733ba13-985d-40f5-b65c-c7f5cc1070a5",
   "metadata": {},
   "outputs": [
    {
     "name": "stderr",
     "output_type": "stream",
     "text": [
      "100%|██████████| 2991/2991 [00:00<00:00, 276721.37it/s]\n"
     ]
    }
   ],
   "source": [
    "pdb_utils.download_structures(\n",
    "    pdb_ids=df_asd_pdb_merged['allosteric_pdb'].unique(),\n",
    "    download_dir='../data/pdb_downloaded/'\n",
    ")"
   ]
  },
  {
   "cell_type": "markdown",
   "id": "ac4b170a-b152-455c-bacb-b3725c6c3bc5",
   "metadata": {},
   "source": [
    "## Find PDB structures with missing Residues"
   ]
  },
  {
   "cell_type": "code",
   "execution_count": 11,
   "id": "e0c92e49-bb48-43df-a232-42a622500596",
   "metadata": {},
   "outputs": [],
   "source": [
    "import glob\n",
    "\n",
    "structures = sorted(glob.glob('../data/pdb_downloaded/*.pdb') +\n",
    "                    glob.glob('../data/pdb_downloaded/*.cif'))"
   ]
  },
  {
   "cell_type": "code",
   "execution_count": 13,
   "id": "e10a2c5e-1df6-4c4d-aef3-b9b0e638e6a9",
   "metadata": {},
   "outputs": [
    {
     "name": "stdout",
     "output_type": "stream",
     "text": [
      "1\n",
      "2\n",
      "1\n",
      "1\n",
      "1\n",
      "1\n",
      "1\n",
      "1\n",
      "2\n",
      "1\n",
      "4\n",
      "1\n",
      "2\n",
      "2\n",
      "2\n",
      "1\n",
      "2\n",
      "1\n",
      "1\n",
      "1\n",
      "1\n",
      "1\n",
      "1\n",
      "1\n",
      "1\n",
      "2\n",
      "2\n",
      "2\n",
      "1\n",
      "1\n",
      "1\n",
      "1\n",
      "1\n",
      "1\n",
      "1\n",
      "1\n",
      "2\n",
      "2\n",
      "3\n",
      "1\n",
      "2\n",
      "1\n",
      "2\n",
      "2\n",
      "2\n",
      "2\n",
      "2\n",
      "2\n",
      "1\n",
      "1\n",
      "2\n",
      "2\n",
      "1\n",
      "1\n",
      "1\n",
      "1\n",
      "1\n",
      "1\n",
      "1\n",
      "1\n",
      "1\n",
      "1\n",
      "1\n",
      "2\n",
      "2\n",
      "1\n",
      "1\n",
      "1\n",
      "2\n",
      "1\n",
      "4\n",
      "2\n",
      "2\n",
      "2\n",
      "2\n",
      "2\n",
      "2\n",
      "2\n",
      "2\n",
      "2\n",
      "3\n",
      "3\n",
      "2\n",
      "1\n",
      "2\n",
      "2\n",
      "2\n",
      "1\n",
      "1\n",
      "1\n",
      "1\n",
      "1\n",
      "1\n",
      "1\n",
      "2\n",
      "2\n",
      "1\n",
      "2\n",
      "1\n",
      "1\n",
      "4\n",
      "1\n",
      "1\n",
      "2\n",
      "2\n",
      "2\n",
      "2\n",
      "2\n",
      "1\n",
      "2\n",
      "1\n",
      "1\n",
      "1\n",
      "1\n",
      "3\n",
      "1\n",
      "1\n",
      "1\n",
      "1\n",
      "1\n",
      "2\n",
      "2\n"
     ]
    },
    {
     "ename": "KeyboardInterrupt",
     "evalue": "",
     "output_type": "error",
     "traceback": [
      "\u001b[0;31m---------------------------------------------------------------------------\u001b[0m",
      "\u001b[0;31mKeyboardInterrupt\u001b[0m                         Traceback (most recent call last)",
      "Cell \u001b[0;32mIn[13], line 15\u001b[0m\n\u001b[1;32m     12\u001b[0m     \u001b[38;5;28;01mreturn\u001b[39;00m \u001b[38;5;28mlen\u001b[39m(pdb_data\u001b[38;5;241m.\u001b[39mchild_list)\n\u001b[1;32m     14\u001b[0m \u001b[38;5;28;01mfor\u001b[39;00m structure \u001b[38;5;129;01min\u001b[39;00m structures:\n\u001b[0;32m---> 15\u001b[0m     \u001b[38;5;28mprint\u001b[39m(check_num_models(structure))\n",
      "Cell \u001b[0;32mIn[13], line 10\u001b[0m, in \u001b[0;36mcheck_num_models\u001b[0;34m(pdb_file)\u001b[0m\n\u001b[1;32m      8\u001b[0m \u001b[38;5;28;01mif\u001b[39;00m extension \u001b[38;5;241m==\u001b[39m \u001b[38;5;124m'\u001b[39m\u001b[38;5;124m.cif\u001b[39m\u001b[38;5;124m'\u001b[39m:\n\u001b[1;32m      9\u001b[0m     parser \u001b[38;5;241m=\u001b[39m Bio\u001b[38;5;241m.\u001b[39mPDB\u001b[38;5;241m.\u001b[39mMMCIFParser(QUIET\u001b[38;5;241m=\u001b[39m\u001b[38;5;28;01mTrue\u001b[39;00m)\n\u001b[0;32m---> 10\u001b[0m pdb_data \u001b[38;5;241m=\u001b[39m parser\u001b[38;5;241m.\u001b[39mget_structure(\u001b[38;5;124m'\u001b[39m\u001b[38;5;124mstructure\u001b[39m\u001b[38;5;124m'\u001b[39m, pdb_file)\n\u001b[1;32m     12\u001b[0m \u001b[38;5;28;01mreturn\u001b[39;00m \u001b[38;5;28mlen\u001b[39m(pdb_data\u001b[38;5;241m.\u001b[39mchild_list)\n",
      "File \u001b[0;32m~/miniconda3/envs/allostery/lib/python3.12/site-packages/Bio/PDB/PDBParser.py:89\u001b[0m, in \u001b[0;36mPDBParser.get_structure\u001b[0;34m(self, id, file)\u001b[0m\n\u001b[1;32m     87\u001b[0m     \u001b[38;5;28;01mif\u001b[39;00m \u001b[38;5;129;01mnot\u001b[39;00m lines:\n\u001b[1;32m     88\u001b[0m         \u001b[38;5;28;01mraise\u001b[39;00m \u001b[38;5;167;01mValueError\u001b[39;00m(\u001b[38;5;124m\"\u001b[39m\u001b[38;5;124mEmpty file.\u001b[39m\u001b[38;5;124m\"\u001b[39m)\n\u001b[0;32m---> 89\u001b[0m     \u001b[38;5;28mself\u001b[39m\u001b[38;5;241m.\u001b[39m_parse(lines)\n\u001b[1;32m     91\u001b[0m \u001b[38;5;28mself\u001b[39m\u001b[38;5;241m.\u001b[39mstructure_builder\u001b[38;5;241m.\u001b[39mset_header(\u001b[38;5;28mself\u001b[39m\u001b[38;5;241m.\u001b[39mheader)\n\u001b[1;32m     92\u001b[0m \u001b[38;5;66;03m# Return the Structure instance\u001b[39;00m\n",
      "File \u001b[0;32m~/miniconda3/envs/allostery/lib/python3.12/site-packages/Bio/PDB/PDBParser.py:112\u001b[0m, in \u001b[0;36mPDBParser._parse\u001b[0;34m(self, header_coords_trailer)\u001b[0m\n\u001b[1;32m    110\u001b[0m \u001b[38;5;28mself\u001b[39m\u001b[38;5;241m.\u001b[39mheader, coords_trailer \u001b[38;5;241m=\u001b[39m \u001b[38;5;28mself\u001b[39m\u001b[38;5;241m.\u001b[39m_get_header(header_coords_trailer)\n\u001b[1;32m    111\u001b[0m \u001b[38;5;66;03m# Parse the atomic data; return the PDB file trailer\u001b[39;00m\n\u001b[0;32m--> 112\u001b[0m \u001b[38;5;28mself\u001b[39m\u001b[38;5;241m.\u001b[39mtrailer \u001b[38;5;241m=\u001b[39m \u001b[38;5;28mself\u001b[39m\u001b[38;5;241m.\u001b[39m_parse_coordinates(coords_trailer)\n",
      "File \u001b[0;32m~/miniconda3/envs/allostery/lib/python3.12/site-packages/Bio/PDB/PDBParser.py:209\u001b[0m, in \u001b[0;36mPDBParser._parse_coordinates\u001b[0;34m(self, coords_trailer)\u001b[0m\n\u001b[1;32m    202\u001b[0m \u001b[38;5;28;01mexcept\u001b[39;00m \u001b[38;5;167;01mException\u001b[39;00m:\n\u001b[1;32m    203\u001b[0m     \u001b[38;5;66;03m# Should we allow parsing to continue in permissive mode?\u001b[39;00m\n\u001b[1;32m    204\u001b[0m     \u001b[38;5;66;03m# If so, what coordinates should we default to?  Easier to abort!\u001b[39;00m\n\u001b[1;32m    205\u001b[0m     \u001b[38;5;28;01mraise\u001b[39;00m PDBConstructionException(\n\u001b[1;32m    206\u001b[0m         \u001b[38;5;124m\"\u001b[39m\u001b[38;5;124mInvalid or missing coordinate(s) at line \u001b[39m\u001b[38;5;132;01m%i\u001b[39;00m\u001b[38;5;124m.\u001b[39m\u001b[38;5;124m\"\u001b[39m\n\u001b[1;32m    207\u001b[0m         \u001b[38;5;241m%\u001b[39m global_line_counter\n\u001b[1;32m    208\u001b[0m     ) \u001b[38;5;28;01mfrom\u001b[39;00m \u001b[38;5;28;01mNone\u001b[39;00m\n\u001b[0;32m--> 209\u001b[0m coord \u001b[38;5;241m=\u001b[39m np\u001b[38;5;241m.\u001b[39marray((x, y, z), \u001b[38;5;124m\"\u001b[39m\u001b[38;5;124mf\u001b[39m\u001b[38;5;124m\"\u001b[39m)\n\u001b[1;32m    211\u001b[0m \u001b[38;5;66;03m# occupancy & B factor\u001b[39;00m\n\u001b[1;32m    212\u001b[0m \u001b[38;5;28;01mif\u001b[39;00m \u001b[38;5;129;01mnot\u001b[39;00m \u001b[38;5;28mself\u001b[39m\u001b[38;5;241m.\u001b[39mis_pqr:\n",
      "\u001b[0;31mKeyboardInterrupt\u001b[0m: "
     ]
    }
   ],
   "source": [
    "import os\n",
    "import Bio.PDB\n",
    "\n",
    "def check_num_models(pdb_file):\n",
    "    pdb_id, extension = os.path.splitext(os.path.basename(pdb_file))\n",
    "    if extension == '.pdb':\n",
    "        parser = Bio.PDB.PDBParser(QUIET=True)\n",
    "    if extension == '.cif':\n",
    "        parser = Bio.PDB.MMCIFParser(QUIET=True)\n",
    "    pdb_data = parser.get_structure('structure', pdb_file)\n",
    "\n",
    "    return len(pdb_data.child_list)\n",
    "\n",
    "for structure in structures:\n",
    "    print(check_num_models(structure))"
   ]
  },
  {
   "cell_type": "markdown",
   "id": "7ec3ce1a-8a31-4ac5-abff-9ed1bd7362fc",
   "metadata": {},
   "source": [
    "## Get Catalytic Site Atlas Data"
   ]
  },
  {
   "cell_type": "markdown",
   "id": "c2f6fdc9-0c91-469f-89b2-a20ca3cd7dcc",
   "metadata": {},
   "source": [
    "1. Get the manually curated catalytic residues from the Mechanism and Catalytic Site Atlas (M-CSA)\n",
    "2. Parse the JSON file and create a pandas dataframe"
   ]
  },
  {
   "cell_type": "code",
   "execution_count": null,
   "id": "a5e1b2cc-f167-4d63-88ff-0697f8c34e14",
   "metadata": {},
   "outputs": [],
   "source": [
    "response = requests.get('https://www.ebi.ac.uk/thornton-srv/m-csa/api/residues/?format=json')\n",
    "mcsa_data = response.json()\n",
    "\n",
    "output = []\n",
    "for i, entry in enumerate(mcsa_data):\n",
    "    if entry['residue_chains']:\n",
    "        chain_name          = entry['residue_chains'][0]['chain_name']\n",
    "        pdb_id              = entry['residue_chains'][0]['pdb_id'].upper()\n",
    "        assembly_chain_name = entry['residue_chains'][0]['assembly_chain_name']\n",
    "        assembly            = entry['residue_chains'][0]['assembly']\n",
    "        code                = entry['residue_chains'][0]['code']\n",
    "        resid               = entry['residue_chains'][0]['resid']\n",
    "    else:\n",
    "        chain_name          = ''\n",
    "        pdb_id              = ''\n",
    "        assembly_chain_name = ''\n",
    "        assembly            = ''\n",
    "        code                = ''\n",
    "        resid               = float('nan')\n",
    "    uniprot_id          = entry['residue_sequences'][0]['uniprot_id']\n",
    "    res_seq_code        = entry['residue_sequences'][0]['code']\n",
    "    res_seq_resid       = entry['residue_sequences'][0]['resid']\n",
    "\n",
    "    output.append([chain_name, pdb_id, assembly_chain_name, assembly,\n",
    "                   code, resid, uniprot_id, res_seq_code, res_seq_resid])\n",
    "\n",
    "df_csa = pd.DataFrame(output, columns=['chain_name', 'pdb_id',\n",
    "                                       'assembly_chain_name', 'assembly',\n",
    "                                       'code', 'resid', 'uniprot_id',\n",
    "                                       'res_seq_code', 'res_seq_resid'])"
   ]
  },
  {
   "cell_type": "code",
   "execution_count": null,
   "id": "5edb79aa-bce3-4256-9071-a085eb765514",
   "metadata": {},
   "outputs": [],
   "source": [
    "# Make the UniProt and PDB IDs uppercase to facilitate merging on these later\n",
    "df_csa['uniprot_id'] = df_csa['uniprot_id'].str.upper()\n",
    "df_csa['pdb_id'] = df_csa['pdb_id'].str.upper()\n",
    "\n",
    "# Replace the assembly_chain_name with chain_name if there are odd chain_name in assembly_chain_name column\n",
    "df_csa.loc[df_csa['assembly_chain_name'].str.len() > 1, 'assembly_chain_name'] = df_csa['chain_name']\n",
    "print('Number of UniProt IDs in M-CSA:', df_csa['uniprot_id'].nunique())"
   ]
  },
  {
   "cell_type": "code",
   "execution_count": null,
   "id": "4c9d5cf8-9ecd-4696-8a1c-be32c28ad197",
   "metadata": {},
   "outputs": [],
   "source": [
    "print('Number of Rows:             ', df_csa.shape[0])\n",
    "print('Number of Unique PDB IDs:   ', df_csa['pdb_id'].nunique())\n",
    "print('Number of Unique UniProt AC:', df_csa['uniprot_id'].nunique())"
   ]
  },
  {
   "cell_type": "markdown",
   "id": "faa58820-65e9-4d07-8982-ee00aab23a23",
   "metadata": {},
   "source": [
    "3. Download M-CSA PDB IDs"
   ]
  },
  {
   "cell_type": "code",
   "execution_count": null,
   "id": "d00c6866-62c1-4ec4-bf7b-b50a98e1d439",
   "metadata": {},
   "outputs": [],
   "source": [
    "def uniprot_from_pdb_chains(pdb_chains):\n",
    "    pdb_chains_string = '\", \"'.join(pdb_chains)\n",
    "    \n",
    "    body = 'query {polymer_entity_instances(instance_ids: [\"' + pdb_chains_string + '\"])' + \"\"\"\n",
    "      {\n",
    "        rcsb_id\n",
    "        polymer_entity {\n",
    "          uniprots {\n",
    "            rcsb_id\n",
    "          }\n",
    "        }\n",
    "      }\n",
    "    }\n",
    "    \"\"\"\n",
    "    response = requests.post(url='https://data.rcsb.org/graphql', json={\"query\": body})\n",
    "    response_data = response.json()\n",
    "\n",
    "    id_mapping = []\n",
    "    for record in response_data['data']['polymer_entity_instances']:\n",
    "        rcsb_id, chain = record['rcsb_id'].split('.')\n",
    "        if record['polymer_entity']['uniprots'] is not None:\n",
    "            uniprot_id = record['polymer_entity']['uniprots'][0]['rcsb_id']\n",
    "        else:\n",
    "            uniprot_id = ''\n",
    "        id_mapping.append([rcsb_id, chain, uniprot_id])\n",
    "        \n",
    "    return pd.DataFrame(id_mapping, columns=['pdb_id', 'chain', 'uniprot_id'])"
   ]
  },
  {
   "cell_type": "markdown",
   "id": "9a74c33b-3911-4732-ab8c-a015324da241",
   "metadata": {},
   "source": [
    "### Update obsolete UniProt IDs"
   ]
  },
  {
   "cell_type": "code",
   "execution_count": null,
   "id": "61216d94-3aab-4f5d-a7ac-76f42466668b",
   "metadata": {},
   "outputs": [],
   "source": [
    "csa_pdb_chains = set(df_csa['pdb_id'] + '.' + df_csa['assembly_chain_name'])\n",
    "df_csa_pdb = uniprot_from_pdb_chains(csa_pdb_chains)\n",
    "df_csa_pdb = df_csa_pdb.rename(columns={'chain': 'assembly_chain_name', 'uniprot_id': 'UniProt_AC'})\n",
    "df_csa_merged = df_csa.merge(df_csa_pdb, how='left', on=['pdb_id', 'assembly_chain_name'])\n",
    "df_csa_merged.loc[(df_csa_merged['uniprot_id'] != df_csa_merged['UniProt_AC']) & ~df_csa_merged['UniProt_AC'].isna(), 'uniprot_id'] = df_csa_merged['UniProt_AC']"
   ]
  },
  {
   "cell_type": "markdown",
   "id": "5866425e-4125-40a3-875a-662887d620a5",
   "metadata": {},
   "source": [
    "### Mismatched UniProt IDs"
   ]
  },
  {
   "cell_type": "code",
   "execution_count": null,
   "id": "9d622fc7-fbca-45df-9511-bb47a2dfdf1e",
   "metadata": {},
   "outputs": [],
   "source": [
    "df_csa_merged_subset = df_csa_merged[['chain_name', 'pdb_id', 'assembly_chain_name', 'uniprot_id', 'UniProt_AC']].drop_duplicates()\n",
    "with pd.option_context('display.max_rows', 100, 'display.max_columns', 10):\n",
    "    display(\n",
    "        df_csa_merged_subset[df_csa_merged_subset['uniprot_id'] != df_csa_merged_subset['UniProt_AC']]\n",
    "    )"
   ]
  },
  {
   "cell_type": "code",
   "execution_count": null,
   "id": "7bd8c196-c30c-4d9f-ae08-3109374146d6",
   "metadata": {},
   "outputs": [],
   "source": [
    "df_csa_pdb_uniprot = df_csa_merged_subset[['pdb_id', 'uniprot_id']].drop_duplicates()\n",
    "print('Number of Rows:             ', df_csa_pdb_uniprot.shape[0])\n",
    "print('Number of Unique PDB IDs:   ', df_csa_pdb_uniprot['pdb_id'].nunique())\n",
    "print('Number of Unique UniProt AC:', df_csa_pdb_uniprot['uniprot_id'].nunique())"
   ]
  },
  {
   "cell_type": "markdown",
   "id": "eed0bd94-408f-4e88-9549-ae5337135b0b",
   "metadata": {},
   "source": [
    "3. Filter the M-CSA data for proteins contained in the ASD"
   ]
  },
  {
   "cell_type": "code",
   "execution_count": null,
   "id": "68c74257-c321-42b0-ab8d-2938ed05ce7a",
   "metadata": {},
   "outputs": [],
   "source": [
    "df_csa_in_asd = df_csa_merged[df_csa_merged['UniProt_AC'].isin(df_asd_updated['pdb_uniprot'])].copy()"
   ]
  },
  {
   "cell_type": "markdown",
   "id": "c012045e-8b74-4e5f-b30f-40b1fb358ae0",
   "metadata": {},
   "source": [
    "4. Group by PDB ID and UniProt ID"
   ]
  },
  {
   "cell_type": "code",
   "execution_count": null,
   "id": "bd85ac00-63fd-4e29-9dca-4a405b29d37d",
   "metadata": {},
   "outputs": [],
   "source": [
    "df_csa_in_asd['catalytic_site'] = (df_csa_in_asd['assembly_chain_name'] + '-'\n",
    "                                   + df_csa_in_asd['res_seq_resid'].astype(str)\n",
    "                                   + '-' + df_csa_in_asd['res_seq_code']\n",
    "                                   )\n",
    "\n",
    "df_csa_in_asd['catalytic_site_resids'] = (\n",
    "    df_csa_in_asd['res_seq_resid'])\n",
    "\n",
    "df_csa_in_asd_grouped = df_csa_in_asd[\n",
    "    ['UniProt_AC', 'catalytic_site', 'catalytic_site_resids']\n",
    "].groupby(['UniProt_AC']).agg(set).reset_index()"
   ]
  },
  {
   "cell_type": "code",
   "execution_count": null,
   "id": "4e5cd6c3-d30f-49d4-8474-28c5c2e4705a",
   "metadata": {},
   "outputs": [],
   "source": [
    "df_csa_in_asd_grouped"
   ]
  },
  {
   "cell_type": "code",
   "execution_count": null,
   "id": "ca0865ec-1ee3-4861-9865-659c312e632f",
   "metadata": {},
   "outputs": [],
   "source": [
    "print('Number of Unique UniProt AC:', df_csa_in_asd_grouped['UniProt_AC'].nunique())"
   ]
  },
  {
   "cell_type": "markdown",
   "id": "388b3427-95d7-459e-ac67-7460c784f63c",
   "metadata": {},
   "source": [
    "## Download the Active and Binding Site Data from UniProt"
   ]
  },
  {
   "cell_type": "code",
   "execution_count": null,
   "id": "c3926212-ede1-4391-a786-97ad3628a1ff",
   "metadata": {
    "tags": []
   },
   "outputs": [],
   "source": [
    "import itertools\n",
    "import tqdm\n",
    "import SPARQLWrapper # import JSON, SPARQLWrapper\n",
    "\n",
    "\n",
    "def get_uniprot_site_annotations(uniprot_ids):\n",
    "    # Set the SPARQL endpoint (UniProt)\n",
    "    sparql = SPARQLWrapper.SPARQLWrapper(\"https://sparql.uniprot.org/sparql\")\n",
    "\n",
    "    output = []\n",
    "    for uniprot_subset in tqdm.tqdm(itertools.batched(uniprot_ids, 200)):\n",
    "        uniprot_string = ' '.join([f'uniprotkb:{id}' for id in uniprot_subset])\n",
    "                 \n",
    "        # Define the query\n",
    "        query_string = f\"\"\"\n",
    "PREFIX up: <http://purl.uniprot.org/core/>\n",
    "PREFIX uniprotkb: <http://purl.uniprot.org/uniprot/>\n",
    "PREFIX rdfs: <http://www.w3.org/2000/01/rdf-schema#>\n",
    "PREFIX rdf: <http://www.w3.org/1999/02/22-rdf-syntax-ns#>\n",
    "PREFIX faldo: <http://biohackathon.org/resource/faldo#>\n",
    "SELECT DISTINCT ?uniprot_id ?begin ?end ?site ?comment\n",
    "WHERE\n",
    "{{\n",
    "    VALUES ?protein {{ {uniprot_string} }}\n",
    "    BIND(substr(str(?protein), strlen(str(uniprotkb:))+1) AS ?uniprot_id)\n",
    "  \n",
    "    ?protein up:annotation ?annotation .\n",
    "  {{ ?annotation a up:Binding_Site_Annotation }} UNION {{ ?annotation a up:Active_Site_Annotation }} .\n",
    "    ?annotation rdf:type ?type .\n",
    "    BIND(substr(str(?type), strlen(str(up:))+1) AS ?site)\n",
    "    ?annotation up:range ?range .\n",
    "    ?range faldo:begin/faldo:position ?begin .\n",
    "    ?range faldo:end/faldo:position ?end .\n",
    "    OPTIONAL\n",
    "    {{\n",
    "        ?annotation up:ligand ?ligand .\n",
    "        ?ligand rdfs:comment ?comment .\n",
    "    }}\n",
    "}}\n",
    "\"\"\"\n",
    "        sparql.setQuery(query_string)\n",
    "    \n",
    "        # Set the output format as JSON\n",
    "        sparql.setReturnFormat(SPARQLWrapper.JSON)\n",
    "        \n",
    "        # Run the SPARQL query and convert to the defined format\n",
    "        data = sparql.query().convert()\n",
    "\n",
    "        # Store the query result\n",
    "        for result in data[\"results\"][\"bindings\"]:\n",
    "            output.append({key: value['value'] for key, value in result.items()})\n",
    "    return pd.DataFrame(output, columns=['uniprot_id', 'site', 'begin', 'end', 'comment'])\n",
    "\n",
    "\n",
    "def get_uniprot_sequence(uniprot_ids):\n",
    "    # Set the SPARQL endpoint (UniProt)\n",
    "    sparql = SPARQLWrapper.SPARQLWrapper(\"https://sparql.uniprot.org/sparql\")\n",
    "\n",
    "    output = []\n",
    "    for uniprot_subset in tqdm.tqdm(itertools.batched(uniprot_ids, 200)):\n",
    "        uniprot_string = ' '.join([f'uniprotkb:{id}' for id in uniprot_subset])\n",
    "                 \n",
    "        # Define the query\n",
    "        query_string = f\"\"\"\n",
    "PREFIX up: <http://purl.uniprot.org/core/>\n",
    "PREFIX uniprotkb: <http://purl.uniprot.org/uniprot/>\n",
    "PREFIX rdf: <http://www.w3.org/1999/02/22-rdf-syntax-ns#>\n",
    "SELECT DISTINCT ?uniprot_id ?sequence\n",
    "WHERE\n",
    "{{\n",
    "    VALUES ?protein {{ {uniprot_string} }}\n",
    "    BIND(substr(str(?protein), strlen(str(uniprotkb:))+1) AS ?uniprot_id)\n",
    "    ?protein up:sequence ?isoform .\n",
    "    ?isoform a up:Simple_Sequence ;\n",
    "    rdf:value ?sequence .\n",
    "}}\n",
    "\"\"\"\n",
    "        sparql.setQuery(query_string)\n",
    "    \n",
    "        # Set the output format as JSON\n",
    "        sparql.setReturnFormat(SPARQLWrapper.JSON)\n",
    "        \n",
    "        # Run the SPARQL query and convert to the defined format\n",
    "        data = sparql.query().convert()\n",
    "\n",
    "        # Store the query result\n",
    "        for result in data[\"results\"][\"bindings\"]:\n",
    "            output.append({key: value['value'] for key, value in result.items()})\n",
    "    return pd.DataFrame(output, columns=['uniprot_id', 'sequence'])"
   ]
  },
  {
   "cell_type": "code",
   "execution_count": null,
   "id": "5d682d8e-afd8-41c2-8b48-aebbc78a6803",
   "metadata": {},
   "outputs": [],
   "source": [
    "uniprot_ids = {uniprot_id for uniprot_id_list in df_asd_pdb_merged['uniprot_in_pdb'].drop_duplicates() for uniprot_id in uniprot_id_list}\n",
    "\n",
    "df_uniprot_site_annotations = get_uniprot_site_annotations(uniprot_ids)\n",
    "df_uniprot_sequences = get_uniprot_sequence(uniprot_ids)"
   ]
  },
  {
   "cell_type": "markdown",
   "id": "8b89ea5c-d655-470b-b5cc-5bbc7147d3b5",
   "metadata": {},
   "source": [
    "Fix multiple simple sequences returned by UniProt SparQL and use UniProt REST API to fetch the canonical fasta sequence and remove duplicates"
   ]
  },
  {
   "cell_type": "code",
   "execution_count": null,
   "id": "36f0e785-ebb1-46fa-a385-8c40607ef5df",
   "metadata": {},
   "outputs": [],
   "source": [
    "print('Number of Unique UniProt AC:', df_uniprot_site_annotations['uniprot_id'].nunique())"
   ]
  },
  {
   "cell_type": "code",
   "execution_count": null,
   "id": "76e173d6-2745-4145-b333-74eb8222b48e",
   "metadata": {},
   "outputs": [],
   "source": [
    "df_duplicated_sequences = df_uniprot_sequences[df_uniprot_sequences.duplicated('uniprot_id', keep=False)]\n",
    "for uniprot_id in df_duplicated_sequences['uniprot_id'].unique():\n",
    "    response = requests.get(f'https://rest.uniprot.org/uniprotkb/{uniprot_id}.fasta')\n",
    "    sequence = ''.join(response.text.split('\\n')[1:])\n",
    "    df_uniprot_sequences.loc[df_uniprot_sequences['uniprot_id'] == uniprot_id, 'sequence'] = sequence\n",
    "df_uniprot_sequences.drop_duplicates(inplace=True)"
   ]
  },
  {
   "cell_type": "code",
   "execution_count": null,
   "id": "484437c0-a04b-41ec-bd89-cde72004b5d9",
   "metadata": {},
   "outputs": [],
   "source": [
    "df_uniprot_site_annotations.fillna('', inplace=True)\n",
    "df_uniprot_site_annotations[df_uniprot_site_annotations['comment'].str.contains('alloster')].value_counts('comment')"
   ]
  },
  {
   "cell_type": "code",
   "execution_count": null,
   "id": "dda5b8fd-c448-44c9-a1db-ae02296521d2",
   "metadata": {},
   "outputs": [],
   "source": [
    "# Number of unique UniProt Accesstion Numbers\n",
    "df_uniprot_site_annotations.loc[df_uniprot_site_annotations['comment'].str.contains('alloster'), 'uniprot_id'].nunique()"
   ]
  },
  {
   "cell_type": "code",
   "execution_count": null,
   "id": "12bfe339-2add-473b-9d79-7c8701094b11",
   "metadata": {},
   "outputs": [],
   "source": [
    "df_uniprot_site_annotations[['comment']] = df_uniprot_site_annotations[['comment']].fillna('')\n",
    "\n",
    "df_active_site_annotations = df_uniprot_site_annotations[~df_uniprot_site_annotations['comment'].str.contains('alloster')].copy()\n",
    "\n",
    "df_active_site_annotations['begin'] = df_active_site_annotations['begin'].astype(int)\n",
    "df_active_site_annotations['end'] = df_active_site_annotations['end'].astype(int)\n",
    "\n",
    "# Group the annotation of each UniProt ID in multiple rows \n",
    "active_sites = []\n",
    "for index, group in df_active_site_annotations.groupby(['uniprot_id']):\n",
    "    active_site_residues = []\n",
    "    for _, record in group.iterrows():\n",
    "        # Expand the annotation ranges to list of residue indices\n",
    "        residues = list(range(record['begin'], record['end'] + 1))\n",
    "        active_site_residues.extend(residues)\n",
    "    active_sites.append([index[0], active_site_residues])\n",
    "\n",
    "df_active_sites = pd.DataFrame(active_sites, columns=['uniprot_id', 'active_site_residues'])\n",
    "\n",
    "df_active_sites = df_uniprot_sequences.merge(df_active_sites, how='left')\n",
    "df_active_sites[['active_site_residues']] = df_active_sites[['active_site_residues']].fillna('[]')"
   ]
  },
  {
   "cell_type": "code",
   "execution_count": null,
   "id": "ddceb133-9887-4f74-b9f0-aa663d1bc1fa",
   "metadata": {},
   "outputs": [],
   "source": [
    "df_active_sites"
   ]
  },
  {
   "cell_type": "markdown",
   "id": "2d2ee770-7b59-4e12-95e4-6e1cdb983d02",
   "metadata": {},
   "source": [
    "## Combine M-CSA and UniProt\n",
    "\n",
    "**Note:** Residue indices listed in M-CSA are in agreement with UniProt"
   ]
  },
  {
   "cell_type": "code",
   "execution_count": null,
   "id": "da459261-338a-4ed6-83b7-4d32fc315ec8",
   "metadata": {},
   "outputs": [],
   "source": [
    "df_active_sites['active_site_residues'] = df_active_sites['active_site_residues'].apply(eval)\n",
    "df_active_sites.rename(columns={'uniprot_id': 'UniProt_AC'}, inplace=True)"
   ]
  },
  {
   "cell_type": "code",
   "execution_count": null,
   "id": "a7358260-ba5c-4939-8fbb-ebe1dd9a5819",
   "metadata": {},
   "outputs": [],
   "source": [
    "df_uniprot_csa = df_uniprot.merge(df_csa_in_asd_grouped, how='left', on='UniProt_AC')\n",
    "\n",
    "active_site_residues = []\n",
    "\n",
    "for ind, record in df_uniprot_csa.iterrows():\n",
    "    if record['catalytic_site_resids'] is not float('nan'):\n",
    "        catalytic_site_resids = record['catalytic_site_resids']\n",
    "    else:\n",
    "        catalytic_site_resids = set()\n",
    "    print(type(record['active_site_residues']), type(catalytic_site_resids))\n",
    "    active_site_residues.append(sorted(set(record['active_site_residues']) | catalytic_site_resids))\n",
    "\n",
    "df_uniprot_csa['active_site_residues'] = active_site_residues\n",
    "\n",
    "# Remove rows with no active site residues\n",
    "df_uniprot_csa = df_uniprot_csa[(df_uniprot_csa['active_site_residues'].astype(str) != '[]')]\n",
    "\n",
    "df_uniprot_csa"
   ]
  },
  {
   "cell_type": "code",
   "execution_count": null,
   "id": "a2cf4186-e01b-4a56-b4cb-9475a2a87862",
   "metadata": {},
   "outputs": [],
   "source": [
    "df_asd_pdb_merged['uniprot_in_pdb'].apply(len).value_counts()"
   ]
  },
  {
   "cell_type": "markdown",
   "id": "9e3d218f-6d45-4b13-8d1e-52bdb917380b",
   "metadata": {},
   "source": [
    "## Copy the allosteric site annotation to identical chains"
   ]
  },
  {
   "cell_type": "code",
   "execution_count": null,
   "id": "00bb9864-adcc-4b3d-8cb8-6491f5715bfc",
   "metadata": {},
   "outputs": [],
   "source": [
    "import collections\n",
    "import itertools\n",
    "\n",
    "allosteric_sites = []\n",
    "for index, record in tqdm(df_asd_with_active_site.iterrows(), total=df_asd_with_active_site.shape[0]):\n",
    "    protein_allosteric_sites = []\n",
    "\n",
    "    site_residues = []\n",
    "    for residue in record['allosteric_site_residues']:\n",
    "        residue = residue.upper()  # Change any lower case residue names or chains to upper case\n",
    "        chain = residue[0]\n",
    "        # Convert chains like '1', '2', ... to 'A', 'B', ...\n",
    "        if chain.isnumeric():\n",
    "            chain = chr(64 + int(chain))\n",
    "            residue = chain + residue[1:]  # Update the chain in the residue\n",
    "        site_residues.append(residue)\n",
    "\n",
    "    # Create a dictionary with chains with each uniprot id\n",
    "    uniprot_to_chains = collections.defaultdict(list)\n",
    "    chains_to_uniprot = collections.defaultdict(list)\n",
    "    for chain, uniprots, seq in record['chain_uniprot_mapping']:\n",
    "        for uniprot_id in uniprots:\n",
    "            uniprot_to_chains[uniprot_id].append(chain)\n",
    "            chains_to_uniprot[chain].append(uniprot_id)\n",
    "\n",
    "    for chain, residues in itertools.groupby(site_residues, key=lambda res: res[0]):\n",
    "        residue_list = list(residues)\n",
    "        for uniprot in chains_to_uniprot[chain]:\n",
    "            for identical_chain in uniprot_to_chains[uniprot]:\n",
    "                protein_allosteric_sites.append([identical_chain, [identical_chain + res[1:] for res in residue_list]])\n",
    "    allosteric_sites.append(protein_allosteric_sites)\n",
    "\n",
    "df_asd_with_active_site['allosteric_sites'] = allosteric_sites"
   ]
  },
  {
   "cell_type": "markdown",
   "id": "f5a9c9af-746b-4698-9e5e-0c05a763f129",
   "metadata": {},
   "source": [
    "## Add active site annotation to identical chains"
   ]
  },
  {
   "cell_type": "code",
   "execution_count": null,
   "id": "6dadb6be-8bae-48df-95e1-e95562ae0e1e",
   "metadata": {},
   "outputs": [],
   "source": [
    "active_sites = []\n",
    "for index, record in tqdm(df_asd_with_active_site.iterrows(), total=df_asd_with_active_site.shape[0]):\n",
    "    protein_active_sites = []\n",
    "    for chain in record['chain_uniprot_mapping']:\n",
    "        for uniprot_id in chain[1]:\n",
    "            active_site = df_uniprot_csa.loc[df_uniprot_csa['UniProt_AC'] == uniprot_id, 'active_site_residues']\n",
    "            if not active_site.empty:\n",
    "                protein_active_sites.append([chain[0], list(active_site)[0]])\n",
    "    active_sites.append(protein_active_sites)\n",
    "\n",
    "df_asd_with_active_site['active_sites'] = active_sites"
   ]
  },
  {
   "cell_type": "markdown",
   "id": "948604e3-9bfa-4af8-ba31-59b7ff5a5010",
   "metadata": {},
   "source": [
    "Filter the dataframe with at least one allosteric site reidue and one active or binding site residue"
   ]
  },
  {
   "cell_type": "code",
   "execution_count": null,
   "id": "f64adf9f-b7c9-4f1d-a625-5bb8f46463e3",
   "metadata": {},
   "outputs": [],
   "source": [
    "# Drop the rows with no active site residues\n",
    "df_asd_with_active_site = df_asd_with_active_site[df_asd_with_active_site['active_sites'].str.len() != 0]\n",
    "\n",
    "# Drop the rows with no allosteric site residues\n",
    "df_asd_with_active_site = df_asd_with_active_site[df_asd_with_active_site['allosteric_sites'].str.len() != 0]"
   ]
  },
  {
   "cell_type": "code",
   "execution_count": null,
   "id": "1b2345b1",
   "metadata": {},
   "outputs": [],
   "source": [
    "print('Number of Rows:             ', df_asd_with_active_site.shape[0])\n",
    "print('Number of Unique PDB IDs:   ', df_asd_with_active_site['allosteric_pdb'].nunique())\n",
    "print('Number of Unique UniProt AC:', df_asd_with_active_site['pdb_uniprot'].nunique())"
   ]
  },
  {
   "cell_type": "code",
   "execution_count": null,
   "id": "5483df7f-ac74-4112-84c9-212e4979364f",
   "metadata": {},
   "outputs": [],
   "source": [
    "df_asd_with_active_site.to_csv('../output/ASD_with_Active_Sites.csv', index=False)"
   ]
  }
 ],
 "metadata": {
  "kernelspec": {
   "display_name": "Python 3 (ipykernel)",
   "language": "python",
   "name": "python3"
  },
  "language_info": {
   "codemirror_mode": {
    "name": "ipython",
    "version": 3
   },
   "file_extension": ".py",
   "mimetype": "text/x-python",
   "name": "python",
   "nbconvert_exporter": "python",
   "pygments_lexer": "ipython3",
   "version": "3.12.7"
  }
 },
 "nbformat": 4,
 "nbformat_minor": 5
}
