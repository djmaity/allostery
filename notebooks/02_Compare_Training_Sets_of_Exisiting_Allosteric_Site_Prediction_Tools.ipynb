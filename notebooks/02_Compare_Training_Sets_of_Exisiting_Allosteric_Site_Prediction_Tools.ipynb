{
 "cells": [
  {
   "cell_type": "markdown",
   "id": "80edc30c-82ac-4a06-be81-bf12d188892c",
   "metadata": {},
   "source": [
    "# Compare the Training Sets of Allsoteric Site Prediction Tools"
   ]
  },
  {
   "cell_type": "code",
   "execution_count": 1,
   "id": "fdf83b4d-2707-478c-9a20-eee30e238cc6",
   "metadata": {},
   "outputs": [],
   "source": [
    "import collections\n",
    "import gzip\n",
    "import json\n",
    "import tqdm\n",
    "import matplotlib_venn\n",
    "import pandas as pd\n",
    "import requests\n",
    "from IPython.display import display\n",
    "\n",
    "\n",
    "def uniprot_from_pdb(pdb_ids):\n",
    "    pdb_ids_string = '\", \"'.join(pdb_ids)\n",
    "\n",
    "    body = 'query {entries(entry_ids: [\"' + pdb_ids_string + '\"])' + \"\"\"\n",
    "      {\n",
    "        rcsb_id\n",
    "        polymer_entities {\n",
    "          uniprots {\n",
    "            rcsb_id\n",
    "          }\n",
    "        }\n",
    "      }\n",
    "    }\n",
    "    \"\"\"\n",
    "    response = requests.post(url='https://data.rcsb.org/graphql', json={\"query\": body})\n",
    "    response_data = response.json()\n",
    "\n",
    "    id_mapping = []\n",
    "    for record in response_data['data']['entries']:\n",
    "        rcsb_id = record['rcsb_id']\n",
    "        uniprot_ids = set()\n",
    "        for entity in record['polymer_entities']:\n",
    "            if entity['uniprots']:\n",
    "                uniprot_ids.add(entity['uniprots'][0]['rcsb_id'])\n",
    "        id_mapping.append([rcsb_id, uniprot_ids])\n",
    "        \n",
    "    return pd.DataFrame(id_mapping, columns=['pdb_id', 'uniprot_id_from_pdb'])\n",
    "\n",
    "\n",
    "def uniprot_pdb_fix(df):\n",
    "    df_copy = df[['pdb_id', 'uniprot_id']].drop_duplicates().copy()\n",
    "\n",
    "    # Get the UniProt IDs of the chains in the proteins from PDB website\n",
    "    df_pdb = uniprot_from_pdb(df_copy['pdb_id'])\n",
    "    \n",
    "    # Count the number of UniProt IDs obtained from PDB website for each PDB ID\n",
    "    df_pdb['num_uniprot'] = df_pdb['uniprot_id_from_pdb'].apply(len)\n",
    "    \n",
    "    df_merged = df_copy.merge(df_pdb, how='left')\n",
    "\n",
    "    # Check if the UniProt ID in ASD is present in the UniProt IDs obtained from PDB website\n",
    "    df_merged['present'] = df_merged.apply(lambda x: x['uniprot_id'] in x['uniprot_id_from_pdb'], axis=1)\n",
    "    df_present = df_merged.loc[df_merged['present'], ['pdb_id', 'uniprot_id']]\n",
    "\n",
    "    # UniProt IDs absent in the ASD but has only one UniProt ID downloaded from PDB\n",
    "    df_absent_single = df_merged[~df_merged['present'] & (df_merged['num_uniprot'] == 1)].copy()\n",
    "    print(\"PDB IDs Absent from ASD with Single UniProt ID fetched from the PDB\")\n",
    "    display(df_absent_single)\n",
    "\n",
    "    # Place the only one UniProt ID from the set in Uniprot ID column to pdb_uniprot column\n",
    "    if not df_absent_single.empty:\n",
    "        df_absent_single['uniprot_id'] = df_absent_single.apply(lambda x: next(iter(x['uniprot_id_from_pdb'])), axis=1)\n",
    "    df_absent_single = df_absent_single[['pdb_id', 'uniprot_id']]\n",
    "    \n",
    "    df_absent_multiple = df_merged[~df_merged['present'] & (df_merged['num_uniprot'] != 1)]\n",
    "    print(\"PDB IDs Absent from ASD with Multiple UniProt ID fetched from the PDB\")\n",
    "    display(df_absent_multiple)\n",
    "    \n",
    "    df_absent_multiple_expanded = df_absent_multiple.explode('uniprot_id_from_pdb')\n",
    "    df_absent_multiple_expanded = df_absent_multiple_expanded[['pdb_id', 'uniprot_id_from_pdb']]\n",
    "    df_absent_multiple_expanded.rename(columns={'uniprot_id_from_pdb': 'uniprot_id'}, inplace=True)\n",
    "\n",
    "    df_output = pd.concat([df_present, df_absent_single, df_absent_multiple_expanded])\n",
    "    return df_output.sort_values(['pdb_id', 'uniprot_id']).reset_index(drop=True)\n",
    "\n",
    "\n",
    "def replace_obsolete_pdbs(pdb_set, obsolete_pdbs):\n",
    "    for pdb in pdb_set & set(obsolete_pdbs.keys()):\n",
    "        pdb_set.remove(pdb)\n",
    "        pdb_set.add(obsolete_pdbs[pdb])\n",
    "        print(f'PDB ID {pdb} has been superseded by {obsolete_pdbs[pdb]}')"
   ]
  },
  {
   "cell_type": "markdown",
   "id": "707989a6-1e61-4111-9188-4048c8c712a6",
   "metadata": {},
   "source": [
    "## Fix Obsolete PDB Entries\n",
    "\n",
    "The list of obsolete PDB IDs are downloaded from the World Wide Protein Data Bank\n",
    "\n",
    "While most obsolete PDB IDs have been superseded by only one PDB ID. There exists PDB IDs superseded by multiple PDB IDs. For such cases we select the last PDB ID in the list assuming that it will be the latest one. Obsolete entries without a superseded PDB ID are be removed. \n",
    "\n",
    "However, in the ASD dataframe (`df_asd`) each obsolete PDB ID had only one superseded PDB ID. "
   ]
  },
  {
   "cell_type": "code",
   "execution_count": 2,
   "id": "9b32eea2-effe-4008-940a-e64b7e1a0f20",
   "metadata": {},
   "outputs": [
    {
     "name": "stdout",
     "output_type": "stream",
     "text": [
      "Number of Obsolete PDB IDs: 5917\n"
     ]
    }
   ],
   "source": [
    "response = requests.get('https://files.wwpdb.org/pub/pdb/holdings/all_removed_entries.json.gz')\n",
    "\n",
    "obsolete_pdbs = {}\n",
    "for pdb_id, value in json.loads(gzip.decompress(response.content)).items():\n",
    "    if 'superseded_by' in value:\n",
    "        # Select the last element in the list of superseded PDB IDs\n",
    "        obsolete_pdbs[pdb_id] = value['superseded_by'][-1] \n",
    "    else:\n",
    "        obsolete_pdbs[pdb_id] = []\n",
    "\n",
    "print('Number of Obsolete PDB IDs:', len(obsolete_pdbs))"
   ]
  },
  {
   "cell_type": "markdown",
   "id": "4606168b-27ed-447e-a4b9-b40625fc254b",
   "metadata": {},
   "source": [
    "## ASD"
   ]
  },
  {
   "cell_type": "code",
   "execution_count": 3,
   "id": "781b5192-9bf3-40f3-84af-34ef90a9cefe",
   "metadata": {},
   "outputs": [],
   "source": [
    "# df_asd = pd.read_table('../data/ASD_Release_202309_AS.txt')\n",
    "df_asd = pd.read_csv('../output/ASD_Release_202306.csv')\n",
    "\n",
    "# Replace the obsolete PDB IDs with the latest PDB IDs\n",
    "df_asd.replace({'allosteric_pdb': obsolete_pdbs}, inplace=True)\n",
    "\n",
    "# Get the set of PDB IDs\n",
    "asd_pdb_set = set(df_asd['allosteric_pdb'])\n",
    "\n",
    "# Get the set of UniProt Accession Numbers\n",
    "asd_uniprot_set = set(df_asd['pdb_uniprot'])"
   ]
  },
  {
   "cell_type": "markdown",
   "id": "55045900-52f6-4141-8bab-1ca1f1d016ca",
   "metadata": {},
   "source": [
    "## ALLO"
   ]
  },
  {
   "cell_type": "code",
   "execution_count": 4,
   "id": "033c44e7-f0ee-4e09-8a7c-dec7665d2d18",
   "metadata": {},
   "outputs": [
    {
     "name": "stdout",
     "output_type": "stream",
     "text": [
      "PDB IDs Absent from ASD with Single UniProt ID fetched from the PDB\n"
     ]
    },
    {
     "data": {
      "text/html": [
       "<div>\n",
       "<style scoped>\n",
       "    .dataframe tbody tr th:only-of-type {\n",
       "        vertical-align: middle;\n",
       "    }\n",
       "\n",
       "    .dataframe tbody tr th {\n",
       "        vertical-align: top;\n",
       "    }\n",
       "\n",
       "    .dataframe thead th {\n",
       "        text-align: right;\n",
       "    }\n",
       "</style>\n",
       "<table border=\"1\" class=\"dataframe\">\n",
       "  <thead>\n",
       "    <tr style=\"text-align: right;\">\n",
       "      <th></th>\n",
       "      <th>pdb_id</th>\n",
       "      <th>uniprot_id</th>\n",
       "      <th>uniprot_id_from_pdb</th>\n",
       "      <th>num_uniprot</th>\n",
       "      <th>present</th>\n",
       "    </tr>\n",
       "  </thead>\n",
       "  <tbody>\n",
       "  </tbody>\n",
       "</table>\n",
       "</div>"
      ],
      "text/plain": [
       "Empty DataFrame\n",
       "Columns: [pdb_id, uniprot_id, uniprot_id_from_pdb, num_uniprot, present]\n",
       "Index: []"
      ]
     },
     "metadata": {},
     "output_type": "display_data"
    },
    {
     "name": "stdout",
     "output_type": "stream",
     "text": [
      "PDB IDs Absent from ASD with Multiple UniProt ID fetched from the PDB\n"
     ]
    },
    {
     "data": {
      "text/html": [
       "<div>\n",
       "<style scoped>\n",
       "    .dataframe tbody tr th:only-of-type {\n",
       "        vertical-align: middle;\n",
       "    }\n",
       "\n",
       "    .dataframe tbody tr th {\n",
       "        vertical-align: top;\n",
       "    }\n",
       "\n",
       "    .dataframe thead th {\n",
       "        text-align: right;\n",
       "    }\n",
       "</style>\n",
       "<table border=\"1\" class=\"dataframe\">\n",
       "  <thead>\n",
       "    <tr style=\"text-align: right;\">\n",
       "      <th></th>\n",
       "      <th>pdb_id</th>\n",
       "      <th>uniprot_id</th>\n",
       "      <th>uniprot_id_from_pdb</th>\n",
       "      <th>num_uniprot</th>\n",
       "      <th>present</th>\n",
       "    </tr>\n",
       "  </thead>\n",
       "  <tbody>\n",
       "  </tbody>\n",
       "</table>\n",
       "</div>"
      ],
      "text/plain": [
       "Empty DataFrame\n",
       "Columns: [pdb_id, uniprot_id, uniprot_id_from_pdb, num_uniprot, present]\n",
       "Index: []"
      ]
     },
     "metadata": {},
     "output_type": "display_data"
    },
    {
     "name": "stdout",
     "output_type": "stream",
     "text": [
      "Rows = 95  PDB IDs = 95  UniProt ACs = 85\n"
     ]
    }
   ],
   "source": [
    "# Open the training and test set tab separated files from Allopred GitHub repo\n",
    "# df_allo_AO = pd.read_table('https://raw.githubusercontent.com/fibonaccirabbits/allo/master/data/ao.tsv')\n",
    "# df_allo_AO['PDB_ID'] = df_allo_AO['name'].str.extract(r'_([0-9A-Z]{4})_')\n",
    "\n",
    "df_allo_APLC = pd.read_table('https://raw.githubusercontent.com/fibonaccirabbits/allo/master/data/aplc.tsv')\n",
    "df_allo_APLC['pdb_id'] = df_allo_APLC['name'].str.extract(r'_([0-9A-Z]{4})_')\n",
    "\n",
    "df_allo_pdbs = df_allo_APLC[['pdb_id']].drop_duplicates().copy()\n",
    "\n",
    "# Replace obsolete PDB IDs\n",
    "df_allo_pdbs.replace({'pdb_id': obsolete_pdbs}, inplace=True)\n",
    "\n",
    "df_allo_pdb_uniprot = df_allo_pdbs.merge(df_asd, how='left', left_on='pdb_id', right_on='allosteric_pdb').drop_duplicates()\n",
    "df_allo_pdb_uniprot = df_allo_pdb_uniprot[['pdb_id', 'pdb_uniprot']].drop_duplicates().rename(columns={'pdb_uniprot': 'uniprot_id'})\n",
    "\n",
    "# Fix UniProt IDs by fetching them from PDB and resolving discrepancies\n",
    "df_allo = uniprot_pdb_fix(df_allo_pdb_uniprot)\n",
    "\n",
    "# Get the set of PDB IDs\n",
    "allo_pdb_set = set(df_allo['pdb_id'])\n",
    "\n",
    "# Get the set of UniProt Accession Numbers\n",
    "allo_uniprot_set = set(df_allo['uniprot_id'])\n",
    "\n",
    "print('Rows =', len(df_allo_pdbs), ' PDB IDs =', len(allo_pdb_set), ' UniProt ACs =', len(allo_uniprot_set))"
   ]
  },
  {
   "cell_type": "code",
   "execution_count": 5,
   "id": "10ca91a7-1ba8-4fed-a20a-e503b83fd904",
   "metadata": {},
   "outputs": [
    {
     "name": "stdout",
     "output_type": "stream",
     "text": [
      "PDB ID 3MW9 has been superseded by 6DHM\n"
     ]
    },
    {
     "data": {
      "text/html": [
       "<div>\n",
       "<style scoped>\n",
       "    .dataframe tbody tr th:only-of-type {\n",
       "        vertical-align: middle;\n",
       "    }\n",
       "\n",
       "    .dataframe tbody tr th {\n",
       "        vertical-align: top;\n",
       "    }\n",
       "\n",
       "    .dataframe thead th {\n",
       "        text-align: right;\n",
       "    }\n",
       "</style>\n",
       "<table border=\"1\" class=\"dataframe\">\n",
       "  <thead>\n",
       "    <tr style=\"text-align: right;\">\n",
       "      <th></th>\n",
       "      <th>pdb_id</th>\n",
       "      <th>uniprot_id_from_pdb</th>\n",
       "    </tr>\n",
       "  </thead>\n",
       "  <tbody>\n",
       "  </tbody>\n",
       "</table>\n",
       "</div>"
      ],
      "text/plain": [
       "Empty DataFrame\n",
       "Columns: [pdb_id, uniprot_id_from_pdb]\n",
       "Index: []"
      ]
     },
     "execution_count": 5,
     "metadata": {},
     "output_type": "execute_result"
    }
   ],
   "source": [
    "allo_pdb_set = set(df_allo_APLC['pdb_id'])\n",
    "replace_obsolete_pdbs(allo_pdb_set, obsolete_pdbs)\n",
    "\n",
    "allo_pdb_not_in_asd = allo_pdb_set - asd_pdb_set\n",
    "uniprot_from_pdb(allo_pdb_not_in_asd)"
   ]
  },
  {
   "cell_type": "code",
   "execution_count": 6,
   "id": "ea34f3ac-3936-4765-ab68-e3af7740bd8a",
   "metadata": {},
   "outputs": [
    {
     "data": {
      "text/html": [
       "<div>\n",
       "<style scoped>\n",
       "    .dataframe tbody tr th:only-of-type {\n",
       "        vertical-align: middle;\n",
       "    }\n",
       "\n",
       "    .dataframe tbody tr th {\n",
       "        vertical-align: top;\n",
       "    }\n",
       "\n",
       "    .dataframe thead th {\n",
       "        text-align: right;\n",
       "    }\n",
       "</style>\n",
       "<table border=\"1\" class=\"dataframe\">\n",
       "  <thead>\n",
       "    <tr style=\"text-align: right;\">\n",
       "      <th></th>\n",
       "      <th>pdb_id</th>\n",
       "      <th>uniprot_id</th>\n",
       "    </tr>\n",
       "  </thead>\n",
       "  <tbody>\n",
       "    <tr>\n",
       "      <th>85</th>\n",
       "      <td>2D5X</td>\n",
       "      <td>P01958</td>\n",
       "    </tr>\n",
       "    <tr>\n",
       "      <th>86</th>\n",
       "      <td>2D5X</td>\n",
       "      <td>P02062</td>\n",
       "    </tr>\n",
       "  </tbody>\n",
       "</table>\n",
       "</div>"
      ],
      "text/plain": [
       "   pdb_id uniprot_id\n",
       "85   2D5X     P01958\n",
       "86   2D5X     P02062"
      ]
     },
     "execution_count": 6,
     "metadata": {},
     "output_type": "execute_result"
    }
   ],
   "source": [
    "df_allo_pdb_uniprot[df_allo_pdb_uniprot['pdb_id'].duplicated(keep=False)]"
   ]
  },
  {
   "cell_type": "code",
   "execution_count": 7,
   "id": "318b05ba-63cd-40d2-94f9-442d3e30fdfb",
   "metadata": {},
   "outputs": [
    {
     "data": {
      "text/html": [
       "<div>\n",
       "<style scoped>\n",
       "    .dataframe tbody tr th:only-of-type {\n",
       "        vertical-align: middle;\n",
       "    }\n",
       "\n",
       "    .dataframe tbody tr th {\n",
       "        vertical-align: top;\n",
       "    }\n",
       "\n",
       "    .dataframe thead th {\n",
       "        text-align: right;\n",
       "    }\n",
       "</style>\n",
       "<table border=\"1\" class=\"dataframe\">\n",
       "  <thead>\n",
       "    <tr style=\"text-align: right;\">\n",
       "      <th></th>\n",
       "      <th>pdb_id</th>\n",
       "      <th>uniprot_id</th>\n",
       "    </tr>\n",
       "  </thead>\n",
       "  <tbody>\n",
       "    <tr>\n",
       "      <th>0</th>\n",
       "      <td>11BG</td>\n",
       "      <td>P00669</td>\n",
       "    </tr>\n",
       "    <tr>\n",
       "      <th>1</th>\n",
       "      <td>1B86</td>\n",
       "      <td>P68871</td>\n",
       "    </tr>\n",
       "    <tr>\n",
       "      <th>2</th>\n",
       "      <td>1CE8</td>\n",
       "      <td>P00968</td>\n",
       "    </tr>\n",
       "    <tr>\n",
       "      <th>3</th>\n",
       "      <td>1DKU</td>\n",
       "      <td>P14193</td>\n",
       "    </tr>\n",
       "    <tr>\n",
       "      <th>4</th>\n",
       "      <td>1EM6</td>\n",
       "      <td>P06737</td>\n",
       "    </tr>\n",
       "    <tr>\n",
       "      <th>...</th>\n",
       "      <td>...</td>\n",
       "      <td>...</td>\n",
       "    </tr>\n",
       "    <tr>\n",
       "      <th>93</th>\n",
       "      <td>4MBS</td>\n",
       "      <td>P51681</td>\n",
       "    </tr>\n",
       "    <tr>\n",
       "      <th>94</th>\n",
       "      <td>4NBN</td>\n",
       "      <td>P55212</td>\n",
       "    </tr>\n",
       "    <tr>\n",
       "      <th>95</th>\n",
       "      <td>4NLD</td>\n",
       "      <td>Q9WMX2</td>\n",
       "    </tr>\n",
       "    <tr>\n",
       "      <th>96</th>\n",
       "      <td>4P3H</td>\n",
       "      <td>Q2HRB6</td>\n",
       "    </tr>\n",
       "    <tr>\n",
       "      <th>97</th>\n",
       "      <td>6DHM</td>\n",
       "      <td>P00366</td>\n",
       "    </tr>\n",
       "  </tbody>\n",
       "</table>\n",
       "<p>98 rows × 2 columns</p>\n",
       "</div>"
      ],
      "text/plain": [
       "   pdb_id uniprot_id\n",
       "0    11BG     P00669\n",
       "1    1B86     P68871\n",
       "2    1CE8     P00968\n",
       "3    1DKU     P14193\n",
       "4    1EM6     P06737\n",
       "..    ...        ...\n",
       "93   4MBS     P51681\n",
       "94   4NBN     P55212\n",
       "95   4NLD     Q9WMX2\n",
       "96   4P3H     Q2HRB6\n",
       "97   6DHM     P00366\n",
       "\n",
       "[98 rows x 2 columns]"
      ]
     },
     "execution_count": 7,
     "metadata": {},
     "output_type": "execute_result"
    }
   ],
   "source": [
    "df_allo"
   ]
  },
  {
   "cell_type": "markdown",
   "id": "60b3e263-ea0b-430d-ad20-60fe4c82812e",
   "metadata": {},
   "source": [
    "## Allosite and PASSER Training Set (90 proteins from ASD)\n",
    "Manually Extracted from Supporting Information of \"PASSer: Prediction of Allosteric Sites Server\" (https://dx.doi.org/10.1088/2632-2153/abe6d6) and \"Allosite: a method for predicting allosteric sites\" (https://doi.org/10.1093/bioinformatics/btt399)"
   ]
  },
  {
   "cell_type": "code",
   "execution_count": 8,
   "id": "5a87f7a8-9254-44a0-95ef-7a4dee8c5214",
   "metadata": {},
   "outputs": [],
   "source": [
    "allosite_pdb_set = {\n",
    "    '1AO0', '1CE8', '1COZ', '1DB1', '1DD7', '1EFA', '1EGY', '1ESM', '1FAP', '1FTA',\n",
    "    '1HAK', '1I7S', '1KP8', '1LDN', '1LTH', '1PEQ', '1PFK', '1PJ3', '1QTI', '1QW7',\n",
    "    '1RD4', '1RX2', '1S9J', '1SHJ', '1T49', '1TUG', '1V4S', '1W25', '1W96', '1X88',\n",
    "    '1XJE', '1XLS', '1XTU', '1Z8D', '1ZDS', '2AL4', '2BND', '2BU2', '2C2B', '2CLH',\n",
    "    '2D5Z', '2EWN', '2GS7', '2I80', '2OI2', '2POC', '2PUC', '2Q5O', '2QF7', '2R1R',\n",
    "    '2V92', '2VGI', '2X1L', '2XO8', '2YC3', '2ZMF', '3AO1', '3BEO', '3CQD', '3EPS',\n",
    "    '3F3V', '3F6G', '3FIG', '3FZY', '3GCP', '3GR4', '3GVU', '3H30', '3HO8', '3HV8',\n",
    "    '3I0R', '3IAD', '3IDB', '3IJG', '3IRH', '3IYD', '3MK6', '3MKS', '3NJQ', '3O2M',\n",
    "    '3OS8', '3PEE', '3PJG', '3PTZ', '3QEL', '3RZ3', '3UO9', '3ZLK', '4AVB', '4B9Q',\n",
    "}"
   ]
  },
  {
   "cell_type": "code",
   "execution_count": 9,
   "id": "cac858ea-0920-4ebf-aa08-da88753031f4",
   "metadata": {},
   "outputs": [],
   "source": [
    "replace_obsolete_pdbs(allosite_pdb_set, obsolete_pdbs)"
   ]
  },
  {
   "cell_type": "code",
   "execution_count": 10,
   "id": "85183391-073e-4296-878c-fe69531dc8a0",
   "metadata": {},
   "outputs": [
    {
     "data": {
      "text/html": [
       "<div>\n",
       "<style scoped>\n",
       "    .dataframe tbody tr th:only-of-type {\n",
       "        vertical-align: middle;\n",
       "    }\n",
       "\n",
       "    .dataframe tbody tr th {\n",
       "        vertical-align: top;\n",
       "    }\n",
       "\n",
       "    .dataframe thead th {\n",
       "        text-align: right;\n",
       "    }\n",
       "</style>\n",
       "<table border=\"1\" class=\"dataframe\">\n",
       "  <thead>\n",
       "    <tr style=\"text-align: right;\">\n",
       "      <th></th>\n",
       "      <th>pdb_id</th>\n",
       "      <th>uniprot_id_from_pdb</th>\n",
       "    </tr>\n",
       "  </thead>\n",
       "  <tbody>\n",
       "    <tr>\n",
       "      <th>0</th>\n",
       "      <td>3GCP</td>\n",
       "      <td>{Q16539}</td>\n",
       "    </tr>\n",
       "    <tr>\n",
       "      <th>1</th>\n",
       "      <td>2QF7</td>\n",
       "      <td>{Q2K340}</td>\n",
       "    </tr>\n",
       "    <tr>\n",
       "      <th>2</th>\n",
       "      <td>1DB1</td>\n",
       "      <td>{P11473}</td>\n",
       "    </tr>\n",
       "    <tr>\n",
       "      <th>3</th>\n",
       "      <td>2GS7</td>\n",
       "      <td>{P00533}</td>\n",
       "    </tr>\n",
       "    <tr>\n",
       "      <th>4</th>\n",
       "      <td>1XLS</td>\n",
       "      <td>{P19793, O35627, Q9WUI9}</td>\n",
       "    </tr>\n",
       "    <tr>\n",
       "      <th>5</th>\n",
       "      <td>2X1L</td>\n",
       "      <td>{A0R3E2}</td>\n",
       "    </tr>\n",
       "    <tr>\n",
       "      <th>6</th>\n",
       "      <td>2BND</td>\n",
       "      <td>{P0A7E9}</td>\n",
       "    </tr>\n",
       "    <tr>\n",
       "      <th>7</th>\n",
       "      <td>3OS8</td>\n",
       "      <td>{P03372}</td>\n",
       "    </tr>\n",
       "    <tr>\n",
       "      <th>8</th>\n",
       "      <td>1ESM</td>\n",
       "      <td>{P0A6I3}</td>\n",
       "    </tr>\n",
       "    <tr>\n",
       "      <th>9</th>\n",
       "      <td>1QTI</td>\n",
       "      <td>{P04058}</td>\n",
       "    </tr>\n",
       "    <tr>\n",
       "      <th>10</th>\n",
       "      <td>1KP8</td>\n",
       "      <td>{P0A6F5}</td>\n",
       "    </tr>\n",
       "    <tr>\n",
       "      <th>11</th>\n",
       "      <td>3IDB</td>\n",
       "      <td>{P05132, P12369}</td>\n",
       "    </tr>\n",
       "    <tr>\n",
       "      <th>12</th>\n",
       "      <td>1RX2</td>\n",
       "      <td>{P0ABQ4}</td>\n",
       "    </tr>\n",
       "    <tr>\n",
       "      <th>13</th>\n",
       "      <td>2OI2</td>\n",
       "      <td>{A0A0H2UNK6}</td>\n",
       "    </tr>\n",
       "    <tr>\n",
       "      <th>14</th>\n",
       "      <td>3FIG</td>\n",
       "      <td>{P9WQB3}</td>\n",
       "    </tr>\n",
       "    <tr>\n",
       "      <th>15</th>\n",
       "      <td>1COZ</td>\n",
       "      <td>{P27623}</td>\n",
       "    </tr>\n",
       "  </tbody>\n",
       "</table>\n",
       "</div>"
      ],
      "text/plain": [
       "   pdb_id       uniprot_id_from_pdb\n",
       "0    3GCP                  {Q16539}\n",
       "1    2QF7                  {Q2K340}\n",
       "2    1DB1                  {P11473}\n",
       "3    2GS7                  {P00533}\n",
       "4    1XLS  {P19793, O35627, Q9WUI9}\n",
       "5    2X1L                  {A0R3E2}\n",
       "6    2BND                  {P0A7E9}\n",
       "7    3OS8                  {P03372}\n",
       "8    1ESM                  {P0A6I3}\n",
       "9    1QTI                  {P04058}\n",
       "10   1KP8                  {P0A6F5}\n",
       "11   3IDB          {P05132, P12369}\n",
       "12   1RX2                  {P0ABQ4}\n",
       "13   2OI2              {A0A0H2UNK6}\n",
       "14   3FIG                  {P9WQB3}\n",
       "15   1COZ                  {P27623}"
      ]
     },
     "execution_count": 10,
     "metadata": {},
     "output_type": "execute_result"
    }
   ],
   "source": [
    "allosite_pdb_not_in_asd = allosite_pdb_set - asd_pdb_set\n",
    "uniprot_from_pdb(allosite_pdb_not_in_asd)"
   ]
  },
  {
   "cell_type": "code",
   "execution_count": 11,
   "id": "6f0752c6-1dbe-49a3-8ac5-4da23c2f726f",
   "metadata": {},
   "outputs": [
    {
     "data": {
      "text/html": [
       "<div>\n",
       "<style scoped>\n",
       "    .dataframe tbody tr th:only-of-type {\n",
       "        vertical-align: middle;\n",
       "    }\n",
       "\n",
       "    .dataframe tbody tr th {\n",
       "        vertical-align: top;\n",
       "    }\n",
       "\n",
       "    .dataframe thead th {\n",
       "        text-align: right;\n",
       "    }\n",
       "</style>\n",
       "<table border=\"1\" class=\"dataframe\">\n",
       "  <thead>\n",
       "    <tr style=\"text-align: right;\">\n",
       "      <th></th>\n",
       "      <th>pdb_id</th>\n",
       "      <th>uniprot_id</th>\n",
       "    </tr>\n",
       "  </thead>\n",
       "  <tbody>\n",
       "    <tr>\n",
       "      <th>0</th>\n",
       "      <td>3H30</td>\n",
       "      <td>P68400</td>\n",
       "    </tr>\n",
       "    <tr>\n",
       "      <th>1</th>\n",
       "      <td>1AO0</td>\n",
       "      <td>P00497</td>\n",
       "    </tr>\n",
       "    <tr>\n",
       "      <th>2</th>\n",
       "      <td>3GCP</td>\n",
       "      <td>NaN</td>\n",
       "    </tr>\n",
       "    <tr>\n",
       "      <th>3</th>\n",
       "      <td>3RZ3</td>\n",
       "      <td>P49427</td>\n",
       "    </tr>\n",
       "    <tr>\n",
       "      <th>4</th>\n",
       "      <td>3GR4</td>\n",
       "      <td>P14618</td>\n",
       "    </tr>\n",
       "    <tr>\n",
       "      <th>...</th>\n",
       "      <td>...</td>\n",
       "      <td>...</td>\n",
       "    </tr>\n",
       "    <tr>\n",
       "      <th>87</th>\n",
       "      <td>2EWN</td>\n",
       "      <td>P06709</td>\n",
       "    </tr>\n",
       "    <tr>\n",
       "      <th>88</th>\n",
       "      <td>3NJQ</td>\n",
       "      <td>P88911</td>\n",
       "    </tr>\n",
       "    <tr>\n",
       "      <th>89</th>\n",
       "      <td>1XLS</td>\n",
       "      <td>NaN</td>\n",
       "    </tr>\n",
       "    <tr>\n",
       "      <th>90</th>\n",
       "      <td>3F3V</td>\n",
       "      <td>P00523</td>\n",
       "    </tr>\n",
       "    <tr>\n",
       "      <th>91</th>\n",
       "      <td>3UO9</td>\n",
       "      <td>O94925</td>\n",
       "    </tr>\n",
       "  </tbody>\n",
       "</table>\n",
       "<p>90 rows × 2 columns</p>\n",
       "</div>"
      ],
      "text/plain": [
       "   pdb_id uniprot_id\n",
       "0    3H30     P68400\n",
       "1    1AO0     P00497\n",
       "2    3GCP        NaN\n",
       "3    3RZ3     P49427\n",
       "4    3GR4     P14618\n",
       "..    ...        ...\n",
       "87   2EWN     P06709\n",
       "88   3NJQ     P88911\n",
       "89   1XLS        NaN\n",
       "90   3F3V     P00523\n",
       "91   3UO9     O94925\n",
       "\n",
       "[90 rows x 2 columns]"
      ]
     },
     "execution_count": 11,
     "metadata": {},
     "output_type": "execute_result"
    }
   ],
   "source": [
    "df_allosite_pdbs = pd.DataFrame(allosite_pdb_set, columns=['pdb_id'])\n",
    "df_allosite_pdb_uniprot = df_allosite_pdbs.merge(df_asd, how='left', left_on='pdb_id', right_on='allosteric_pdb').drop_duplicates()\n",
    "df_allosite_pdb_uniprot = df_allosite_pdb_uniprot[['pdb_id', 'pdb_uniprot']].drop_duplicates().rename(columns={'pdb_uniprot': 'uniprot_id'})\n",
    "df_allosite_pdb_uniprot"
   ]
  },
  {
   "cell_type": "code",
   "execution_count": 12,
   "id": "daaee881-048e-4ea2-89bd-84984f29d668",
   "metadata": {},
   "outputs": [
    {
     "name": "stdout",
     "output_type": "stream",
     "text": [
      "PDB IDs Absent from ASD with Single UniProt ID fetched from the PDB\n"
     ]
    },
    {
     "data": {
      "text/html": [
       "<div>\n",
       "<style scoped>\n",
       "    .dataframe tbody tr th:only-of-type {\n",
       "        vertical-align: middle;\n",
       "    }\n",
       "\n",
       "    .dataframe tbody tr th {\n",
       "        vertical-align: top;\n",
       "    }\n",
       "\n",
       "    .dataframe thead th {\n",
       "        text-align: right;\n",
       "    }\n",
       "</style>\n",
       "<table border=\"1\" class=\"dataframe\">\n",
       "  <thead>\n",
       "    <tr style=\"text-align: right;\">\n",
       "      <th></th>\n",
       "      <th>pdb_id</th>\n",
       "      <th>uniprot_id</th>\n",
       "      <th>uniprot_id_from_pdb</th>\n",
       "      <th>num_uniprot</th>\n",
       "      <th>present</th>\n",
       "    </tr>\n",
       "  </thead>\n",
       "  <tbody>\n",
       "    <tr>\n",
       "      <th>2</th>\n",
       "      <td>3GCP</td>\n",
       "      <td>NaN</td>\n",
       "      <td>{Q16539}</td>\n",
       "      <td>1</td>\n",
       "      <td>False</td>\n",
       "    </tr>\n",
       "    <tr>\n",
       "      <th>13</th>\n",
       "      <td>2QF7</td>\n",
       "      <td>NaN</td>\n",
       "      <td>{Q2K340}</td>\n",
       "      <td>1</td>\n",
       "      <td>False</td>\n",
       "    </tr>\n",
       "    <tr>\n",
       "      <th>14</th>\n",
       "      <td>2BND</td>\n",
       "      <td>NaN</td>\n",
       "      <td>{P0A7E9}</td>\n",
       "      <td>1</td>\n",
       "      <td>False</td>\n",
       "    </tr>\n",
       "    <tr>\n",
       "      <th>15</th>\n",
       "      <td>2X1L</td>\n",
       "      <td>NaN</td>\n",
       "      <td>{A0R3E2}</td>\n",
       "      <td>1</td>\n",
       "      <td>False</td>\n",
       "    </tr>\n",
       "    <tr>\n",
       "      <th>22</th>\n",
       "      <td>1RX2</td>\n",
       "      <td>NaN</td>\n",
       "      <td>{P0ABQ4}</td>\n",
       "      <td>1</td>\n",
       "      <td>False</td>\n",
       "    </tr>\n",
       "    <tr>\n",
       "      <th>33</th>\n",
       "      <td>1DB1</td>\n",
       "      <td>NaN</td>\n",
       "      <td>{P11473}</td>\n",
       "      <td>1</td>\n",
       "      <td>False</td>\n",
       "    </tr>\n",
       "    <tr>\n",
       "      <th>37</th>\n",
       "      <td>1ESM</td>\n",
       "      <td>NaN</td>\n",
       "      <td>{P0A6I3}</td>\n",
       "      <td>1</td>\n",
       "      <td>False</td>\n",
       "    </tr>\n",
       "    <tr>\n",
       "      <th>51</th>\n",
       "      <td>3FIG</td>\n",
       "      <td>NaN</td>\n",
       "      <td>{P9WQB3}</td>\n",
       "      <td>1</td>\n",
       "      <td>False</td>\n",
       "    </tr>\n",
       "    <tr>\n",
       "      <th>53</th>\n",
       "      <td>1COZ</td>\n",
       "      <td>NaN</td>\n",
       "      <td>{P27623}</td>\n",
       "      <td>1</td>\n",
       "      <td>False</td>\n",
       "    </tr>\n",
       "    <tr>\n",
       "      <th>56</th>\n",
       "      <td>2GS7</td>\n",
       "      <td>NaN</td>\n",
       "      <td>{P00533}</td>\n",
       "      <td>1</td>\n",
       "      <td>False</td>\n",
       "    </tr>\n",
       "    <tr>\n",
       "      <th>62</th>\n",
       "      <td>1KP8</td>\n",
       "      <td>NaN</td>\n",
       "      <td>{P0A6F5}</td>\n",
       "      <td>1</td>\n",
       "      <td>False</td>\n",
       "    </tr>\n",
       "    <tr>\n",
       "      <th>66</th>\n",
       "      <td>2OI2</td>\n",
       "      <td>NaN</td>\n",
       "      <td>{A0A0H2UNK6}</td>\n",
       "      <td>1</td>\n",
       "      <td>False</td>\n",
       "    </tr>\n",
       "    <tr>\n",
       "      <th>70</th>\n",
       "      <td>3OS8</td>\n",
       "      <td>NaN</td>\n",
       "      <td>{P03372}</td>\n",
       "      <td>1</td>\n",
       "      <td>False</td>\n",
       "    </tr>\n",
       "    <tr>\n",
       "      <th>79</th>\n",
       "      <td>1QTI</td>\n",
       "      <td>NaN</td>\n",
       "      <td>{P04058}</td>\n",
       "      <td>1</td>\n",
       "      <td>False</td>\n",
       "    </tr>\n",
       "  </tbody>\n",
       "</table>\n",
       "</div>"
      ],
      "text/plain": [
       "   pdb_id uniprot_id uniprot_id_from_pdb  num_uniprot  present\n",
       "2    3GCP        NaN            {Q16539}            1    False\n",
       "13   2QF7        NaN            {Q2K340}            1    False\n",
       "14   2BND        NaN            {P0A7E9}            1    False\n",
       "15   2X1L        NaN            {A0R3E2}            1    False\n",
       "22   1RX2        NaN            {P0ABQ4}            1    False\n",
       "33   1DB1        NaN            {P11473}            1    False\n",
       "37   1ESM        NaN            {P0A6I3}            1    False\n",
       "51   3FIG        NaN            {P9WQB3}            1    False\n",
       "53   1COZ        NaN            {P27623}            1    False\n",
       "56   2GS7        NaN            {P00533}            1    False\n",
       "62   1KP8        NaN            {P0A6F5}            1    False\n",
       "66   2OI2        NaN        {A0A0H2UNK6}            1    False\n",
       "70   3OS8        NaN            {P03372}            1    False\n",
       "79   1QTI        NaN            {P04058}            1    False"
      ]
     },
     "metadata": {},
     "output_type": "display_data"
    },
    {
     "name": "stdout",
     "output_type": "stream",
     "text": [
      "PDB IDs Absent from ASD with Multiple UniProt ID fetched from the PDB\n"
     ]
    },
    {
     "data": {
      "text/html": [
       "<div>\n",
       "<style scoped>\n",
       "    .dataframe tbody tr th:only-of-type {\n",
       "        vertical-align: middle;\n",
       "    }\n",
       "\n",
       "    .dataframe tbody tr th {\n",
       "        vertical-align: top;\n",
       "    }\n",
       "\n",
       "    .dataframe thead th {\n",
       "        text-align: right;\n",
       "    }\n",
       "</style>\n",
       "<table border=\"1\" class=\"dataframe\">\n",
       "  <thead>\n",
       "    <tr style=\"text-align: right;\">\n",
       "      <th></th>\n",
       "      <th>pdb_id</th>\n",
       "      <th>uniprot_id</th>\n",
       "      <th>uniprot_id_from_pdb</th>\n",
       "      <th>num_uniprot</th>\n",
       "      <th>present</th>\n",
       "    </tr>\n",
       "  </thead>\n",
       "  <tbody>\n",
       "    <tr>\n",
       "      <th>20</th>\n",
       "      <td>3IDB</td>\n",
       "      <td>NaN</td>\n",
       "      <td>{P05132, P12369}</td>\n",
       "      <td>2</td>\n",
       "      <td>False</td>\n",
       "    </tr>\n",
       "    <tr>\n",
       "      <th>87</th>\n",
       "      <td>1XLS</td>\n",
       "      <td>NaN</td>\n",
       "      <td>{P19793, O35627, Q9WUI9}</td>\n",
       "      <td>3</td>\n",
       "      <td>False</td>\n",
       "    </tr>\n",
       "  </tbody>\n",
       "</table>\n",
       "</div>"
      ],
      "text/plain": [
       "   pdb_id uniprot_id       uniprot_id_from_pdb  num_uniprot  present\n",
       "20   3IDB        NaN          {P05132, P12369}            2    False\n",
       "87   1XLS        NaN  {P19793, O35627, Q9WUI9}            3    False"
      ]
     },
     "metadata": {},
     "output_type": "display_data"
    }
   ],
   "source": [
    "df_allosite = uniprot_pdb_fix(df_allosite_pdb_uniprot)"
   ]
  },
  {
   "cell_type": "code",
   "execution_count": 13,
   "id": "d39090aa-c8e2-4720-933a-d410ed42015f",
   "metadata": {},
   "outputs": [
    {
     "name": "stdout",
     "output_type": "stream",
     "text": [
      "Rows = 90  PDB IDs = 90  UniProt ACs = 93\n"
     ]
    }
   ],
   "source": [
    "# Get the set of PDB IDs\n",
    "allosite_pdb_set = set(df_allosite['pdb_id'])\n",
    "\n",
    "# Get the set of UniProt Accession Numbers\n",
    "allosite_uniprot_set = set(df_allosite['uniprot_id'])\n",
    "\n",
    "print('Rows =', len(df_allosite_pdbs['pdb_id']), ' PDB IDs =', len(allosite_pdb_set), ' UniProt ACs =', len(allosite_uniprot_set))"
   ]
  },
  {
   "cell_type": "markdown",
   "id": "a4029eab-10f9-4908-ac70-cbebbdf7cfab",
   "metadata": {},
   "source": [
    "## AllositePro Training Set (ASBench Core-Diversity Set)"
   ]
  },
  {
   "cell_type": "code",
   "execution_count": 14,
   "id": "bc9a48ec-7a5b-4fb7-b962-e6e95992fea1",
   "metadata": {},
   "outputs": [
    {
     "name": "stdout",
     "output_type": "stream",
     "text": [
      "{'3MW9'}\n",
      "set()\n"
     ]
    }
   ],
   "source": [
    "df_allositepro_data = pd.read_excel('../data/ASBench_Core_Diversity_Set.xls')\n",
    "\n",
    "print(set(df_allositepro_data['PDB ID']) - asd_pdb_set)\n",
    "\n",
    "# Replace obsolete PDB IDs\n",
    "df_allositepro_data.replace({'PDB ID': obsolete_pdbs}, inplace=True)\n",
    "\n",
    "print(set(df_allositepro_data['PDB ID']) - asd_pdb_set)"
   ]
  },
  {
   "cell_type": "code",
   "execution_count": 15,
   "id": "78e8c7e9-b326-45a7-bdb5-a676fe74cf77",
   "metadata": {},
   "outputs": [
    {
     "name": "stdout",
     "output_type": "stream",
     "text": [
      "PDB IDs Absent from ASD with Single UniProt ID fetched from the PDB\n"
     ]
    },
    {
     "data": {
      "text/html": [
       "<div>\n",
       "<style scoped>\n",
       "    .dataframe tbody tr th:only-of-type {\n",
       "        vertical-align: middle;\n",
       "    }\n",
       "\n",
       "    .dataframe tbody tr th {\n",
       "        vertical-align: top;\n",
       "    }\n",
       "\n",
       "    .dataframe thead th {\n",
       "        text-align: right;\n",
       "    }\n",
       "</style>\n",
       "<table border=\"1\" class=\"dataframe\">\n",
       "  <thead>\n",
       "    <tr style=\"text-align: right;\">\n",
       "      <th></th>\n",
       "      <th>pdb_id</th>\n",
       "      <th>uniprot_id</th>\n",
       "      <th>uniprot_id_from_pdb</th>\n",
       "      <th>num_uniprot</th>\n",
       "      <th>present</th>\n",
       "    </tr>\n",
       "  </thead>\n",
       "  <tbody>\n",
       "    <tr>\n",
       "      <th>50</th>\n",
       "      <td>4IO8</td>\n",
       "      <td>P08107</td>\n",
       "      <td>{P0DMV8}</td>\n",
       "      <td>1</td>\n",
       "      <td>False</td>\n",
       "    </tr>\n",
       "    <tr>\n",
       "      <th>52</th>\n",
       "      <td>3LSW</td>\n",
       "      <td>Q9Z2W9</td>\n",
       "      <td>{P19492}</td>\n",
       "      <td>1</td>\n",
       "      <td>False</td>\n",
       "    </tr>\n",
       "    <tr>\n",
       "      <th>72</th>\n",
       "      <td>4P3H</td>\n",
       "      <td>O36607</td>\n",
       "      <td>{Q2HRB6}</td>\n",
       "      <td>1</td>\n",
       "      <td>False</td>\n",
       "    </tr>\n",
       "    <tr>\n",
       "      <th>77</th>\n",
       "      <td>1QP0</td>\n",
       "      <td>P9WJJ7</td>\n",
       "      <td>{P0ACP7}</td>\n",
       "      <td>1</td>\n",
       "      <td>False</td>\n",
       "    </tr>\n",
       "    <tr>\n",
       "      <th>96</th>\n",
       "      <td>4OO9</td>\n",
       "      <td>P00720</td>\n",
       "      <td>{P41594}</td>\n",
       "      <td>1</td>\n",
       "      <td>False</td>\n",
       "    </tr>\n",
       "    <tr>\n",
       "      <th>101</th>\n",
       "      <td>3LAJ</td>\n",
       "      <td>P9WPY8</td>\n",
       "      <td>{P9WPY9}</td>\n",
       "      <td>1</td>\n",
       "      <td>False</td>\n",
       "    </tr>\n",
       "    <tr>\n",
       "      <th>127</th>\n",
       "      <td>3HO8</td>\n",
       "      <td>Q99UY8</td>\n",
       "      <td>{A0A0H3JRU9}</td>\n",
       "      <td>1</td>\n",
       "      <td>False</td>\n",
       "    </tr>\n",
       "    <tr>\n",
       "      <th>129</th>\n",
       "      <td>2RDE</td>\n",
       "      <td>A5F1K1</td>\n",
       "      <td>{A0A0H3ADR8}</td>\n",
       "      <td>1</td>\n",
       "      <td>False</td>\n",
       "    </tr>\n",
       "    <tr>\n",
       "      <th>130</th>\n",
       "      <td>3PJG</td>\n",
       "      <td>C4XAX5</td>\n",
       "      <td>{A0A0J9WZA6}</td>\n",
       "      <td>1</td>\n",
       "      <td>False</td>\n",
       "    </tr>\n",
       "    <tr>\n",
       "      <th>134</th>\n",
       "      <td>4MBS</td>\n",
       "      <td>P00268</td>\n",
       "      <td>{P51681}</td>\n",
       "      <td>1</td>\n",
       "      <td>False</td>\n",
       "    </tr>\n",
       "  </tbody>\n",
       "</table>\n",
       "</div>"
      ],
      "text/plain": [
       "    pdb_id uniprot_id uniprot_id_from_pdb  num_uniprot  present\n",
       "50    4IO8     P08107            {P0DMV8}            1    False\n",
       "52    3LSW     Q9Z2W9            {P19492}            1    False\n",
       "72    4P3H     O36607            {Q2HRB6}            1    False\n",
       "77    1QP0     P9WJJ7            {P0ACP7}            1    False\n",
       "96    4OO9     P00720            {P41594}            1    False\n",
       "101   3LAJ     P9WPY8            {P9WPY9}            1    False\n",
       "127   3HO8     Q99UY8        {A0A0H3JRU9}            1    False\n",
       "129   2RDE     A5F1K1        {A0A0H3ADR8}            1    False\n",
       "130   3PJG     C4XAX5        {A0A0J9WZA6}            1    False\n",
       "134   4MBS     P00268            {P51681}            1    False"
      ]
     },
     "metadata": {},
     "output_type": "display_data"
    },
    {
     "name": "stdout",
     "output_type": "stream",
     "text": [
      "PDB IDs Absent from ASD with Multiple UniProt ID fetched from the PDB\n"
     ]
    },
    {
     "data": {
      "text/html": [
       "<div>\n",
       "<style scoped>\n",
       "    .dataframe tbody tr th:only-of-type {\n",
       "        vertical-align: middle;\n",
       "    }\n",
       "\n",
       "    .dataframe tbody tr th {\n",
       "        vertical-align: top;\n",
       "    }\n",
       "\n",
       "    .dataframe thead th {\n",
       "        text-align: right;\n",
       "    }\n",
       "</style>\n",
       "<table border=\"1\" class=\"dataframe\">\n",
       "  <thead>\n",
       "    <tr style=\"text-align: right;\">\n",
       "      <th></th>\n",
       "      <th>pdb_id</th>\n",
       "      <th>uniprot_id</th>\n",
       "      <th>uniprot_id_from_pdb</th>\n",
       "      <th>num_uniprot</th>\n",
       "      <th>present</th>\n",
       "    </tr>\n",
       "  </thead>\n",
       "  <tbody>\n",
       "  </tbody>\n",
       "</table>\n",
       "</div>"
      ],
      "text/plain": [
       "Empty DataFrame\n",
       "Columns: [pdb_id, uniprot_id, uniprot_id_from_pdb, num_uniprot, present]\n",
       "Index: []"
      ]
     },
     "metadata": {},
     "output_type": "display_data"
    }
   ],
   "source": [
    "df_allositepro = uniprot_pdb_fix(df_allositepro_data[['PDB ID', 'Uniprot ID']].rename(columns={'PDB ID': 'pdb_id', 'Uniprot ID': 'uniprot_id'}))"
   ]
  },
  {
   "cell_type": "code",
   "execution_count": 16,
   "id": "4e2c0699-be1b-462c-bb32-f9fed00580a5",
   "metadata": {},
   "outputs": [
    {
     "name": "stdout",
     "output_type": "stream",
     "text": [
      "Rows = 147  PDB IDs = 143  UniProt ACs = 127\n"
     ]
    }
   ],
   "source": [
    "# Get the set of PDB IDs\n",
    "allositepro_pdb_set = set(df_allositepro['pdb_id'])\n",
    "\n",
    "# Get the set of UniProt Accession Numbers\n",
    "allositepro_uniprot_set = set(df_allositepro['uniprot_id'])\n",
    "\n",
    "print('Rows =', len(df_allositepro_data['PDB ID']), ' PDB IDs =', len(allositepro_pdb_set), ' UniProt ACs =', len(allositepro_uniprot_set))"
   ]
  },
  {
   "cell_type": "markdown",
   "id": "fd010c74-9408-4a60-a080-8e39e636330e",
   "metadata": {},
   "source": [
    "## AlloReverse"
   ]
  },
  {
   "cell_type": "code",
   "execution_count": 17,
   "id": "21f65c0a-56b2-4535-ac42-333e62d81537",
   "metadata": {},
   "outputs": [],
   "source": [
    "df_alloreverse_training = pd.read_csv('../data/AlloReverse_Training_Set.csv')\n",
    "\n",
    "df_alloreverse_training['pdb_id'] = df_alloreverse_training['PDB ID (PDB:Chain(s)) '].dropna().str.extract('([0-9A-Z]{4}):')\n",
    "df_alloreverse_training['uniprot_id'] = df_alloreverse_training['Uniprot ID '].str.replace(' ', '')\n",
    "df_alloreverse_training = df_alloreverse_training[['uniprot_id', 'pdb_id']].dropna(subset='pdb_id')"
   ]
  },
  {
   "cell_type": "code",
   "execution_count": 18,
   "id": "5a4aaef2-5751-4b20-94ef-1cc7412c3c94",
   "metadata": {},
   "outputs": [],
   "source": [
    "df_alloreverse_test = pd.read_csv('../data/AlloReverse_Test_Set.csv')\n",
    "\n",
    "df_alloreverse_test['pdb_id'] = df_alloreverse_test['PDB ID (PDB:Chain(s)) '].dropna().str.extract('([0-9A-Z]{4}):')\n",
    "df_alloreverse_test['uniprot_id'] = df_alloreverse_test['Uniprot ID '].str.replace(' ', '')\n",
    "df_alloreverse_test = df_alloreverse_test[['uniprot_id', 'pdb_id']].dropna(subset='pdb_id')"
   ]
  },
  {
   "cell_type": "code",
   "execution_count": 19,
   "id": "f0b215c5-7ae9-49ca-83a1-5056ffe6339d",
   "metadata": {},
   "outputs": [
    {
     "name": "stdout",
     "output_type": "stream",
     "text": [
      "PDB IDs Absent from ASD with Single UniProt ID fetched from the PDB\n"
     ]
    },
    {
     "data": {
      "text/html": [
       "<div>\n",
       "<style scoped>\n",
       "    .dataframe tbody tr th:only-of-type {\n",
       "        vertical-align: middle;\n",
       "    }\n",
       "\n",
       "    .dataframe tbody tr th {\n",
       "        vertical-align: top;\n",
       "    }\n",
       "\n",
       "    .dataframe thead th {\n",
       "        text-align: right;\n",
       "    }\n",
       "</style>\n",
       "<table border=\"1\" class=\"dataframe\">\n",
       "  <thead>\n",
       "    <tr style=\"text-align: right;\">\n",
       "      <th></th>\n",
       "      <th>pdb_id</th>\n",
       "      <th>uniprot_id</th>\n",
       "      <th>uniprot_id_from_pdb</th>\n",
       "      <th>num_uniprot</th>\n",
       "      <th>present</th>\n",
       "    </tr>\n",
       "  </thead>\n",
       "  <tbody>\n",
       "    <tr>\n",
       "      <th>2</th>\n",
       "      <td>1FBP</td>\n",
       "      <td>P09467</td>\n",
       "      <td>{P00636}</td>\n",
       "      <td>1</td>\n",
       "      <td>False</td>\n",
       "    </tr>\n",
       "    <tr>\n",
       "      <th>3</th>\n",
       "      <td>1G2V</td>\n",
       "      <td>O27819</td>\n",
       "      <td>{Q9HU22}</td>\n",
       "      <td>1</td>\n",
       "      <td>False</td>\n",
       "    </tr>\n",
       "    <tr>\n",
       "      <th>39</th>\n",
       "      <td>2XCS</td>\n",
       "      <td>P66937</td>\n",
       "      <td>{Q99XG5}</td>\n",
       "      <td>1</td>\n",
       "      <td>False</td>\n",
       "    </tr>\n",
       "    <tr>\n",
       "      <th>60</th>\n",
       "      <td>3U1I</td>\n",
       "      <td>Q91H74</td>\n",
       "      <td>{Q5UB51}</td>\n",
       "      <td>1</td>\n",
       "      <td>False</td>\n",
       "    </tr>\n",
       "    <tr>\n",
       "      <th>65</th>\n",
       "      <td>4BDZ</td>\n",
       "      <td>P12497</td>\n",
       "      <td>{P14350}</td>\n",
       "      <td>1</td>\n",
       "      <td>False</td>\n",
       "    </tr>\n",
       "    <tr>\n",
       "      <th>88</th>\n",
       "      <td>5AFJ</td>\n",
       "      <td>P36544</td>\n",
       "      <td>{P58154}</td>\n",
       "      <td>1</td>\n",
       "      <td>False</td>\n",
       "    </tr>\n",
       "    <tr>\n",
       "      <th>102</th>\n",
       "      <td>4PA0</td>\n",
       "      <td>P12883</td>\n",
       "      <td>{P42212}</td>\n",
       "      <td>1</td>\n",
       "      <td>False</td>\n",
       "    </tr>\n",
       "    <tr>\n",
       "      <th>119</th>\n",
       "      <td>6KQI</td>\n",
       "      <td>P21554</td>\n",
       "      <td>{Q9V2J8}</td>\n",
       "      <td>1</td>\n",
       "      <td>False</td>\n",
       "    </tr>\n",
       "  </tbody>\n",
       "</table>\n",
       "</div>"
      ],
      "text/plain": [
       "    pdb_id uniprot_id uniprot_id_from_pdb  num_uniprot  present\n",
       "2     1FBP     P09467            {P00636}            1    False\n",
       "3     1G2V     O27819            {Q9HU22}            1    False\n",
       "39    2XCS     P66937            {Q99XG5}            1    False\n",
       "60    3U1I     Q91H74            {Q5UB51}            1    False\n",
       "65    4BDZ     P12497            {P14350}            1    False\n",
       "88    5AFJ     P36544            {P58154}            1    False\n",
       "102   4PA0     P12883            {P42212}            1    False\n",
       "119   6KQI     P21554            {Q9V2J8}            1    False"
      ]
     },
     "metadata": {},
     "output_type": "display_data"
    },
    {
     "name": "stdout",
     "output_type": "stream",
     "text": [
      "PDB IDs Absent from ASD with Multiple UniProt ID fetched from the PDB\n"
     ]
    },
    {
     "data": {
      "text/html": [
       "<div>\n",
       "<style scoped>\n",
       "    .dataframe tbody tr th:only-of-type {\n",
       "        vertical-align: middle;\n",
       "    }\n",
       "\n",
       "    .dataframe tbody tr th {\n",
       "        vertical-align: top;\n",
       "    }\n",
       "\n",
       "    .dataframe thead th {\n",
       "        text-align: right;\n",
       "    }\n",
       "</style>\n",
       "<table border=\"1\" class=\"dataframe\">\n",
       "  <thead>\n",
       "    <tr style=\"text-align: right;\">\n",
       "      <th></th>\n",
       "      <th>pdb_id</th>\n",
       "      <th>uniprot_id</th>\n",
       "      <th>uniprot_id_from_pdb</th>\n",
       "      <th>num_uniprot</th>\n",
       "      <th>present</th>\n",
       "    </tr>\n",
       "  </thead>\n",
       "  <tbody>\n",
       "    <tr>\n",
       "      <th>32</th>\n",
       "      <td>2PBK</td>\n",
       "      <td>O36607</td>\n",
       "      <td>{}</td>\n",
       "      <td>0</td>\n",
       "      <td>False</td>\n",
       "    </tr>\n",
       "    <tr>\n",
       "      <th>75</th>\n",
       "      <td>4KH0</td>\n",
       "      <td>N.A.</td>\n",
       "      <td>{}</td>\n",
       "      <td>0</td>\n",
       "      <td>False</td>\n",
       "    </tr>\n",
       "    <tr>\n",
       "      <th>92</th>\n",
       "      <td>7DD5</td>\n",
       "      <td>N.A.</td>\n",
       "      <td>{}</td>\n",
       "      <td>0</td>\n",
       "      <td>False</td>\n",
       "    </tr>\n",
       "    <tr>\n",
       "      <th>106</th>\n",
       "      <td>5OUG</td>\n",
       "      <td>N.A.</td>\n",
       "      <td>{}</td>\n",
       "      <td>0</td>\n",
       "      <td>False</td>\n",
       "    </tr>\n",
       "  </tbody>\n",
       "</table>\n",
       "</div>"
      ],
      "text/plain": [
       "    pdb_id uniprot_id uniprot_id_from_pdb  num_uniprot  present\n",
       "32    2PBK     O36607                  {}            0    False\n",
       "75    4KH0       N.A.                  {}            0    False\n",
       "92    7DD5       N.A.                  {}            0    False\n",
       "106   5OUG       N.A.                  {}            0    False"
      ]
     },
     "metadata": {},
     "output_type": "display_data"
    }
   ],
   "source": [
    "df_alloreverse_training = uniprot_pdb_fix(df_alloreverse_training)"
   ]
  },
  {
   "cell_type": "code",
   "execution_count": 20,
   "id": "d663274a-2ae7-4f28-845b-b544390728ae",
   "metadata": {},
   "outputs": [
    {
     "data": {
      "text/html": [
       "<div>\n",
       "<style scoped>\n",
       "    .dataframe tbody tr th:only-of-type {\n",
       "        vertical-align: middle;\n",
       "    }\n",
       "\n",
       "    .dataframe tbody tr th {\n",
       "        vertical-align: top;\n",
       "    }\n",
       "\n",
       "    .dataframe thead th {\n",
       "        text-align: right;\n",
       "    }\n",
       "</style>\n",
       "<table border=\"1\" class=\"dataframe\">\n",
       "  <thead>\n",
       "    <tr style=\"text-align: right;\">\n",
       "      <th></th>\n",
       "      <th>pdb_id</th>\n",
       "      <th>uniprot_id</th>\n",
       "    </tr>\n",
       "  </thead>\n",
       "  <tbody>\n",
       "    <tr>\n",
       "      <th>72</th>\n",
       "      <td>4KH0</td>\n",
       "      <td>NaN</td>\n",
       "    </tr>\n",
       "    <tr>\n",
       "      <th>103</th>\n",
       "      <td>5OUG</td>\n",
       "      <td>NaN</td>\n",
       "    </tr>\n",
       "  </tbody>\n",
       "</table>\n",
       "</div>"
      ],
      "text/plain": [
       "    pdb_id uniprot_id\n",
       "72    4KH0        NaN\n",
       "103   5OUG        NaN"
      ]
     },
     "metadata": {},
     "output_type": "display_data"
    },
    {
     "data": {
      "text/html": [
       "<div>\n",
       "<style scoped>\n",
       "    .dataframe tbody tr th:only-of-type {\n",
       "        vertical-align: middle;\n",
       "    }\n",
       "\n",
       "    .dataframe tbody tr th {\n",
       "        vertical-align: top;\n",
       "    }\n",
       "\n",
       "    .dataframe thead th {\n",
       "        text-align: right;\n",
       "    }\n",
       "</style>\n",
       "<table border=\"1\" class=\"dataframe\">\n",
       "  <thead>\n",
       "    <tr style=\"text-align: right;\">\n",
       "      <th></th>\n",
       "      <th>pdb_id</th>\n",
       "      <th>uniprot_id</th>\n",
       "    </tr>\n",
       "  </thead>\n",
       "  <tbody>\n",
       "  </tbody>\n",
       "</table>\n",
       "</div>"
      ],
      "text/plain": [
       "Empty DataFrame\n",
       "Columns: [pdb_id, uniprot_id]\n",
       "Index: []"
      ]
     },
     "metadata": {},
     "output_type": "display_data"
    }
   ],
   "source": [
    "df_alloreverse_training.loc[df_alloreverse_training['pdb_id'] == '2PBK', 'uniprot_id'] = 'Q2HRB6'\n",
    "df_alloreverse_training.loc[df_alloreverse_training['pdb_id'] == '7DD5', 'uniprot_id'] = 'A0A8I3AZV5'\n",
    "\n",
    "display(df_alloreverse_training[df_alloreverse_training.isna().any(axis=1)])\n",
    "df_alloreverse_training.dropna(inplace=True)\n",
    "display(df_alloreverse_training[df_alloreverse_training.isna().any(axis=1)])"
   ]
  },
  {
   "cell_type": "code",
   "execution_count": 21,
   "id": "2cb5877b-6ef8-45bb-a556-1bcf25d86ffc",
   "metadata": {},
   "outputs": [
    {
     "name": "stdout",
     "output_type": "stream",
     "text": [
      "PDB IDs Absent from ASD with Single UniProt ID fetched from the PDB\n"
     ]
    },
    {
     "data": {
      "text/html": [
       "<div>\n",
       "<style scoped>\n",
       "    .dataframe tbody tr th:only-of-type {\n",
       "        vertical-align: middle;\n",
       "    }\n",
       "\n",
       "    .dataframe tbody tr th {\n",
       "        vertical-align: top;\n",
       "    }\n",
       "\n",
       "    .dataframe thead th {\n",
       "        text-align: right;\n",
       "    }\n",
       "</style>\n",
       "<table border=\"1\" class=\"dataframe\">\n",
       "  <thead>\n",
       "    <tr style=\"text-align: right;\">\n",
       "      <th></th>\n",
       "      <th>pdb_id</th>\n",
       "      <th>uniprot_id</th>\n",
       "      <th>uniprot_id_from_pdb</th>\n",
       "      <th>num_uniprot</th>\n",
       "      <th>present</th>\n",
       "    </tr>\n",
       "  </thead>\n",
       "  <tbody>\n",
       "    <tr>\n",
       "      <th>19</th>\n",
       "      <td>2JFZ</td>\n",
       "      <td>P22634</td>\n",
       "      <td>{Q9ZLT0}</td>\n",
       "      <td>1</td>\n",
       "      <td>False</td>\n",
       "    </tr>\n",
       "    <tr>\n",
       "      <th>22</th>\n",
       "      <td>2SKC</td>\n",
       "      <td>P06737</td>\n",
       "      <td>{P00489}</td>\n",
       "      <td>1</td>\n",
       "      <td>False</td>\n",
       "    </tr>\n",
       "    <tr>\n",
       "      <th>24</th>\n",
       "      <td>2YQS</td>\n",
       "      <td>Q386Q8</td>\n",
       "      <td>{O74933}</td>\n",
       "      <td>1</td>\n",
       "      <td>False</td>\n",
       "    </tr>\n",
       "    <tr>\n",
       "      <th>36</th>\n",
       "      <td>5IM3</td>\n",
       "      <td>P21524</td>\n",
       "      <td>{Q9I4I1}</td>\n",
       "      <td>1</td>\n",
       "      <td>False</td>\n",
       "    </tr>\n",
       "    <tr>\n",
       "      <th>43</th>\n",
       "      <td>4XNW</td>\n",
       "      <td>P47900</td>\n",
       "      <td>{P00268}</td>\n",
       "      <td>1</td>\n",
       "      <td>False</td>\n",
       "    </tr>\n",
       "  </tbody>\n",
       "</table>\n",
       "</div>"
      ],
      "text/plain": [
       "   pdb_id uniprot_id uniprot_id_from_pdb  num_uniprot  present\n",
       "19   2JFZ     P22634            {Q9ZLT0}            1    False\n",
       "22   2SKC     P06737            {P00489}            1    False\n",
       "24   2YQS     Q386Q8            {O74933}            1    False\n",
       "36   5IM3     P21524            {Q9I4I1}            1    False\n",
       "43   4XNW     P47900            {P00268}            1    False"
      ]
     },
     "metadata": {},
     "output_type": "display_data"
    },
    {
     "name": "stdout",
     "output_type": "stream",
     "text": [
      "PDB IDs Absent from ASD with Multiple UniProt ID fetched from the PDB\n"
     ]
    },
    {
     "data": {
      "text/html": [
       "<div>\n",
       "<style scoped>\n",
       "    .dataframe tbody tr th:only-of-type {\n",
       "        vertical-align: middle;\n",
       "    }\n",
       "\n",
       "    .dataframe tbody tr th {\n",
       "        vertical-align: top;\n",
       "    }\n",
       "\n",
       "    .dataframe thead th {\n",
       "        text-align: right;\n",
       "    }\n",
       "</style>\n",
       "<table border=\"1\" class=\"dataframe\">\n",
       "  <thead>\n",
       "    <tr style=\"text-align: right;\">\n",
       "      <th></th>\n",
       "      <th>pdb_id</th>\n",
       "      <th>uniprot_id</th>\n",
       "      <th>uniprot_id_from_pdb</th>\n",
       "      <th>num_uniprot</th>\n",
       "      <th>present</th>\n",
       "    </tr>\n",
       "  </thead>\n",
       "  <tbody>\n",
       "    <tr>\n",
       "      <th>8</th>\n",
       "      <td>1I7Q</td>\n",
       "      <td>P00898</td>\n",
       "      <td>{P00900, P00897}</td>\n",
       "      <td>2</td>\n",
       "      <td>False</td>\n",
       "    </tr>\n",
       "    <tr>\n",
       "      <th>41</th>\n",
       "      <td>4R1R</td>\n",
       "      <td>P23921</td>\n",
       "      <td>{P00452, P69924}</td>\n",
       "      <td>2</td>\n",
       "      <td>False</td>\n",
       "    </tr>\n",
       "  </tbody>\n",
       "</table>\n",
       "</div>"
      ],
      "text/plain": [
       "   pdb_id uniprot_id uniprot_id_from_pdb  num_uniprot  present\n",
       "8    1I7Q     P00898    {P00900, P00897}            2    False\n",
       "41   4R1R     P23921    {P00452, P69924}            2    False"
      ]
     },
     "metadata": {},
     "output_type": "display_data"
    }
   ],
   "source": [
    "df_alloreverse_test = uniprot_pdb_fix(df_alloreverse_test)"
   ]
  },
  {
   "cell_type": "code",
   "execution_count": 22,
   "id": "4f8ee1db-6267-487d-9126-753d9429ba82",
   "metadata": {},
   "outputs": [],
   "source": [
    "df_test = pd.read_csv('../output/Test_Set.csv')"
   ]
  },
  {
   "cell_type": "code",
   "execution_count": 23,
   "id": "92a3fb25-f97d-4753-9116-761ca7a39b17",
   "metadata": {},
   "outputs": [
    {
     "data": {
      "image/png": "[encoded data removed]",
      "text/plain": [
       "<Figure size 640x480 with 1 Axes>"
      ]
     },
     "metadata": {},
     "output_type": "display_data"
    }
   ],
   "source": [
    "matplotlib_venn.venn3([set(df_test['allosteric_pdb']), set(df_alloreverse_training['pdb_id']), set(df_alloreverse_test['pdb_id'])], ['My Test Set', 'AlloReverse Training', 'AlloReverse Test']);"
   ]
  },
  {
   "cell_type": "code",
   "execution_count": 24,
   "id": "9a0b33b3-1475-4f10-a3f3-5c9a8d9b7227",
   "metadata": {},
   "outputs": [
    {
     "data": {
      "image/png": "[encoded data removed]",
      "text/plain": [
       "<Figure size 640x480 with 1 Axes>"
      ]
     },
     "metadata": {},
     "output_type": "display_data"
    }
   ],
   "source": [
    "matplotlib_venn.venn3([set(df_test['pdb_uniprot']), set(df_alloreverse_training['uniprot_id']), set(df_alloreverse_test['uniprot_id'])], ['My Test Set', 'AlloReverse Training', 'AlloReverse Test']);"
   ]
  },
  {
   "cell_type": "markdown",
   "id": "eb157932-9da5-4b0a-9045-6915cf954c16",
   "metadata": {},
   "source": [
    "## Allopred Training Set"
   ]
  },
  {
   "cell_type": "code",
   "execution_count": 25,
   "id": "b4243d4e-abb0-4cea-81d9-94d1394ec04d",
   "metadata": {},
   "outputs": [
    {
     "name": "stdout",
     "output_type": "stream",
     "text": [
      "PDB IDs Absent from ASD with Single UniProt ID fetched from the PDB\n"
     ]
    },
    {
     "data": {
      "text/html": [
       "<div>\n",
       "<style scoped>\n",
       "    .dataframe tbody tr th:only-of-type {\n",
       "        vertical-align: middle;\n",
       "    }\n",
       "\n",
       "    .dataframe tbody tr th {\n",
       "        vertical-align: top;\n",
       "    }\n",
       "\n",
       "    .dataframe thead th {\n",
       "        text-align: right;\n",
       "    }\n",
       "</style>\n",
       "<table border=\"1\" class=\"dataframe\">\n",
       "  <thead>\n",
       "    <tr style=\"text-align: right;\">\n",
       "      <th></th>\n",
       "      <th>pdb_id</th>\n",
       "      <th>uniprot_id</th>\n",
       "      <th>uniprot_id_from_pdb</th>\n",
       "      <th>num_uniprot</th>\n",
       "      <th>present</th>\n",
       "    </tr>\n",
       "  </thead>\n",
       "  <tbody>\n",
       "    <tr>\n",
       "      <th>1</th>\n",
       "      <td>2RDE</td>\n",
       "      <td>A5F1K1</td>\n",
       "      <td>{A0A0H3ADR8}</td>\n",
       "      <td>1</td>\n",
       "      <td>False</td>\n",
       "    </tr>\n",
       "    <tr>\n",
       "      <th>2</th>\n",
       "      <td>3PJG</td>\n",
       "      <td>C4XAX5</td>\n",
       "      <td>{A0A0J9WZA6}</td>\n",
       "      <td>1</td>\n",
       "      <td>False</td>\n",
       "    </tr>\n",
       "    <tr>\n",
       "      <th>5</th>\n",
       "      <td>4P3H</td>\n",
       "      <td>O36607</td>\n",
       "      <td>{Q2HRB6}</td>\n",
       "      <td>1</td>\n",
       "      <td>False</td>\n",
       "    </tr>\n",
       "    <tr>\n",
       "      <th>11</th>\n",
       "      <td>4MBS</td>\n",
       "      <td>P00268</td>\n",
       "      <td>{P51681}</td>\n",
       "      <td>1</td>\n",
       "      <td>False</td>\n",
       "    </tr>\n",
       "    <tr>\n",
       "      <th>18</th>\n",
       "      <td>4OO9</td>\n",
       "      <td>P00720</td>\n",
       "      <td>{P41594}</td>\n",
       "      <td>1</td>\n",
       "      <td>False</td>\n",
       "    </tr>\n",
       "    <tr>\n",
       "      <th>31</th>\n",
       "      <td>4IO8</td>\n",
       "      <td>P08107</td>\n",
       "      <td>{P0DMV8}</td>\n",
       "      <td>1</td>\n",
       "      <td>False</td>\n",
       "    </tr>\n",
       "    <tr>\n",
       "      <th>71</th>\n",
       "      <td>3HO8</td>\n",
       "      <td>Q99UY8</td>\n",
       "      <td>{A0A0H3JRU9}</td>\n",
       "      <td>1</td>\n",
       "      <td>False</td>\n",
       "    </tr>\n",
       "    <tr>\n",
       "      <th>77</th>\n",
       "      <td>3LSW</td>\n",
       "      <td>Q9Z2W9</td>\n",
       "      <td>{P19492}</td>\n",
       "      <td>1</td>\n",
       "      <td>False</td>\n",
       "    </tr>\n",
       "    <tr>\n",
       "      <th>105</th>\n",
       "      <td>1QP0</td>\n",
       "      <td>P9WJJ7</td>\n",
       "      <td>{P0ACP7}</td>\n",
       "      <td>1</td>\n",
       "      <td>False</td>\n",
       "    </tr>\n",
       "    <tr>\n",
       "      <th>108</th>\n",
       "      <td>3LAJ</td>\n",
       "      <td>P9WPY8</td>\n",
       "      <td>{P9WPY9}</td>\n",
       "      <td>1</td>\n",
       "      <td>False</td>\n",
       "    </tr>\n",
       "  </tbody>\n",
       "</table>\n",
       "</div>"
      ],
      "text/plain": [
       "    pdb_id uniprot_id uniprot_id_from_pdb  num_uniprot  present\n",
       "1     2RDE     A5F1K1        {A0A0H3ADR8}            1    False\n",
       "2     3PJG     C4XAX5        {A0A0J9WZA6}            1    False\n",
       "5     4P3H     O36607            {Q2HRB6}            1    False\n",
       "11    4MBS     P00268            {P51681}            1    False\n",
       "18    4OO9     P00720            {P41594}            1    False\n",
       "31    4IO8     P08107            {P0DMV8}            1    False\n",
       "71    3HO8     Q99UY8        {A0A0H3JRU9}            1    False\n",
       "77    3LSW     Q9Z2W9            {P19492}            1    False\n",
       "105   1QP0     P9WJJ7            {P0ACP7}            1    False\n",
       "108   3LAJ     P9WPY8            {P9WPY9}            1    False"
      ]
     },
     "metadata": {},
     "output_type": "display_data"
    },
    {
     "name": "stdout",
     "output_type": "stream",
     "text": [
      "PDB IDs Absent from ASD with Multiple UniProt ID fetched from the PDB\n"
     ]
    },
    {
     "data": {
      "text/html": [
       "<div>\n",
       "<style scoped>\n",
       "    .dataframe tbody tr th:only-of-type {\n",
       "        vertical-align: middle;\n",
       "    }\n",
       "\n",
       "    .dataframe tbody tr th {\n",
       "        vertical-align: top;\n",
       "    }\n",
       "\n",
       "    .dataframe thead th {\n",
       "        text-align: right;\n",
       "    }\n",
       "</style>\n",
       "<table border=\"1\" class=\"dataframe\">\n",
       "  <thead>\n",
       "    <tr style=\"text-align: right;\">\n",
       "      <th></th>\n",
       "      <th>pdb_id</th>\n",
       "      <th>uniprot_id</th>\n",
       "      <th>uniprot_id_from_pdb</th>\n",
       "      <th>num_uniprot</th>\n",
       "      <th>present</th>\n",
       "    </tr>\n",
       "  </thead>\n",
       "  <tbody>\n",
       "  </tbody>\n",
       "</table>\n",
       "</div>"
      ],
      "text/plain": [
       "Empty DataFrame\n",
       "Columns: [pdb_id, uniprot_id, uniprot_id_from_pdb, num_uniprot, present]\n",
       "Index: []"
      ]
     },
     "metadata": {},
     "output_type": "display_data"
    },
    {
     "name": "stdout",
     "output_type": "stream",
     "text": [
      "Rows = 119  PDB IDs = 119  UniProt ACs = 119\n"
     ]
    }
   ],
   "source": [
    "# Open the training and test set tab separated files from Allopred GitHub repo\n",
    "df_allopred_training = pd.read_table('https://github.com/jgreener64/allopred/raw/25037ad6cff312ee2886f35ea39d5a403167b7cb/dataset/training_set.tsv')\n",
    "df_allopred_test = pd.read_table('https://github.com/jgreener64/allopred/raw/25037ad6cff312ee2886f35ea39d5a403167b7cb/dataset/test_set.tsv')\n",
    "df_allopred_all = pd.concat([df_allopred_training, df_allopred_test]).reset_index(drop=True)\n",
    "\n",
    "# Replace obsolete PDB IDs\n",
    "df_allopred_all.replace({'PDB ID': obsolete_pdbs}, inplace=True)\n",
    "\n",
    "# Fix UniProt IDs by fetching them from PDB and resolving discrepancies\n",
    "df_allopred = uniprot_pdb_fix(df_allopred_all[['PDB ID', 'UniProt ID']].rename(columns={'PDB ID': 'pdb_id', 'UniProt ID': 'uniprot_id'}))\n",
    "\n",
    "# Get the set of PDB IDs\n",
    "allopred_pdb_set = set(df_allopred['pdb_id'])\n",
    "\n",
    "# Get the set of UniProt Accession Numbers\n",
    "allopred_uniprot_set = set(df_allopred['uniprot_id'])\n",
    "\n",
    "print('Rows =', len(df_allopred_all['PDB ID']), ' PDB IDs =', len(allopred_pdb_set), ' UniProt ACs =', len(allopred_uniprot_set))"
   ]
  },
  {
   "cell_type": "markdown",
   "id": "b9ada6df-ecd5-4247-adc6-e9042cbf8b37",
   "metadata": {},
   "source": [
    "## PASSer (AutoML) and PASSERRank\n",
    "\n",
    "The features of the 207 PDB srtuctures used to train PASSer's AutoML and learning to rank models are available at https://passer.smu.edu/static/allorank.zip"
   ]
  },
  {
   "cell_type": "code",
   "execution_count": 26,
   "id": "3ba83ab0-f1a5-440c-8e2b-71b6b1b0e158",
   "metadata": {},
   "outputs": [],
   "source": [
    "from zipfile import ZipFile\n",
    "from io import BytesIO\n",
    "import pickle\n",
    "\n",
    "# # Get the PASSer (AutoML) and PASSerRank dataset\n",
    "# response = requests.get('https://passer.smu.edu/static/allorank.zip')\n",
    "# passer_dataset = ZipFile(BytesIO(response.content))\n",
    "# passerrank_dataset_downloaded = pickle.load(passer_dataset.open('allorank/asd/features.pkl'))\n",
    "\n",
    "# The file above is also provided locally at '../data/passerank_dataset/allorank/asd/features.pkl'\n",
    "passerrank_dataset_downloaded = pickle.load(open('../data/passerank_dataset/allorank/asd/features.pkl', 'rb'))"
   ]
  },
  {
   "cell_type": "markdown",
   "id": "2380cbd2-4af9-4571-a195-c1acfb488aa2",
   "metadata": {},
   "source": [
    "The PDB IDs are not available in the datasets. In order to identify the PDB IDs the PasserRank dataset generation pipeline (https://github.com/smu-tao-group/PASSerRank) was run to obtain the features file `../data/passerank_dataset/asd_featurized/features.pkl`. The source code was modified to write the corresponding PDB IDs into `../data/passerank_dataset/asd_featurized/featurized_pdbs.txt`"
   ]
  },
  {
   "cell_type": "code",
   "execution_count": 27,
   "id": "dc5abfaf-bf94-4ba6-920f-0c9a2750b46d",
   "metadata": {},
   "outputs": [
    {
     "name": "stdout",
     "output_type": "stream",
     "text": [
      "Are the number of items in the generated dataset same as the number of PDB IDs?\n",
      "True\n"
     ]
    }
   ],
   "source": [
    "import numpy as np\n",
    "\n",
    "# Read the features file generated by PASSerRank dataset creation pipeline\n",
    "passerrank_dataset_generated = pickle.load(open('../data/passerank_dataset/asd_featurized/features.pkl', 'rb'))\n",
    "\n",
    "passerrank_generated_pdb_ids = [_.strip() for _ in open('../data/passerank_dataset/asd_featurized/featurized_pdbs.txt', 'r').readlines()]\n",
    "\n",
    "# Ensure the lengths of the two arrays are same\n",
    "print('Are the number of items in the generated dataset same as the number of PDB IDs?')\n",
    "print(len(passerrank_dataset_generated) == len(passerrank_generated_pdb_ids))\n",
    "\n",
    "passerrank_downloaded = [np.delete(np.array(_), 6, 1) for _ in passerrank_dataset_downloaded]\n",
    "passerrank_generated = [np.delete(np.array(_), 6, 1) for _ in passerrank_dataset_generated]"
   ]
  },
  {
   "cell_type": "markdown",
   "id": "de45d34b-efd8-4bc3-927b-6176c0cc9345",
   "metadata": {},
   "source": [
    "Match the features in the downloaded dataset with those from the generated dataset and save the corresponding PDB IDs"
   ]
  },
  {
   "cell_type": "code",
   "execution_count": 28,
   "id": "3622eedd-08d4-4f56-a892-fc3ca9ac7694",
   "metadata": {},
   "outputs": [
    {
     "name": "stdout",
     "output_type": "stream",
     "text": [
      "PDB ID for the feature at index 185 could not be identified.\n",
      "\n",
      "{'3ZFZ', '3F1O', '4UUU', '3H30', '3RZ3', '4BQH', '4OYI', '1NH8', '3NF7', '2I80', '4MBS', '3THO', '3MWB', '4I89', '3DBA', '1YGC', '2A68', '3ETL', '3ATH', '3MJX', '1XJG', '3AUY', '3ZM9', '3OF1', '4BXH', '1IKW', '3PDT', '3LAP', '2PIO', '1CE8', '1T48', '2Q5O', '3TUV', '2P2N', '3BRK', '4EAJ', '2VPR', '4CEV', '3PTZ', '4OR2', '1JLR', '3FUD', '2BBH', '1GPH', '3L76', '1I6K', '2ORO', '3CMW', '1GFZ', '2O8B', '2FSZ', '2VJY', '4LUC', '1PFK', '1PEQ', '3QEM', '2QMX', '1ZDQ', '2JFZ', '4A7A', '4FC0', '2BTY', '1UXU', '3PA8', '4OP0', '3S8A', '1QW7', '1MC0', '1HK8', '1FCJ', '2HVW', '1O0S', '4HNN', '4Q0A', '3C35', '1VM1', '2JFN', '4TQC', '4TVG', '3MZH', '1W0F', '3OC1', '1UM8', '1W96', '3KJF', '4JAF', '1VST', '2QB4', '4AQH', '2H08', '1G9V', '3LA3', '2ZMF', '1TUG', '3ZG1', '4P3H', '3E6C', '2VD4', '3KH5', '3PG9', '2UYI', '1I1Q', '1K7E', '3N1V', '1BJ4', '1FX2', '3BEO', '3MKS', '2I7P', '4NIR', '3KC1', '2JC9', '3D2P', '2YC5', '1EGY', '4TPT', '3JVS', '4OHF', '3NAX', '1SG8', '1V4S', '4KZT', '4AVB', '1T5A', '1VPW', '4M0Z', '4BNY', '3HL8', '1R1V', '3NUD', '1SHJ', '1G0R', '3QAK', '1NSG', '4RUT', '3ETQ', '4QFX', '1Z2L', '4EU0', '4B76', '1CSM', '2HA4', '3SMQ', '3IAD', '2DJZ', '3K8S', '4I4F', '2PUV', '4QPL', '1VEA', '2C13', '1ZRC', '2VVT', '3F78', '3ETD', '3UMO', '1TBF', '4Q9M', '1F2U', '1MSV', '3VP2', '4A7W', '4DFZ', '2R1R', '4C7B', '1XMV', '4QSK', '2PA3', '1HAK', '1OG0', '1XXB', '3EEB', '4P9D', '4FXY', '3PNA', '1FS5', '4B9Q', '3EPS', '3PP1', '2RDE', '4M1P', '2ONB', '11BG', '4EJN', '2VD3', '1CZA', '3IJG', '2XTA', '3PJG', '2CDQ', '1T34', '2BXA', '2DEW', '4GQQ', '4JA8', '4I1R', '3F6H', '1M8P', '2BU8', '3D2F', '3HV8', '1EFA', '4KE5', '2EWN', '1YXD', '3E3I'}\n"
     ]
    }
   ],
   "source": [
    "passer_pdb_set = set()\n",
    "for i, protein1 in enumerate(passerrank_downloaded):\n",
    "    found = False\n",
    "    for j, protein2 in enumerate(passerrank_generated):\n",
    "        if np.array_equal(protein1, protein2):\n",
    "            passer_pdb_set.add(passerrank_generated_pdb_ids[j])\n",
    "            found = True\n",
    "    if not found:\n",
    "        print(f'PDB ID for the feature at index {i} could not be identified.')\n",
    "print()\n",
    "print(passer_pdb_set)"
   ]
  },
  {
   "cell_type": "code",
   "execution_count": 29,
   "id": "21644557-5a91-4c5a-9aa1-8027b18fff95",
   "metadata": {},
   "outputs": [
    {
     "name": "stdout",
     "output_type": "stream",
     "text": [
      "1 PDB ID could not be identified\n"
     ]
    }
   ],
   "source": [
    "print(len(passerrank_downloaded) - len(passer_pdb_set), 'PDB ID could not be identified', )"
   ]
  },
  {
   "cell_type": "code",
   "execution_count": 30,
   "id": "baaf2564-0194-40e4-804a-38f3cabc9b8f",
   "metadata": {},
   "outputs": [],
   "source": [
    "# passer_pdb_set = {\n",
    "#     '3F1O', '4A7A', '1K7E', '3ETQ', '2YC5', '4AVB', '1ZDQ', '1V4S', '2BU8',\n",
    "#     '1IKW', '4M0Z', '3OC1', '1I6K', '4B76', '2ZMF', '3BEO', '3NAX', '1BJ4',\n",
    "#     '3F78', '2UYI', '1O0S', '2Q5O', '4OYI', '2I80', '4KE5', '1VPW', '2HA4',\n",
    "#     '1MSV', '1FX2', '1T5A', '1ZRC', '4OR2', '4RUT', '3CMW', '3KC1', '3PP1',\n",
    "#     '4I1R', '4EAJ', '3E6C', '3ATH', '3PTZ', '4M1P', '3PDT', '3D2F', '3LA3',\n",
    "#     '1CZA', '1EGY', '4LUC', '1SHJ', '3E3I', '3N1V', '4AQH', '1G0R', '3MKS',\n",
    "#     '1EFA', '1T48', '3OF1', '1XJG', '3DBA', '2PIO', '1CE8', '4FXY', '1GFZ',\n",
    "#     '2O8B', '3MJX', '4I4F', '3MZH', '1SG8', '3EEB', '1UXU', '3AUY', '3NF7',\n",
    "#     '4BQH', '2QB4', '1TBF', '1YGC', '3BRK', '2C13', '3PNA', '2BXA', '4FC0',\n",
    "#     '3RZ3', '3C35', '4UUU', '4TVG', '3VP2', '2EWN', '2ORO', '3LAP', '4CEV',\n",
    "#     '1TUG', '1UM8', '1W96', '4B9Q', '3QAK', '3IAD', '3ZFZ', '2DEW', '1MC0',\n",
    "#     '3SMQ', '3S8A', '2R1R', '4I89', '2I7P', '2JFZ', '1GPH', '3EPS', '1PEQ',\n",
    "#     '1FCJ', '2VVT', '2BTY', '4EJN', '3PA8', '3FUD', '2VJY', '3ETL', '4GQQ',\n",
    "#     '4TPT', '3H30', '2HVW', '4QSK', '2RDE', '1PFK', '2VPR', '1HAK', '4P3H',\n",
    "#     '1JLR', '4Q9M', '2FSZ', '2H08', '4BXH', '1W0F', '4MBS', '1M8P', '1XMV',\n",
    "#     '4EU0', '3JVS', '4DFZ', '3THO', '3ZG1', '2P2N', '1F2U', '4BNY', '2JC9',\n",
    "#     '3ETD', '3HL8', '4JA8', '4P9D', '2PUV', '1YXD', '4NIR', '2ONB', '2VD4',\n",
    "#     '1R1V', '4TQC', '2CDQ', '4OP0', '3KJF', '4C7B', '2XTA', '1QW7', '3PG9',\n",
    "#     '3HV8', '2VD3', '1G9V', '4A7W', '2QMX', '1NSG', '4JAF', '4OHF', '1FS5',\n",
    "#     '3PJG', '3TUV', '3L76', '4QPL', '4Q0A', '1Z2L', '3F6H', '1I1Q', '2PA3',\n",
    "#     '3NUD', '2BBH', '4QFX', '4HNN', '3QEM', '3IJG', '3D2P', '4KZT', '3ZM9',\n",
    "#     '1XXB', '2A68', '1CSM', '1VEA', '11BG', '2DJZ', '3KH5', '1T34', '1VM1',\n",
    "#     '1OG0', '1NH8', '1VST', '2JFN', '1HK8', '3MWB', '3UMO', '3K8S'}"
   ]
  },
  {
   "cell_type": "code",
   "execution_count": 31,
   "id": "6aefb841-8f2d-4dcf-8364-a539124961b4",
   "metadata": {},
   "outputs": [],
   "source": [
    "replace_obsolete_pdbs(passer_pdb_set, obsolete_pdbs)"
   ]
  },
  {
   "cell_type": "code",
   "execution_count": 32,
   "id": "6a87edf1-19e6-4353-b5e6-d5c54ee3c61e",
   "metadata": {},
   "outputs": [
    {
     "data": {
      "text/html": [
       "<div>\n",
       "<style scoped>\n",
       "    .dataframe tbody tr th:only-of-type {\n",
       "        vertical-align: middle;\n",
       "    }\n",
       "\n",
       "    .dataframe tbody tr th {\n",
       "        vertical-align: top;\n",
       "    }\n",
       "\n",
       "    .dataframe thead th {\n",
       "        text-align: right;\n",
       "    }\n",
       "</style>\n",
       "<table border=\"1\" class=\"dataframe\">\n",
       "  <thead>\n",
       "    <tr style=\"text-align: right;\">\n",
       "      <th></th>\n",
       "      <th>pdb_id</th>\n",
       "      <th>uniprot_id_from_pdb</th>\n",
       "    </tr>\n",
       "  </thead>\n",
       "  <tbody>\n",
       "    <tr>\n",
       "      <th>0</th>\n",
       "      <td>4QSK</td>\n",
       "      <td>{}</td>\n",
       "    </tr>\n",
       "  </tbody>\n",
       "</table>\n",
       "</div>"
      ],
      "text/plain": [
       "  pdb_id uniprot_id_from_pdb\n",
       "0   4QSK                  {}"
      ]
     },
     "execution_count": 32,
     "metadata": {},
     "output_type": "execute_result"
    }
   ],
   "source": [
    "passer_pdb_not_in_asd = passer_pdb_set - set(df_asd.loc[df_asd['allosteric_pdb'].isin(passer_pdb_set), 'allosteric_pdb'])\n",
    "uniprot_from_pdb(passer_pdb_not_in_asd)"
   ]
  },
  {
   "cell_type": "code",
   "execution_count": 33,
   "id": "d2ce58ad-ee8b-4a2d-b08a-cc0847a1083f",
   "metadata": {},
   "outputs": [
    {
     "data": {
      "text/html": [
       "<div>\n",
       "<style scoped>\n",
       "    .dataframe tbody tr th:only-of-type {\n",
       "        vertical-align: middle;\n",
       "    }\n",
       "\n",
       "    .dataframe tbody tr th {\n",
       "        vertical-align: top;\n",
       "    }\n",
       "\n",
       "    .dataframe thead th {\n",
       "        text-align: right;\n",
       "    }\n",
       "</style>\n",
       "<table border=\"1\" class=\"dataframe\">\n",
       "  <thead>\n",
       "    <tr style=\"text-align: right;\">\n",
       "      <th></th>\n",
       "      <th>pdb_id</th>\n",
       "      <th>uniprot_id</th>\n",
       "    </tr>\n",
       "  </thead>\n",
       "  <tbody>\n",
       "    <tr>\n",
       "      <th>0</th>\n",
       "      <td>3ZFZ</td>\n",
       "      <td>A0A0H3JPA5</td>\n",
       "    </tr>\n",
       "    <tr>\n",
       "      <th>2</th>\n",
       "      <td>3F1O</td>\n",
       "      <td>Q99814</td>\n",
       "    </tr>\n",
       "    <tr>\n",
       "      <th>3</th>\n",
       "      <td>4UUU</td>\n",
       "      <td>P35520</td>\n",
       "    </tr>\n",
       "    <tr>\n",
       "      <th>4</th>\n",
       "      <td>3H30</td>\n",
       "      <td>P68400</td>\n",
       "    </tr>\n",
       "    <tr>\n",
       "      <th>5</th>\n",
       "      <td>3RZ3</td>\n",
       "      <td>P49427</td>\n",
       "    </tr>\n",
       "    <tr>\n",
       "      <th>...</th>\n",
       "      <td>...</td>\n",
       "      <td>...</td>\n",
       "    </tr>\n",
       "    <tr>\n",
       "      <th>222</th>\n",
       "      <td>1EFA</td>\n",
       "      <td>P03023</td>\n",
       "    </tr>\n",
       "    <tr>\n",
       "      <th>223</th>\n",
       "      <td>4KE5</td>\n",
       "      <td>P26663</td>\n",
       "    </tr>\n",
       "    <tr>\n",
       "      <th>225</th>\n",
       "      <td>2EWN</td>\n",
       "      <td>P06709</td>\n",
       "    </tr>\n",
       "    <tr>\n",
       "      <th>226</th>\n",
       "      <td>1YXD</td>\n",
       "      <td>P0A6L2</td>\n",
       "    </tr>\n",
       "    <tr>\n",
       "      <th>227</th>\n",
       "      <td>3E3I</td>\n",
       "      <td>P45148</td>\n",
       "    </tr>\n",
       "  </tbody>\n",
       "</table>\n",
       "<p>206 rows × 2 columns</p>\n",
       "</div>"
      ],
      "text/plain": [
       "    pdb_id  uniprot_id\n",
       "0     3ZFZ  A0A0H3JPA5\n",
       "2     3F1O      Q99814\n",
       "3     4UUU      P35520\n",
       "4     3H30      P68400\n",
       "5     3RZ3      P49427\n",
       "..     ...         ...\n",
       "222   1EFA      P03023\n",
       "223   4KE5      P26663\n",
       "225   2EWN      P06709\n",
       "226   1YXD      P0A6L2\n",
       "227   3E3I      P45148\n",
       "\n",
       "[206 rows x 2 columns]"
      ]
     },
     "execution_count": 33,
     "metadata": {},
     "output_type": "execute_result"
    }
   ],
   "source": [
    "df_passer_pdbs = pd.DataFrame(passer_pdb_set, columns=['pdb_id'])\n",
    "df_passer_pdb_uniprot = df_passer_pdbs.merge(df_asd, how='left', left_on='pdb_id', right_on='allosteric_pdb').drop_duplicates()\n",
    "df_passer_pdb_uniprot = df_passer_pdb_uniprot[['pdb_id', 'pdb_uniprot']].drop_duplicates().rename(columns={'pdb_uniprot': 'uniprot_id'})\n",
    "df_passer_pdb_uniprot"
   ]
  },
  {
   "cell_type": "code",
   "execution_count": 34,
   "id": "bd56efc1-a167-4179-bfb8-67d41b119f6e",
   "metadata": {},
   "outputs": [
    {
     "name": "stdout",
     "output_type": "stream",
     "text": [
      "PDB IDs Absent from ASD with Single UniProt ID fetched from the PDB\n"
     ]
    },
    {
     "data": {
      "text/html": [
       "<div>\n",
       "<style scoped>\n",
       "    .dataframe tbody tr th:only-of-type {\n",
       "        vertical-align: middle;\n",
       "    }\n",
       "\n",
       "    .dataframe tbody tr th {\n",
       "        vertical-align: top;\n",
       "    }\n",
       "\n",
       "    .dataframe thead th {\n",
       "        text-align: right;\n",
       "    }\n",
       "</style>\n",
       "<table border=\"1\" class=\"dataframe\">\n",
       "  <thead>\n",
       "    <tr style=\"text-align: right;\">\n",
       "      <th></th>\n",
       "      <th>pdb_id</th>\n",
       "      <th>uniprot_id</th>\n",
       "      <th>uniprot_id_from_pdb</th>\n",
       "      <th>num_uniprot</th>\n",
       "      <th>present</th>\n",
       "    </tr>\n",
       "  </thead>\n",
       "  <tbody>\n",
       "  </tbody>\n",
       "</table>\n",
       "</div>"
      ],
      "text/plain": [
       "Empty DataFrame\n",
       "Columns: [pdb_id, uniprot_id, uniprot_id_from_pdb, num_uniprot, present]\n",
       "Index: []"
      ]
     },
     "metadata": {},
     "output_type": "display_data"
    },
    {
     "name": "stdout",
     "output_type": "stream",
     "text": [
      "PDB IDs Absent from ASD with Multiple UniProt ID fetched from the PDB\n"
     ]
    },
    {
     "data": {
      "text/html": [
       "<div>\n",
       "<style scoped>\n",
       "    .dataframe tbody tr th:only-of-type {\n",
       "        vertical-align: middle;\n",
       "    }\n",
       "\n",
       "    .dataframe tbody tr th {\n",
       "        vertical-align: top;\n",
       "    }\n",
       "\n",
       "    .dataframe thead th {\n",
       "        text-align: right;\n",
       "    }\n",
       "</style>\n",
       "<table border=\"1\" class=\"dataframe\">\n",
       "  <thead>\n",
       "    <tr style=\"text-align: right;\">\n",
       "      <th></th>\n",
       "      <th>pdb_id</th>\n",
       "      <th>uniprot_id</th>\n",
       "      <th>uniprot_id_from_pdb</th>\n",
       "      <th>num_uniprot</th>\n",
       "      <th>present</th>\n",
       "    </tr>\n",
       "  </thead>\n",
       "  <tbody>\n",
       "    <tr>\n",
       "      <th>166</th>\n",
       "      <td>4QSK</td>\n",
       "      <td>NaN</td>\n",
       "      <td>{}</td>\n",
       "      <td>0</td>\n",
       "      <td>False</td>\n",
       "    </tr>\n",
       "  </tbody>\n",
       "</table>\n",
       "</div>"
      ],
      "text/plain": [
       "    pdb_id uniprot_id uniprot_id_from_pdb  num_uniprot  present\n",
       "166   4QSK        NaN                  {}            0    False"
      ]
     },
     "metadata": {},
     "output_type": "display_data"
    }
   ],
   "source": [
    "df_passer = uniprot_pdb_fix(df_passer_pdb_uniprot)"
   ]
  },
  {
   "cell_type": "code",
   "execution_count": 35,
   "id": "cd3b4eca-be37-4e34-9975-3564b48d42be",
   "metadata": {},
   "outputs": [
    {
     "name": "stdout",
     "output_type": "stream",
     "text": [
      "Rows = 147  PDB IDs = 143  UniProt ACs = 127\n"
     ]
    }
   ],
   "source": [
    "# Get the set of PDB IDs\n",
    "passer_pdb_set = set(df_passer['pdb_id'])\n",
    "\n",
    "# Get the set of UniProt Accession Numbers\n",
    "passer_uniprot_set = set(df_passer['uniprot_id'])\n",
    "\n",
    "print('Rows =', len(df_allositepro_data['PDB ID']), ' PDB IDs =', len(allositepro_pdb_set), ' UniProt ACs =', len(allositepro_uniprot_set))"
   ]
  },
  {
   "cell_type": "markdown",
   "id": "2982b7cf-e7f5-4b86-96b3-6cdcf4638772",
   "metadata": {},
   "source": [
    "## Venn Diagrams"
   ]
  },
  {
   "cell_type": "code",
   "execution_count": 36,
   "id": "f43ff40e-eb86-4354-81f0-558e1300cd72",
   "metadata": {},
   "outputs": [
    {
     "data": {
      "image/png": "[encoded data removed]",
      "text/plain": [
       "<Figure size 640x480 with 1 Axes>"
      ]
     },
     "metadata": {},
     "output_type": "display_data"
    }
   ],
   "source": [
    "matplotlib_venn.venn3([allosite_uniprot_set, allositepro_uniprot_set, allopred_uniprot_set], ['Allosite', 'AllositePro', 'AlloPred']);"
   ]
  },
  {
   "cell_type": "code",
   "execution_count": 37,
   "id": "989bbcdc-269b-4de9-bb2a-414c8f20b8c5",
   "metadata": {},
   "outputs": [
    {
     "data": {
      "image/png": "[encoded data removed]",
      "text/plain": [
       "<Figure size 640x480 with 1 Axes>"
      ]
     },
     "metadata": {},
     "output_type": "display_data"
    }
   ],
   "source": [
    "matplotlib_venn.venn3([allosite_pdb_set, allositepro_pdb_set, allopred_pdb_set], ['Allosite', 'AllositePro', 'AlloPred']);"
   ]
  },
  {
   "cell_type": "code",
   "execution_count": 38,
   "id": "46b7e703-5883-41d3-99a5-d57c4cf426c1",
   "metadata": {},
   "outputs": [
    {
     "data": {
      "image/png": "[encoded data removed]",
      "text/plain": [
       "<Figure size 640x480 with 1 Axes>"
      ]
     },
     "metadata": {},
     "output_type": "display_data"
    }
   ],
   "source": [
    "matplotlib_venn.venn3([allosite_uniprot_set, allositepro_uniprot_set, allo_uniprot_set], ['Allosite', 'AllositePro', 'ALLO']);"
   ]
  },
  {
   "cell_type": "code",
   "execution_count": 39,
   "id": "8dda63db-d2d8-40da-8c15-93aae6765ae1",
   "metadata": {},
   "outputs": [
    {
     "data": {
      "image/png": "[encoded data removed]",
      "text/plain": [
       "<Figure size 640x480 with 1 Axes>"
      ]
     },
     "metadata": {},
     "output_type": "display_data"
    }
   ],
   "source": [
    "matplotlib_venn.venn3([allosite_pdb_set, allositepro_pdb_set, allo_pdb_set], ['Allosite', 'AllositePro', 'ALLO']);"
   ]
  },
  {
   "cell_type": "markdown",
   "id": "3cc58394-6fce-47a8-bb5a-8be92b4cd5a3",
   "metadata": {},
   "source": [
    "The Allosite and AllositePro datasets are different and the AlloPred dataset is contained in AllositePro dataset."
   ]
  },
  {
   "cell_type": "code",
   "execution_count": 40,
   "id": "eb1e6bf6-75c8-4dec-aa7f-81c62efa851f",
   "metadata": {},
   "outputs": [
    {
     "data": {
      "image/png": "[encoded data removed]",
      "text/plain": [
       "<Figure size 640x480 with 1 Axes>"
      ]
     },
     "metadata": {},
     "output_type": "display_data"
    }
   ],
   "source": [
    "matplotlib_venn.venn3([asd_pdb_set, allosite_pdb_set, allositepro_pdb_set], ['ASD', 'Allosite', 'AllositePro']);"
   ]
  },
  {
   "cell_type": "code",
   "execution_count": 41,
   "id": "9d7e20ba-7940-48a8-8fc8-e16e5a2ed01e",
   "metadata": {},
   "outputs": [
    {
     "data": {
      "image/png": "[encoded data removed]",
      "text/plain": [
       "<Figure size 640x480 with 1 Axes>"
      ]
     },
     "metadata": {},
     "output_type": "display_data"
    }
   ],
   "source": [
    "matplotlib_venn.venn3([asd_uniprot_set, allosite_uniprot_set, allositepro_uniprot_set], ['ASD', 'Allosite', 'AllositePro']);"
   ]
  },
  {
   "cell_type": "code",
   "execution_count": 42,
   "id": "7b1dfc0a-f152-43d5-b382-35c913c2ea52",
   "metadata": {},
   "outputs": [
    {
     "data": {
      "image/png": "[encoded data removed]",
      "text/plain": [
       "<Figure size 640x480 with 1 Axes>"
      ]
     },
     "metadata": {},
     "output_type": "display_data"
    }
   ],
   "source": [
    "matplotlib_venn.venn3([asd_pdb_set, allosite_pdb_set, allositepro_pdb_set], ['ASD', 'Allosite', 'AllositePro']);"
   ]
  },
  {
   "cell_type": "code",
   "execution_count": 43,
   "id": "056d1de3-299a-484c-a151-320e9ddb9d15",
   "metadata": {},
   "outputs": [
    {
     "data": {
      "image/png": "[encoded data removed]",
      "text/plain": [
       "<Figure size 640x480 with 1 Axes>"
      ]
     },
     "metadata": {},
     "output_type": "display_data"
    }
   ],
   "source": [
    "matplotlib_venn.venn3([asd_uniprot_set, allosite_uniprot_set, allositepro_uniprot_set], ['ASD', 'Allosite', 'AllositePro']);"
   ]
  },
  {
   "cell_type": "code",
   "execution_count": 44,
   "id": "0cb30746-d1fd-4bf0-a115-add0123f267b",
   "metadata": {},
   "outputs": [
    {
     "data": {
      "text/html": [
       "<div>\n",
       "<style scoped>\n",
       "    .dataframe tbody tr th:only-of-type {\n",
       "        vertical-align: middle;\n",
       "    }\n",
       "\n",
       "    .dataframe tbody tr th {\n",
       "        vertical-align: top;\n",
       "    }\n",
       "\n",
       "    .dataframe thead th {\n",
       "        text-align: right;\n",
       "    }\n",
       "</style>\n",
       "<table border=\"1\" class=\"dataframe\">\n",
       "  <thead>\n",
       "    <tr style=\"text-align: right;\">\n",
       "      <th></th>\n",
       "      <th>pdb_id</th>\n",
       "      <th>uniprot_id</th>\n",
       "      <th>allo</th>\n",
       "      <th>allopred</th>\n",
       "      <th>allosite</th>\n",
       "      <th>allositepro</th>\n",
       "      <th>asd90</th>\n",
       "      <th>passer_ensemble</th>\n",
       "      <th>passer_automl</th>\n",
       "      <th>passer_rank</th>\n",
       "    </tr>\n",
       "  </thead>\n",
       "  <tbody>\n",
       "    <tr>\n",
       "      <th>0</th>\n",
       "      <td>11BG</td>\n",
       "      <td>P00669</td>\n",
       "      <td>True</td>\n",
       "      <td>True</td>\n",
       "      <td>False</td>\n",
       "      <td>True</td>\n",
       "      <td>False</td>\n",
       "      <td>False</td>\n",
       "      <td>True</td>\n",
       "      <td>True</td>\n",
       "    </tr>\n",
       "    <tr>\n",
       "      <th>1</th>\n",
       "      <td>1AO0</td>\n",
       "      <td>P00497</td>\n",
       "      <td>False</td>\n",
       "      <td>False</td>\n",
       "      <td>True</td>\n",
       "      <td>False</td>\n",
       "      <td>True</td>\n",
       "      <td>True</td>\n",
       "      <td>False</td>\n",
       "      <td>False</td>\n",
       "    </tr>\n",
       "    <tr>\n",
       "      <th>2</th>\n",
       "      <td>1B86</td>\n",
       "      <td>P68871</td>\n",
       "      <td>True</td>\n",
       "      <td>True</td>\n",
       "      <td>False</td>\n",
       "      <td>True</td>\n",
       "      <td>False</td>\n",
       "      <td>False</td>\n",
       "      <td>False</td>\n",
       "      <td>False</td>\n",
       "    </tr>\n",
       "    <tr>\n",
       "      <th>3</th>\n",
       "      <td>1BJ4</td>\n",
       "      <td>P34896</td>\n",
       "      <td>False</td>\n",
       "      <td>False</td>\n",
       "      <td>False</td>\n",
       "      <td>False</td>\n",
       "      <td>False</td>\n",
       "      <td>False</td>\n",
       "      <td>True</td>\n",
       "      <td>True</td>\n",
       "    </tr>\n",
       "    <tr>\n",
       "      <th>4</th>\n",
       "      <td>1CE8</td>\n",
       "      <td>P00968</td>\n",
       "      <td>True</td>\n",
       "      <td>True</td>\n",
       "      <td>True</td>\n",
       "      <td>True</td>\n",
       "      <td>True</td>\n",
       "      <td>True</td>\n",
       "      <td>True</td>\n",
       "      <td>True</td>\n",
       "    </tr>\n",
       "    <tr>\n",
       "      <th>...</th>\n",
       "      <td>...</td>\n",
       "      <td>...</td>\n",
       "      <td>...</td>\n",
       "      <td>...</td>\n",
       "      <td>...</td>\n",
       "      <td>...</td>\n",
       "      <td>...</td>\n",
       "      <td>...</td>\n",
       "      <td>...</td>\n",
       "      <td>...</td>\n",
       "    </tr>\n",
       "    <tr>\n",
       "      <th>361</th>\n",
       "      <td>4TPT</td>\n",
       "      <td>P53671</td>\n",
       "      <td>False</td>\n",
       "      <td>False</td>\n",
       "      <td>False</td>\n",
       "      <td>False</td>\n",
       "      <td>False</td>\n",
       "      <td>False</td>\n",
       "      <td>True</td>\n",
       "      <td>True</td>\n",
       "    </tr>\n",
       "    <tr>\n",
       "      <th>362</th>\n",
       "      <td>4TQC</td>\n",
       "      <td>P06730</td>\n",
       "      <td>False</td>\n",
       "      <td>False</td>\n",
       "      <td>False</td>\n",
       "      <td>False</td>\n",
       "      <td>False</td>\n",
       "      <td>False</td>\n",
       "      <td>True</td>\n",
       "      <td>True</td>\n",
       "    </tr>\n",
       "    <tr>\n",
       "      <th>363</th>\n",
       "      <td>4TVG</td>\n",
       "      <td>Q90EA1</td>\n",
       "      <td>False</td>\n",
       "      <td>False</td>\n",
       "      <td>False</td>\n",
       "      <td>False</td>\n",
       "      <td>False</td>\n",
       "      <td>False</td>\n",
       "      <td>True</td>\n",
       "      <td>True</td>\n",
       "    </tr>\n",
       "    <tr>\n",
       "      <th>364</th>\n",
       "      <td>4UUU</td>\n",
       "      <td>P35520</td>\n",
       "      <td>False</td>\n",
       "      <td>False</td>\n",
       "      <td>False</td>\n",
       "      <td>False</td>\n",
       "      <td>False</td>\n",
       "      <td>False</td>\n",
       "      <td>True</td>\n",
       "      <td>True</td>\n",
       "    </tr>\n",
       "    <tr>\n",
       "      <th>365</th>\n",
       "      <td>6DHM</td>\n",
       "      <td>P00366</td>\n",
       "      <td>True</td>\n",
       "      <td>False</td>\n",
       "      <td>False</td>\n",
       "      <td>True</td>\n",
       "      <td>False</td>\n",
       "      <td>False</td>\n",
       "      <td>False</td>\n",
       "      <td>False</td>\n",
       "    </tr>\n",
       "  </tbody>\n",
       "</table>\n",
       "<p>366 rows × 10 columns</p>\n",
       "</div>"
      ],
      "text/plain": [
       "    pdb_id uniprot_id   allo allopred allosite allositepro  asd90  \\\n",
       "0     11BG     P00669   True     True    False        True  False   \n",
       "1     1AO0     P00497  False    False     True       False   True   \n",
       "2     1B86     P68871   True     True    False        True  False   \n",
       "3     1BJ4     P34896  False    False    False       False  False   \n",
       "4     1CE8     P00968   True     True     True        True   True   \n",
       "..     ...        ...    ...      ...      ...         ...    ...   \n",
       "361   4TPT     P53671  False    False    False       False  False   \n",
       "362   4TQC     P06730  False    False    False       False  False   \n",
       "363   4TVG     Q90EA1  False    False    False       False  False   \n",
       "364   4UUU     P35520  False    False    False       False  False   \n",
       "365   6DHM     P00366   True    False    False        True  False   \n",
       "\n",
       "    passer_ensemble passer_automl passer_rank  \n",
       "0             False          True        True  \n",
       "1              True         False       False  \n",
       "2             False         False       False  \n",
       "3             False          True        True  \n",
       "4              True          True        True  \n",
       "..              ...           ...         ...  \n",
       "361           False          True        True  \n",
       "362           False          True        True  \n",
       "363           False          True        True  \n",
       "364           False          True        True  \n",
       "365           False         False       False  \n",
       "\n",
       "[366 rows x 10 columns]"
      ]
     },
     "execution_count": 44,
     "metadata": {},
     "output_type": "execute_result"
    }
   ],
   "source": [
    "df_allosite['asd90'] = True\n",
    "df_allosite['allosite'] = True\n",
    "df_allosite['passer_ensemble'] = True\n",
    "\n",
    "df_allo['allo'] = True\n",
    "df_combined = df_allosite.merge(df_allo, how='outer')\n",
    "\n",
    "df_allositepro['allositepro'] = True\n",
    "df_combined = df_combined.merge(df_allositepro, how='outer')\n",
    "\n",
    "df_allopred['allopred'] = True\n",
    "df_combined = df_combined.merge(df_allopred, how='outer')\n",
    "\n",
    "df_passer['passer_automl'] = True\n",
    "df_passer['passer_rank'] = True\n",
    "df_combined = df_combined.merge(df_passer, how='outer')\n",
    "\n",
    "df_combined.fillna('False', inplace=True)\n",
    "df_combined[['pdb_id', 'uniprot_id', 'allo', 'allopred', 'allosite', 'allositepro', 'asd90', 'passer_ensemble', 'passer_automl', 'passer_rank']]"
   ]
  },
  {
   "cell_type": "code",
   "execution_count": 45,
   "id": "8adc9752-1b12-4367-bf12-6eeb3bb5a061",
   "metadata": {},
   "outputs": [
    {
     "name": "stdout",
     "output_type": "stream",
     "text": [
      "Number of Rows:              366\n",
      "Number of Unique PDB IDs:    360\n",
      "Number of Unique UniProt AC: 268\n"
     ]
    }
   ],
   "source": [
    "print('Number of Rows:             ', df_combined.shape[0])\n",
    "print('Number of Unique PDB IDs:   ', df_combined['pdb_id'].nunique())\n",
    "print('Number of Unique UniProt AC:', df_combined['uniprot_id'].nunique())"
   ]
  },
  {
   "cell_type": "code",
   "execution_count": 46,
   "id": "881ecb66-91ca-437f-b6aa-5589343bb79a",
   "metadata": {},
   "outputs": [],
   "source": [
    "df_combined.to_csv('../output/Proteins_in_Training_Sets.csv', index=False)"
   ]
  }
 ],
 "metadata": {
  "kernelspec": {
   "display_name": "Python 3 (ipykernel)",
   "language": "python",
   "name": "python3"
  },
  "language_info": {
   "codemirror_mode": {
    "name": "ipython",
    "version": 3
   },
   "file_extension": ".py",
   "mimetype": "text/x-python",
   "name": "python",
   "nbconvert_exporter": "python",
   "pygments_lexer": "ipython3",
   "version": "3.12.3"
  }
 },
 "nbformat": 4,
 "nbformat_minor": 5
}
